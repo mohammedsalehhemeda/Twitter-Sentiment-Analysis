{
 "cells": [
  {
   "cell_type": "markdown",
   "metadata": {
    "id": "ACp9s9PJXIWK"
   },
   "source": [
    "# Twitter Sentiment Analysis"
   ]
  },
  {
   "cell_type": "markdown",
   "metadata": {
    "id": "13M67WhYXIWQ"
   },
   "source": [
    "# Required Libraries"
   ]
  },
  {
   "cell_type": "code",
   "execution_count": null,
   "metadata": {
    "colab": {
     "base_uri": "https://localhost:8080/"
    },
    "id": "q5ozVE_9XIWT",
    "outputId": "58f7e799-b7db-40d8-ca33-0651f8e4ef21"
   },
   "outputs": [
    {
     "name": "stderr",
     "output_type": "stream",
     "text": [
      "/usr/local/lib/python3.7/dist-packages/ipykernel_launcher.py:8: FutureWarning: Passing a negative integer is deprecated in version 1.0 and will not be supported in future version. Instead, use None to not limit the column width.\n",
      "  \n"
     ]
    }
   ],
   "source": [
    "from textblob import TextBlob\n",
    "import sys\n",
    "import tweepy\n",
    "import matplotlib.pyplot as plt\n",
    "\n",
    "import numpy as np \n",
    "import pandas as pd \n",
    "pd.set_option('display.max_colwidth', -1)\n",
    "from time import time\n",
    "import re\n",
    "import string\n",
    "import os\n",
    "import emoji\n",
    "from pprint import pprint\n",
    "import collections\n",
    "\n",
    "import matplotlib.pyplot as plt\n",
    "\n",
    "\n",
    "from sklearn.base import BaseEstimator, TransformerMixin\n",
    "from sklearn.feature_extraction.text import CountVectorizer\n",
    "from sklearn.feature_extraction.text import TfidfVectorizer\n",
    "from sklearn.model_selection import GridSearchCV\n",
    "from sklearn.model_selection import train_test_split\n",
    "from sklearn.pipeline import Pipeline, FeatureUnion\n",
    "from sklearn.metrics import classification_report\n",
    "\n",
    "from sklearn.naive_bayes import MultinomialNB\n",
    "from sklearn.linear_model import LogisticRegression\n",
    "\n",
    "from nltk.corpus import stopwords\n",
    "from nltk.stem import PorterStemmer\n",
    "from nltk.tokenize import word_tokenize\n",
    "\n",
    "import warnings\n",
    "warnings.filterwarnings('ignore')\n",
    "\n",
    "np.random.seed(37)"
   ]
  },
  {
   "cell_type": "markdown",
   "metadata": {
    "id": "Y03t8daeurk9"
   },
   "source": [
    "# Downloading tweets using Tweepy API"
   ]
  },
  {
   "cell_type": "code",
   "execution_count": null,
   "metadata": {
    "id": "bhldhzh8XIWT"
   },
   "outputs": [],
   "source": [
    "# Importing the keys from twitter api account#\n",
    "consumerKey = \"\"\n",
    "consumerSecret = \"\"\n",
    "accessToken = \"\"\n",
    "accessTokenSecret = \"\""
   ]
  },
  {
   "cell_type": "code",
   "execution_count": null,
   "metadata": {
    "id": "6Q3aEMcyXIWT"
   },
   "outputs": [],
   "source": [
    "# Establish the connection with API #\n",
    "auth = tweepy.OAuthHandler(consumerKey, consumerSecret)\n",
    "auth.set_access_token(accessToken, accessTokenSecret)\n",
    "api = tweepy.API(auth)"
   ]
  },
  {
   "cell_type": "code",
   "execution_count": null,
   "metadata": {
    "colab": {
     "base_uri": "https://localhost:8080/"
    },
    "id": "E5-4na6zKpYx",
    "outputId": "c93809c2-393c-47c2-90dd-d85833fc3515"
   },
   "outputs": [
    {
     "name": "stdout",
     "output_type": "stream",
     "text": [
      "Enter Keyword/Tag to search about: covid vaccine\n",
      "Enter how many tweets to search: 100\n"
     ]
    }
   ],
   "source": [
    "searchTerm = input(\"Enter Keyword/Tag to search about: \")\n",
    "NoOfTerms = int(input(\"Enter how many tweets to search: \"))"
   ]
  },
  {
   "cell_type": "code",
   "execution_count": null,
   "metadata": {
    "id": "TyLRUfidsSAN"
   },
   "outputs": [],
   "source": [
    "#tweets = tweepy.Cursor(api.search, q=searchTerm, countryCode ='UAE', lang = \"en\").items(NoOfTerms)\n",
    "tweets = tweepy.Cursor(api.search, q=searchTerm, lang = \"en\").items(NoOfTerms)\n",
    "\n",
    "#ttweetss = tweepy.Cursor(api.search, q=\"covid uae tourism\", tweet_mode='extended', lang = \"en\").items(1000)\n",
    "\n"
   ]
  },
  {
   "cell_type": "code",
   "execution_count": null,
   "metadata": {
    "colab": {
     "base_uri": "https://localhost:8080/",
     "height": 191
    },
    "id": "oOUhInSfzDnx",
    "outputId": "f7eba0cd-69e0-4076-9d1d-b7e055f923c5"
   },
   "outputs": [
    {
     "data": {
      "text/html": [
       "<div>\n",
       "<style scoped>\n",
       "    .dataframe tbody tr th:only-of-type {\n",
       "        vertical-align: middle;\n",
       "    }\n",
       "\n",
       "    .dataframe tbody tr th {\n",
       "        vertical-align: top;\n",
       "    }\n",
       "\n",
       "    .dataframe thead th {\n",
       "        text-align: right;\n",
       "    }\n",
       "</style>\n",
       "<table border=\"1\" class=\"dataframe\">\n",
       "  <thead>\n",
       "    <tr style=\"text-align: right;\">\n",
       "      <th></th>\n",
       "      <th>0</th>\n",
       "      <th>Time</th>\n",
       "    </tr>\n",
       "  </thead>\n",
       "  <tbody>\n",
       "    <tr>\n",
       "      <th>95</th>\n",
       "      <td>@hunterE_RS3 @igloosunday @cspan @RandPaul Their are variants because the covid 19 is still around and is mutating.… https://t.co/rJPJOsQAHM</td>\n",
       "      <td>2021-03-20 15:57:29</td>\n",
       "    </tr>\n",
       "    <tr>\n",
       "      <th>96</th>\n",
       "      <td>RT @Covid19Joker: A year into this shitstorm and I've not had COVID, not taken a test and not had a vaccine. Can't be many of us out there…</td>\n",
       "      <td>2021-03-20 15:57:27</td>\n",
       "    </tr>\n",
       "    <tr>\n",
       "      <th>97</th>\n",
       "      <td>RT @mmurphrodrigues: Thanks @Merrimack for hosting the @north_andover over 75 second Covid vaccine clinic today! So thankful for your partn…</td>\n",
       "      <td>2021-03-20 15:57:27</td>\n",
       "    </tr>\n",
       "    <tr>\n",
       "      <th>98</th>\n",
       "      <td>@BcNige @LukeRobertMason the dim-witted are with us, everyone. Before the Flu vaccine in 1919-20 Million's died of… https://t.co/4gmYHlSji3</td>\n",
       "      <td>2021-03-20 15:57:26</td>\n",
       "    </tr>\n",
       "    <tr>\n",
       "      <th>99</th>\n",
       "      <td>RT @CDCgov: #COVID19 vaccines are safe and effective. \\n \\nMore than 73 million people have already received COVID-19 vaccines, which are und…</td>\n",
       "      <td>2021-03-20 15:57:26</td>\n",
       "    </tr>\n",
       "  </tbody>\n",
       "</table>\n",
       "</div>"
      ],
      "text/plain": [
       "                                                                                                                                                 0                Time\n",
       "95  @hunterE_RS3 @igloosunday @cspan @RandPaul Their are variants because the covid 19 is still around and is mutating.… https://t.co/rJPJOsQAHM   2021-03-20 15:57:29\n",
       "96  RT @Covid19Joker: A year into this shitstorm and I've not had COVID, not taken a test and not had a vaccine. Can't be many of us out there…    2021-03-20 15:57:27\n",
       "97  RT @mmurphrodrigues: Thanks @Merrimack for hosting the @north_andover over 75 second Covid vaccine clinic today! So thankful for your partn…   2021-03-20 15:57:27\n",
       "98  @BcNige @LukeRobertMason the dim-witted are with us, everyone. Before the Flu vaccine in 1919-20 Million's died of… https://t.co/4gmYHlSji3    2021-03-20 15:57:26\n",
       "99  RT @CDCgov: #COVID19 vaccines are safe and effective. \\n \\nMore than 73 million people have already received COVID-19 vaccines, which are und… 2021-03-20 15:57:26"
      ]
     },
     "execution_count": 7,
     "metadata": {
      "tags": []
     },
     "output_type": "execute_result"
    }
   ],
   "source": [
    "import pandas as pd\n",
    "\n",
    "tweets_list = []\n",
    "tweets_time = []\n",
    "\n",
    "for t in tweets:\n",
    "\n",
    "  tweets_list.append(t.text)\n",
    "  tweets_time.append(t.created_at)\n",
    "\n",
    "df = pd.DataFrame(tweets_list)\n",
    "df['Time'] = pd.DataFrame(tweets_time)\n",
    "df.tail()"
   ]
  },
  {
   "cell_type": "markdown",
   "metadata": {
    "id": "3bGSUYtxvryx"
   },
   "source": [
    "# Data Preprocessing:\n",
    "\n",
    "1- Removing Punctuations\n",
    "\n",
    "2- Removing tokens which are not alphabetic\n",
    "\n",
    "3- Stopwords Removal: A stop word is a commonly used word (such as “the”, “a”, “an”, “in”)\n",
    "\n",
    "4- Removing Mentions\n",
    "\n",
    "5- Removing URLs\n",
    "\n",
    "6- Removing Emojis\n",
    "\n",
    "7- Removing RT\n",
    "\n",
    "8- Lowering Case of all words\n",
    "\n",
    "9- Tokenizing.\n",
    "\n",
    "10- Stemming all words"
   ]
  },
  {
   "cell_type": "code",
   "execution_count": null,
   "metadata": {
    "colab": {
     "base_uri": "https://localhost:8080/"
    },
    "id": "V7K-eLt6146d",
    "outputId": "c184ba89-93dd-45a3-b4c1-c11674ce318e"
   },
   "outputs": [
    {
     "name": "stdout",
     "output_type": "stream",
     "text": [
      "[nltk_data] Downloading package stopwords to /root/nltk_data...\n",
      "[nltk_data]   Unzipping corpora/stopwords.zip.\n",
      "[nltk_data] Downloading package punkt to /root/nltk_data...\n",
      "[nltk_data]   Unzipping tokenizers/punkt.zip.\n"
     ]
    }
   ],
   "source": [
    "import re\n",
    "import nltk\n",
    "import string\n",
    "from nltk.tokenize import word_tokenize\n",
    "from nltk.corpus import stopwords\n",
    "nltk.download('stopwords')\n",
    "nltk.download('punkt')\n",
    "\n",
    "def remove_mentions(input_text):\n",
    "  return re.sub(r'@\\w+', '', input_text)\n",
    "\n",
    "def remove_urls(input_text):\n",
    "  return re.sub(r'http.?://[^\\s]+[\\s]?', '', input_text)\n",
    "\n",
    "def emoji_oneword(input_text):\n",
    "  # By compressing the underscore, the emoji is kept as one word\n",
    "  return input_text.replace('_','')\n",
    "\n",
    "def remove_punctuation(input_text):\n",
    "  # Make translation table\n",
    "  punct = string.punctuation\n",
    "  trantab = str.maketrans(punct, len(punct)*' ')  # Every punctuation symbol will be replaced by a space\n",
    "  return input_text.translate(trantab)\n",
    "\n",
    "def remove_digits(input_text):\n",
    "  return re.sub('\\d+', '', input_text)\n",
    "\n",
    "def remove_retweet(input_text):\n",
    "  return re.sub('rt', '', input_text)\n",
    "\n",
    "def to_lower(input_text):\n",
    "  return input_text.lower()\n",
    "\n",
    "def remove_stopwords(input_text):\n",
    "  stopwords_list = stopwords.words('english')\n",
    "  # Some words which might indicate a certain sentiment are kept via a whitelist\n",
    "  whitelist = [\"n't\", \"not\", \"no\"]\n",
    "  words = input_text.split() \n",
    "  clean_words = [word for word in words if (word not in stopwords_list or word in whitelist) and len(word) > 1] \n",
    "  return \" \".join(clean_words) \n",
    "\n",
    "def stemming(input_text):\n",
    "  porter = PorterStemmer()\n",
    "  words = input_text.split() \n",
    "  stemmed_words = [porter.stem(word) for word in words]\n",
    "  return \" \".join(stemmed_words)\n",
    "\n",
    "def fit(X, y=None, **fit_params):\n",
    "  return self\n",
    "\n",
    "\n",
    "def text_clean(X):\n",
    "  clean_X = remove_mentions(X)\n",
    "  clean_X = remove_urls(clean_X)\n",
    "  clean_X = emoji_oneword(clean_X)\n",
    "  clean_X = remove_punctuation(clean_X)\n",
    "  clean_X = remove_digits(clean_X)\n",
    "  clean_X = to_lower(clean_X)\n",
    "  clean_X = remove_stopwords(clean_X)\n",
    "  clean_X = remove_retweet(clean_X)\n",
    "  return clean_X"
   ]
  },
  {
   "cell_type": "code",
   "execution_count": null,
   "metadata": {
    "colab": {
     "base_uri": "https://localhost:8080/"
    },
    "id": "0tKk5kfS2S-q",
    "outputId": "4f391278-f0eb-45f4-cfb7-654e7ce8f752"
   },
   "outputs": [
    {
     "data": {
      "application/vnd.google.colaboratory.intrinsic+json": {
       "type": "string"
      },
      "text/plain": [
       "' nobody inspired covid vaccine hesitancy anthony fauci'"
      ]
     },
     "execution_count": 13,
     "metadata": {
      "tags": []
     },
     "output_type": "execute_result"
    }
   ],
   "source": [
    "df['Cleaned'] = df['Text'].apply(text_clean)\n",
    "df['Cleaned'][0]"
   ]
  },
  {
   "cell_type": "code",
   "execution_count": null,
   "metadata": {
    "colab": {
     "base_uri": "https://localhost:8080/"
    },
    "id": "xUxqYhDS2UgM",
    "outputId": "c783d89b-6294-4b84-c231-84f721c96a7a"
   },
   "outputs": [
    {
     "data": {
      "text/html": [
       "<div>\n",
       "<style scoped>\n",
       "    .dataframe tbody tr th:only-of-type {\n",
       "        vertical-align: middle;\n",
       "    }\n",
       "\n",
       "    .dataframe tbody tr th {\n",
       "        vertical-align: top;\n",
       "    }\n",
       "\n",
       "    .dataframe thead th {\n",
       "        text-align: right;\n",
       "    }\n",
       "</style>\n",
       "<table border=\"1\" class=\"dataframe\">\n",
       "  <thead>\n",
       "    <tr style=\"text-align: right;\">\n",
       "      <th></th>\n",
       "      <th>0</th>\n",
       "      <th>Time</th>\n",
       "      <th>Text</th>\n",
       "      <th>Cleaned</th>\n",
       "    </tr>\n",
       "  </thead>\n",
       "  <tbody>\n",
       "    <tr>\n",
       "      <th>95</th>\n",
       "      <td>@hunterE_RS3 @igloosunday @cspan @RandPaul Their are variants because the covid 19 is still around and is mutating.… https://t.co/rJPJOsQAHM</td>\n",
       "      <td>2021-03-20 15:57:29</td>\n",
       "      <td>@hunterE_RS3 @igloosunday @cspan @RandPaul Their are variants because the covid 19 is still around and is mutating.… https://t.co/rJPJOsQAHM</td>\n",
       "      <td>variants covid still around mutating</td>\n",
       "    </tr>\n",
       "    <tr>\n",
       "      <th>96</th>\n",
       "      <td>RT @Covid19Joker: A year into this shitstorm and I've not had COVID, not taken a test and not had a vaccine. Can't be many of us out there…</td>\n",
       "      <td>2021-03-20 15:57:27</td>\n",
       "      <td>RT @Covid19Joker: A year into this shitstorm and I've not had COVID, not taken a test and not had a vaccine. Can't be many of us out there…</td>\n",
       "      <td>year shitstorm not covid not taken test not vaccine many us there…</td>\n",
       "    </tr>\n",
       "    <tr>\n",
       "      <th>97</th>\n",
       "      <td>RT @mmurphrodrigues: Thanks @Merrimack for hosting the @north_andover over 75 second Covid vaccine clinic today! So thankful for your partn…</td>\n",
       "      <td>2021-03-20 15:57:27</td>\n",
       "      <td>RT @mmurphrodrigues: Thanks @Merrimack for hosting the @north_andover over 75 second Covid vaccine clinic today! So thankful for your partn…</td>\n",
       "      <td>thanks hosting second covid vaccine clinic today thankful pan…</td>\n",
       "    </tr>\n",
       "    <tr>\n",
       "      <th>98</th>\n",
       "      <td>@BcNige @LukeRobertMason the dim-witted are with us, everyone. Before the Flu vaccine in 1919-20 Million's died of… https://t.co/4gmYHlSji3</td>\n",
       "      <td>2021-03-20 15:57:26</td>\n",
       "      <td>@BcNige @LukeRobertMason the dim-witted are with us, everyone. Before the Flu vaccine in 1919-20 Million's died of… https://t.co/4gmYHlSji3</td>\n",
       "      <td>dim witted us everyone flu vaccine million died of…</td>\n",
       "    </tr>\n",
       "    <tr>\n",
       "      <th>99</th>\n",
       "      <td>RT @CDCgov: #COVID19 vaccines are safe and effective. \\n \\nMore than 73 million people have already received COVID-19 vaccines, which are und…</td>\n",
       "      <td>2021-03-20 15:57:26</td>\n",
       "      <td>RT @CDCgov: #COVID19 vaccines are safe and effective. \\n \\nMore than 73 million people have already received COVID-19 vaccines, which are und…</td>\n",
       "      <td>covid vaccines safe effective million people already received covid vaccines und…</td>\n",
       "    </tr>\n",
       "  </tbody>\n",
       "</table>\n",
       "</div>"
      ],
      "text/plain": [
       "                                                                                                                                                 0  ...                                                                             Cleaned\n",
       "95  @hunterE_RS3 @igloosunday @cspan @RandPaul Their are variants because the covid 19 is still around and is mutating.… https://t.co/rJPJOsQAHM    ...  variants covid still around mutating                                              \n",
       "96  RT @Covid19Joker: A year into this shitstorm and I've not had COVID, not taken a test and not had a vaccine. Can't be many of us out there…     ...   year shitstorm not covid not taken test not vaccine many us there…               \n",
       "97  RT @mmurphrodrigues: Thanks @Merrimack for hosting the @north_andover over 75 second Covid vaccine clinic today! So thankful for your partn…    ...   thanks hosting second covid vaccine clinic today thankful pan…                   \n",
       "98  @BcNige @LukeRobertMason the dim-witted are with us, everyone. Before the Flu vaccine in 1919-20 Million's died of… https://t.co/4gmYHlSji3     ...  dim witted us everyone flu vaccine million died of…                               \n",
       "99  RT @CDCgov: #COVID19 vaccines are safe and effective. \\n \\nMore than 73 million people have already received COVID-19 vaccines, which are und…  ...   covid vaccines safe effective million people already received covid vaccines und…\n",
       "\n",
       "[5 rows x 4 columns]"
      ]
     },
     "execution_count": 14,
     "metadata": {
      "tags": []
     },
     "output_type": "execute_result"
    }
   ],
   "source": [
    "df.tail()"
   ]
  },
  {
   "cell_type": "code",
   "execution_count": null,
   "metadata": {
    "id": "6krgKFZU2UiW"
   },
   "outputs": [],
   "source": [
    "import string\n",
    "from nltk.tokenize import word_tokenize\n",
    "from nltk.corpus import stopwords\n",
    "\n",
    "train_data = list()\n",
    "\n",
    "lines = df['Cleaned'].values.tolist()\n",
    "\n",
    "for line in lines:\n",
    "  tokens = word_tokenize(line)  \n",
    "  train_data.append(tokens)"
   ]
  },
  {
   "cell_type": "code",
   "execution_count": null,
   "metadata": {
    "colab": {
     "base_uri": "https://localhost:8080/"
    },
    "id": "vG_3FciA2UlX",
    "outputId": "865788e5-68b6-4fb9-ccee-983021b4bec4"
   },
   "outputs": [
    {
     "data": {
      "text/plain": [
       "['nobody', 'inspired', 'covid', 'vaccine', 'hesitancy', 'anthony', 'fauci']"
      ]
     },
     "execution_count": 16,
     "metadata": {
      "tags": []
     },
     "output_type": "execute_result"
    }
   ],
   "source": [
    "train_data[0]"
   ]
  },
  {
   "cell_type": "code",
   "execution_count": null,
   "metadata": {
    "colab": {
     "base_uri": "https://localhost:8080/"
    },
    "id": "P0XuMChD2Uoc",
    "outputId": "cb79766d-d2a6-4002-f868-e5f7d630b5c5"
   },
   "outputs": [
    {
     "data": {
      "text/html": [
       "<div>\n",
       "<style scoped>\n",
       "    .dataframe tbody tr th:only-of-type {\n",
       "        vertical-align: middle;\n",
       "    }\n",
       "\n",
       "    .dataframe tbody tr th {\n",
       "        vertical-align: top;\n",
       "    }\n",
       "\n",
       "    .dataframe thead th {\n",
       "        text-align: right;\n",
       "    }\n",
       "</style>\n",
       "<table border=\"1\" class=\"dataframe\">\n",
       "  <thead>\n",
       "    <tr style=\"text-align: right;\">\n",
       "      <th></th>\n",
       "      <th>0</th>\n",
       "      <th>Time</th>\n",
       "      <th>Text</th>\n",
       "      <th>Cleaned</th>\n",
       "      <th>cleaned_reviews</th>\n",
       "    </tr>\n",
       "  </thead>\n",
       "  <tbody>\n",
       "    <tr>\n",
       "      <th>95</th>\n",
       "      <td>@hunterE_RS3 @igloosunday @cspan @RandPaul Their are variants because the covid 19 is still around and is mutating.… https://t.co/rJPJOsQAHM</td>\n",
       "      <td>2021-03-20 15:57:29</td>\n",
       "      <td>@hunterE_RS3 @igloosunday @cspan @RandPaul Their are variants because the covid 19 is still around and is mutating.… https://t.co/rJPJOsQAHM</td>\n",
       "      <td>variants covid still around mutating</td>\n",
       "      <td>[variants, covid, still, around, mutating]</td>\n",
       "    </tr>\n",
       "    <tr>\n",
       "      <th>96</th>\n",
       "      <td>RT @Covid19Joker: A year into this shitstorm and I've not had COVID, not taken a test and not had a vaccine. Can't be many of us out there…</td>\n",
       "      <td>2021-03-20 15:57:27</td>\n",
       "      <td>RT @Covid19Joker: A year into this shitstorm and I've not had COVID, not taken a test and not had a vaccine. Can't be many of us out there…</td>\n",
       "      <td>year shitstorm not covid not taken test not vaccine many us there…</td>\n",
       "      <td>[year, shitstorm, not, covid, not, taken, test, not, vaccine, many, us, there…]</td>\n",
       "    </tr>\n",
       "    <tr>\n",
       "      <th>97</th>\n",
       "      <td>RT @mmurphrodrigues: Thanks @Merrimack for hosting the @north_andover over 75 second Covid vaccine clinic today! So thankful for your partn…</td>\n",
       "      <td>2021-03-20 15:57:27</td>\n",
       "      <td>RT @mmurphrodrigues: Thanks @Merrimack for hosting the @north_andover over 75 second Covid vaccine clinic today! So thankful for your partn…</td>\n",
       "      <td>thanks hosting second covid vaccine clinic today thankful pan…</td>\n",
       "      <td>[thanks, hosting, second, covid, vaccine, clinic, today, thankful, pan…]</td>\n",
       "    </tr>\n",
       "    <tr>\n",
       "      <th>98</th>\n",
       "      <td>@BcNige @LukeRobertMason the dim-witted are with us, everyone. Before the Flu vaccine in 1919-20 Million's died of… https://t.co/4gmYHlSji3</td>\n",
       "      <td>2021-03-20 15:57:26</td>\n",
       "      <td>@BcNige @LukeRobertMason the dim-witted are with us, everyone. Before the Flu vaccine in 1919-20 Million's died of… https://t.co/4gmYHlSji3</td>\n",
       "      <td>dim witted us everyone flu vaccine million died of…</td>\n",
       "      <td>[dim, witted, us, everyone, flu, vaccine, million, died, of…]</td>\n",
       "    </tr>\n",
       "    <tr>\n",
       "      <th>99</th>\n",
       "      <td>RT @CDCgov: #COVID19 vaccines are safe and effective. \\n \\nMore than 73 million people have already received COVID-19 vaccines, which are und…</td>\n",
       "      <td>2021-03-20 15:57:26</td>\n",
       "      <td>RT @CDCgov: #COVID19 vaccines are safe and effective. \\n \\nMore than 73 million people have already received COVID-19 vaccines, which are und…</td>\n",
       "      <td>covid vaccines safe effective million people already received covid vaccines und…</td>\n",
       "      <td>[covid, vaccines, safe, effective, million, people, already, received, covid, vaccines, und…]</td>\n",
       "    </tr>\n",
       "  </tbody>\n",
       "</table>\n",
       "</div>"
      ],
      "text/plain": [
       "                                                                                                                                                 0  ...                                                                                cleaned_reviews\n",
       "95  @hunterE_RS3 @igloosunday @cspan @RandPaul Their are variants because the covid 19 is still around and is mutating.… https://t.co/rJPJOsQAHM    ...  [variants, covid, still, around, mutating]                                                   \n",
       "96  RT @Covid19Joker: A year into this shitstorm and I've not had COVID, not taken a test and not had a vaccine. Can't be many of us out there…     ...  [year, shitstorm, not, covid, not, taken, test, not, vaccine, many, us, there…]              \n",
       "97  RT @mmurphrodrigues: Thanks @Merrimack for hosting the @north_andover over 75 second Covid vaccine clinic today! So thankful for your partn…    ...  [thanks, hosting, second, covid, vaccine, clinic, today, thankful, pan…]                     \n",
       "98  @BcNige @LukeRobertMason the dim-witted are with us, everyone. Before the Flu vaccine in 1919-20 Million's died of… https://t.co/4gmYHlSji3     ...  [dim, witted, us, everyone, flu, vaccine, million, died, of…]                                \n",
       "99  RT @CDCgov: #COVID19 vaccines are safe and effective. \\n \\nMore than 73 million people have already received COVID-19 vaccines, which are und…  ...  [covid, vaccines, safe, effective, million, people, already, received, covid, vaccines, und…]\n",
       "\n",
       "[5 rows x 5 columns]"
      ]
     },
     "execution_count": 17,
     "metadata": {
      "tags": []
     },
     "output_type": "execute_result"
    }
   ],
   "source": [
    "df['cleaned_reviews'] = train_data\n",
    "df.tail()"
   ]
  },
  {
   "cell_type": "code",
   "execution_count": null,
   "metadata": {
    "colab": {
     "base_uri": "https://localhost:8080/"
    },
    "id": "RrN3ZeJtDFNI",
    "outputId": "2719297b-39e7-4fb6-ef0f-3cead11de5f7"
   },
   "outputs": [
    {
     "data": {
      "text/plain": [
       "['nobodi', 'inspir', 'covid', 'vaccin', 'hesit', 'anthoni', 'fauci']"
      ]
     },
     "execution_count": 18,
     "metadata": {
      "tags": []
     },
     "output_type": "execute_result"
    }
   ],
   "source": [
    "from nltk.stem.snowball import SnowballStemmer\n",
    "from nltk.stem import WordNetLemmatizer\n",
    "stemmer = SnowballStemmer('english')\n",
    "df['Stemmed'] = df['cleaned_reviews'].apply(lambda x: [stemmer.stem(y) for y in x])\n",
    "df['Stemmed'][0]"
   ]
  },
  {
   "cell_type": "code",
   "execution_count": null,
   "metadata": {
    "colab": {
     "base_uri": "https://localhost:8080/"
    },
    "id": "cSwJKOomDFPY",
    "outputId": "db1301da-adef-44ec-8298-271a70545607"
   },
   "outputs": [
    {
     "data": {
      "text/html": [
       "<div>\n",
       "<style scoped>\n",
       "    .dataframe tbody tr th:only-of-type {\n",
       "        vertical-align: middle;\n",
       "    }\n",
       "\n",
       "    .dataframe tbody tr th {\n",
       "        vertical-align: top;\n",
       "    }\n",
       "\n",
       "    .dataframe thead th {\n",
       "        text-align: right;\n",
       "    }\n",
       "</style>\n",
       "<table border=\"1\" class=\"dataframe\">\n",
       "  <thead>\n",
       "    <tr style=\"text-align: right;\">\n",
       "      <th></th>\n",
       "      <th>0</th>\n",
       "      <th>Time</th>\n",
       "      <th>Text</th>\n",
       "      <th>Cleaned</th>\n",
       "      <th>cleaned_reviews</th>\n",
       "      <th>Stemmed</th>\n",
       "      <th>StemmedJoined</th>\n",
       "    </tr>\n",
       "  </thead>\n",
       "  <tbody>\n",
       "    <tr>\n",
       "      <th>95</th>\n",
       "      <td>@hunterE_RS3 @igloosunday @cspan @RandPaul Their are variants because the covid 19 is still around and is mutating.… https://t.co/rJPJOsQAHM</td>\n",
       "      <td>2021-03-20 15:57:29</td>\n",
       "      <td>@hunterE_RS3 @igloosunday @cspan @RandPaul Their are variants because the covid 19 is still around and is mutating.… https://t.co/rJPJOsQAHM</td>\n",
       "      <td>variants covid still around mutating</td>\n",
       "      <td>[variants, covid, still, around, mutating]</td>\n",
       "      <td>[variant, covid, still, around, mutat]</td>\n",
       "      <td>variant covid still around mutat</td>\n",
       "    </tr>\n",
       "    <tr>\n",
       "      <th>96</th>\n",
       "      <td>RT @Covid19Joker: A year into this shitstorm and I've not had COVID, not taken a test and not had a vaccine. Can't be many of us out there…</td>\n",
       "      <td>2021-03-20 15:57:27</td>\n",
       "      <td>RT @Covid19Joker: A year into this shitstorm and I've not had COVID, not taken a test and not had a vaccine. Can't be many of us out there…</td>\n",
       "      <td>year shitstorm not covid not taken test not vaccine many us there…</td>\n",
       "      <td>[year, shitstorm, not, covid, not, taken, test, not, vaccine, many, us, there…]</td>\n",
       "      <td>[year, shitstorm, not, covid, not, taken, test, not, vaccin, mani, us, there…]</td>\n",
       "      <td>year shitstorm not covid not taken test not vaccin mani us there…</td>\n",
       "    </tr>\n",
       "    <tr>\n",
       "      <th>97</th>\n",
       "      <td>RT @mmurphrodrigues: Thanks @Merrimack for hosting the @north_andover over 75 second Covid vaccine clinic today! So thankful for your partn…</td>\n",
       "      <td>2021-03-20 15:57:27</td>\n",
       "      <td>RT @mmurphrodrigues: Thanks @Merrimack for hosting the @north_andover over 75 second Covid vaccine clinic today! So thankful for your partn…</td>\n",
       "      <td>thanks hosting second covid vaccine clinic today thankful pan…</td>\n",
       "      <td>[thanks, hosting, second, covid, vaccine, clinic, today, thankful, pan…]</td>\n",
       "      <td>[thank, host, second, covid, vaccin, clinic, today, thank, pan…]</td>\n",
       "      <td>thank host second covid vaccin clinic today thank pan…</td>\n",
       "    </tr>\n",
       "    <tr>\n",
       "      <th>98</th>\n",
       "      <td>@BcNige @LukeRobertMason the dim-witted are with us, everyone. Before the Flu vaccine in 1919-20 Million's died of… https://t.co/4gmYHlSji3</td>\n",
       "      <td>2021-03-20 15:57:26</td>\n",
       "      <td>@BcNige @LukeRobertMason the dim-witted are with us, everyone. Before the Flu vaccine in 1919-20 Million's died of… https://t.co/4gmYHlSji3</td>\n",
       "      <td>dim witted us everyone flu vaccine million died of…</td>\n",
       "      <td>[dim, witted, us, everyone, flu, vaccine, million, died, of…]</td>\n",
       "      <td>[dim, wit, us, everyon, flu, vaccin, million, die, of…]</td>\n",
       "      <td>dim wit us everyon flu vaccin million die of…</td>\n",
       "    </tr>\n",
       "    <tr>\n",
       "      <th>99</th>\n",
       "      <td>RT @CDCgov: #COVID19 vaccines are safe and effective. \\n \\nMore than 73 million people have already received COVID-19 vaccines, which are und…</td>\n",
       "      <td>2021-03-20 15:57:26</td>\n",
       "      <td>RT @CDCgov: #COVID19 vaccines are safe and effective. \\n \\nMore than 73 million people have already received COVID-19 vaccines, which are und…</td>\n",
       "      <td>covid vaccines safe effective million people already received covid vaccines und…</td>\n",
       "      <td>[covid, vaccines, safe, effective, million, people, already, received, covid, vaccines, und…]</td>\n",
       "      <td>[covid, vaccin, safe, effect, million, peopl, alreadi, receiv, covid, vaccin, und…]</td>\n",
       "      <td>covid vaccin safe effect million peopl alreadi receiv covid vaccin und…</td>\n",
       "    </tr>\n",
       "  </tbody>\n",
       "</table>\n",
       "</div>"
      ],
      "text/plain": [
       "                                                                                                                                                 0  ...                                                            StemmedJoined\n",
       "95  @hunterE_RS3 @igloosunday @cspan @RandPaul Their are variants because the covid 19 is still around and is mutating.… https://t.co/rJPJOsQAHM    ...  variant covid still around mutat                                       \n",
       "96  RT @Covid19Joker: A year into this shitstorm and I've not had COVID, not taken a test and not had a vaccine. Can't be many of us out there…     ...  year shitstorm not covid not taken test not vaccin mani us there…      \n",
       "97  RT @mmurphrodrigues: Thanks @Merrimack for hosting the @north_andover over 75 second Covid vaccine clinic today! So thankful for your partn…    ...  thank host second covid vaccin clinic today thank pan…                 \n",
       "98  @BcNige @LukeRobertMason the dim-witted are with us, everyone. Before the Flu vaccine in 1919-20 Million's died of… https://t.co/4gmYHlSji3     ...  dim wit us everyon flu vaccin million die of…                          \n",
       "99  RT @CDCgov: #COVID19 vaccines are safe and effective. \\n \\nMore than 73 million people have already received COVID-19 vaccines, which are und…  ...  covid vaccin safe effect million peopl alreadi receiv covid vaccin und…\n",
       "\n",
       "[5 rows x 7 columns]"
      ]
     },
     "execution_count": 19,
     "metadata": {
      "tags": []
     },
     "output_type": "execute_result"
    }
   ],
   "source": [
    "df['StemmedJoined'] = df['Stemmed'].apply(' '.join)\n",
    "df.tail()"
   ]
  },
  {
   "cell_type": "markdown",
   "metadata": {
    "id": "Tdfbvqep0boV"
   },
   "source": [
    "Dropping identical tweets:"
   ]
  },
  {
   "cell_type": "code",
   "execution_count": null,
   "metadata": {
    "id": "t_Mn5r75K905"
   },
   "outputs": [],
   "source": [
    "df.drop_duplicates(subset='StemmedJoined',inplace=True)"
   ]
  },
  {
   "cell_type": "code",
   "execution_count": null,
   "metadata": {
    "colab": {
     "base_uri": "https://localhost:8080/"
    },
    "id": "WC8caGYbLgDr",
    "outputId": "0377a2eb-dafc-464d-edaa-44a10a851a49"
   },
   "outputs": [
    {
     "data": {
      "text/html": [
       "<div>\n",
       "<style scoped>\n",
       "    .dataframe tbody tr th:only-of-type {\n",
       "        vertical-align: middle;\n",
       "    }\n",
       "\n",
       "    .dataframe tbody tr th {\n",
       "        vertical-align: top;\n",
       "    }\n",
       "\n",
       "    .dataframe thead th {\n",
       "        text-align: right;\n",
       "    }\n",
       "</style>\n",
       "<table border=\"1\" class=\"dataframe\">\n",
       "  <thead>\n",
       "    <tr style=\"text-align: right;\">\n",
       "      <th></th>\n",
       "      <th>0</th>\n",
       "      <th>Time</th>\n",
       "      <th>Text</th>\n",
       "      <th>Cleaned</th>\n",
       "      <th>cleaned_reviews</th>\n",
       "      <th>Stemmed</th>\n",
       "      <th>StemmedJoined</th>\n",
       "    </tr>\n",
       "  </thead>\n",
       "  <tbody>\n",
       "    <tr>\n",
       "      <th>94</th>\n",
       "      <td>RT @nhsrcofficial: Prime Minister Imran Khan was not fully vaccinated when he contracted the virus. He only got the 1st dose and merely 2 d…</td>\n",
       "      <td>2021-03-20 15:57:29</td>\n",
       "      <td>RT @nhsrcofficial: Prime Minister Imran Khan was not fully vaccinated when he contracted the virus. He only got the 1st dose and merely 2 d…</td>\n",
       "      <td>prime minister imran khan not fully vaccinated contracted virus got st dose merely d…</td>\n",
       "      <td>[prime, minister, imran, khan, not, fully, vaccinated, contracted, virus, got, st, dose, merely, d…]</td>\n",
       "      <td>[prime, minist, imran, khan, not, fulli, vaccin, contract, virus, got, st, dose, mere, d…]</td>\n",
       "      <td>prime minist imran khan not fulli vaccin contract virus got st dose mere d…</td>\n",
       "    </tr>\n",
       "    <tr>\n",
       "      <th>95</th>\n",
       "      <td>@hunterE_RS3 @igloosunday @cspan @RandPaul Their are variants because the covid 19 is still around and is mutating.… https://t.co/rJPJOsQAHM</td>\n",
       "      <td>2021-03-20 15:57:29</td>\n",
       "      <td>@hunterE_RS3 @igloosunday @cspan @RandPaul Their are variants because the covid 19 is still around and is mutating.… https://t.co/rJPJOsQAHM</td>\n",
       "      <td>variants covid still around mutating</td>\n",
       "      <td>[variants, covid, still, around, mutating]</td>\n",
       "      <td>[variant, covid, still, around, mutat]</td>\n",
       "      <td>variant covid still around mutat</td>\n",
       "    </tr>\n",
       "    <tr>\n",
       "      <th>97</th>\n",
       "      <td>RT @mmurphrodrigues: Thanks @Merrimack for hosting the @north_andover over 75 second Covid vaccine clinic today! So thankful for your partn…</td>\n",
       "      <td>2021-03-20 15:57:27</td>\n",
       "      <td>RT @mmurphrodrigues: Thanks @Merrimack for hosting the @north_andover over 75 second Covid vaccine clinic today! So thankful for your partn…</td>\n",
       "      <td>thanks hosting second covid vaccine clinic today thankful pan…</td>\n",
       "      <td>[thanks, hosting, second, covid, vaccine, clinic, today, thankful, pan…]</td>\n",
       "      <td>[thank, host, second, covid, vaccin, clinic, today, thank, pan…]</td>\n",
       "      <td>thank host second covid vaccin clinic today thank pan…</td>\n",
       "    </tr>\n",
       "    <tr>\n",
       "      <th>98</th>\n",
       "      <td>@BcNige @LukeRobertMason the dim-witted are with us, everyone. Before the Flu vaccine in 1919-20 Million's died of… https://t.co/4gmYHlSji3</td>\n",
       "      <td>2021-03-20 15:57:26</td>\n",
       "      <td>@BcNige @LukeRobertMason the dim-witted are with us, everyone. Before the Flu vaccine in 1919-20 Million's died of… https://t.co/4gmYHlSji3</td>\n",
       "      <td>dim witted us everyone flu vaccine million died of…</td>\n",
       "      <td>[dim, witted, us, everyone, flu, vaccine, million, died, of…]</td>\n",
       "      <td>[dim, wit, us, everyon, flu, vaccin, million, die, of…]</td>\n",
       "      <td>dim wit us everyon flu vaccin million die of…</td>\n",
       "    </tr>\n",
       "    <tr>\n",
       "      <th>99</th>\n",
       "      <td>RT @CDCgov: #COVID19 vaccines are safe and effective. \\n \\nMore than 73 million people have already received COVID-19 vaccines, which are und…</td>\n",
       "      <td>2021-03-20 15:57:26</td>\n",
       "      <td>RT @CDCgov: #COVID19 vaccines are safe and effective. \\n \\nMore than 73 million people have already received COVID-19 vaccines, which are und…</td>\n",
       "      <td>covid vaccines safe effective million people already received covid vaccines und…</td>\n",
       "      <td>[covid, vaccines, safe, effective, million, people, already, received, covid, vaccines, und…]</td>\n",
       "      <td>[covid, vaccin, safe, effect, million, peopl, alreadi, receiv, covid, vaccin, und…]</td>\n",
       "      <td>covid vaccin safe effect million peopl alreadi receiv covid vaccin und…</td>\n",
       "    </tr>\n",
       "  </tbody>\n",
       "</table>\n",
       "</div>"
      ],
      "text/plain": [
       "                                                                                                                                                 0  ...                                                                StemmedJoined\n",
       "94  RT @nhsrcofficial: Prime Minister Imran Khan was not fully vaccinated when he contracted the virus. He only got the 1st dose and merely 2 d…    ...  prime minist imran khan not fulli vaccin contract virus got st dose mere d…\n",
       "95  @hunterE_RS3 @igloosunday @cspan @RandPaul Their are variants because the covid 19 is still around and is mutating.… https://t.co/rJPJOsQAHM    ...  variant covid still around mutat                                           \n",
       "97  RT @mmurphrodrigues: Thanks @Merrimack for hosting the @north_andover over 75 second Covid vaccine clinic today! So thankful for your partn…    ...  thank host second covid vaccin clinic today thank pan…                     \n",
       "98  @BcNige @LukeRobertMason the dim-witted are with us, everyone. Before the Flu vaccine in 1919-20 Million's died of… https://t.co/4gmYHlSji3     ...  dim wit us everyon flu vaccin million die of…                              \n",
       "99  RT @CDCgov: #COVID19 vaccines are safe and effective. \\n \\nMore than 73 million people have already received COVID-19 vaccines, which are und…  ...  covid vaccin safe effect million peopl alreadi receiv covid vaccin und…    \n",
       "\n",
       "[5 rows x 7 columns]"
      ]
     },
     "execution_count": 21,
     "metadata": {
      "tags": []
     },
     "output_type": "execute_result"
    }
   ],
   "source": [
    "df.tail()"
   ]
  },
  {
   "cell_type": "code",
   "execution_count": null,
   "metadata": {
    "colab": {
     "base_uri": "https://localhost:8080/"
    },
    "id": "ZrJXdtzaruMB",
    "outputId": "d894de9d-f270-4e36-b8ed-23fc7304424e"
   },
   "outputs": [
    {
     "data": {
      "text/html": [
       "<div>\n",
       "<style scoped>\n",
       "    .dataframe tbody tr th:only-of-type {\n",
       "        vertical-align: middle;\n",
       "    }\n",
       "\n",
       "    .dataframe tbody tr th {\n",
       "        vertical-align: top;\n",
       "    }\n",
       "\n",
       "    .dataframe thead th {\n",
       "        text-align: right;\n",
       "    }\n",
       "</style>\n",
       "<table border=\"1\" class=\"dataframe\">\n",
       "  <thead>\n",
       "    <tr style=\"text-align: right;\">\n",
       "      <th></th>\n",
       "      <th>0</th>\n",
       "      <th>Time</th>\n",
       "      <th>Text</th>\n",
       "      <th>Cleaned</th>\n",
       "      <th>cleaned_reviews</th>\n",
       "      <th>Stemmed</th>\n",
       "      <th>StemmedJoined</th>\n",
       "    </tr>\n",
       "  </thead>\n",
       "  <tbody>\n",
       "    <tr>\n",
       "      <th>94</th>\n",
       "      <td>RT @nhsrcofficial: Prime Minister Imran Khan was not fully vaccinated when he contracted the virus. He only got the 1st dose and merely 2 d…</td>\n",
       "      <td>2021-03-20 15:57:29</td>\n",
       "      <td>RT @nhsrcofficial: Prime Minister Imran Khan was not fully vaccinated when he contracted the virus. He only got the 1st dose and merely 2 d…</td>\n",
       "      <td>prime minister imran khan not fully vaccinated contracted virus got st dose merely d…</td>\n",
       "      <td>[prime, minister, imran, khan, not, fully, vaccinated, contracted, virus, got, st, dose, merely, d…]</td>\n",
       "      <td>[prime, minist, imran, khan, not, fulli, vaccin, contract, virus, got, st, dose, mere, d…]</td>\n",
       "      <td>prime minist imran khan not fulli vaccin contract virus got st dose mere d…</td>\n",
       "    </tr>\n",
       "    <tr>\n",
       "      <th>95</th>\n",
       "      <td>@hunterE_RS3 @igloosunday @cspan @RandPaul Their are variants because the covid 19 is still around and is mutating.… https://t.co/rJPJOsQAHM</td>\n",
       "      <td>2021-03-20 15:57:29</td>\n",
       "      <td>@hunterE_RS3 @igloosunday @cspan @RandPaul Their are variants because the covid 19 is still around and is mutating.… https://t.co/rJPJOsQAHM</td>\n",
       "      <td>variants covid still around mutating</td>\n",
       "      <td>[variants, covid, still, around, mutating]</td>\n",
       "      <td>[variant, covid, still, around, mutat]</td>\n",
       "      <td>variant covid still around mutat</td>\n",
       "    </tr>\n",
       "    <tr>\n",
       "      <th>97</th>\n",
       "      <td>RT @mmurphrodrigues: Thanks @Merrimack for hosting the @north_andover over 75 second Covid vaccine clinic today! So thankful for your partn…</td>\n",
       "      <td>2021-03-20 15:57:27</td>\n",
       "      <td>RT @mmurphrodrigues: Thanks @Merrimack for hosting the @north_andover over 75 second Covid vaccine clinic today! So thankful for your partn…</td>\n",
       "      <td>thanks hosting second covid vaccine clinic today thankful pan…</td>\n",
       "      <td>[thanks, hosting, second, covid, vaccine, clinic, today, thankful, pan…]</td>\n",
       "      <td>[thank, host, second, covid, vaccin, clinic, today, thank, pan…]</td>\n",
       "      <td>thank host second covid vaccin clinic today thank pan…</td>\n",
       "    </tr>\n",
       "    <tr>\n",
       "      <th>98</th>\n",
       "      <td>@BcNige @LukeRobertMason the dim-witted are with us, everyone. Before the Flu vaccine in 1919-20 Million's died of… https://t.co/4gmYHlSji3</td>\n",
       "      <td>2021-03-20 15:57:26</td>\n",
       "      <td>@BcNige @LukeRobertMason the dim-witted are with us, everyone. Before the Flu vaccine in 1919-20 Million's died of… https://t.co/4gmYHlSji3</td>\n",
       "      <td>dim witted us everyone flu vaccine million died of…</td>\n",
       "      <td>[dim, witted, us, everyone, flu, vaccine, million, died, of…]</td>\n",
       "      <td>[dim, wit, us, everyon, flu, vaccin, million, die, of…]</td>\n",
       "      <td>dim wit us everyon flu vaccin million die of…</td>\n",
       "    </tr>\n",
       "    <tr>\n",
       "      <th>99</th>\n",
       "      <td>RT @CDCgov: #COVID19 vaccines are safe and effective. \\n \\nMore than 73 million people have already received COVID-19 vaccines, which are und…</td>\n",
       "      <td>2021-03-20 15:57:26</td>\n",
       "      <td>RT @CDCgov: #COVID19 vaccines are safe and effective. \\n \\nMore than 73 million people have already received COVID-19 vaccines, which are und…</td>\n",
       "      <td>covid vaccines safe effective million people already received covid vaccines und…</td>\n",
       "      <td>[covid, vaccines, safe, effective, million, people, already, received, covid, vaccines, und…]</td>\n",
       "      <td>[covid, vaccin, safe, effect, million, peopl, alreadi, receiv, covid, vaccin, und…]</td>\n",
       "      <td>covid vaccin safe effect million peopl alreadi receiv covid vaccin und…</td>\n",
       "    </tr>\n",
       "  </tbody>\n",
       "</table>\n",
       "</div>"
      ],
      "text/plain": [
       "                                                                                                                                                 0  ...                                                                StemmedJoined\n",
       "94  RT @nhsrcofficial: Prime Minister Imran Khan was not fully vaccinated when he contracted the virus. He only got the 1st dose and merely 2 d…    ...  prime minist imran khan not fulli vaccin contract virus got st dose mere d…\n",
       "95  @hunterE_RS3 @igloosunday @cspan @RandPaul Their are variants because the covid 19 is still around and is mutating.… https://t.co/rJPJOsQAHM    ...  variant covid still around mutat                                           \n",
       "97  RT @mmurphrodrigues: Thanks @Merrimack for hosting the @north_andover over 75 second Covid vaccine clinic today! So thankful for your partn…    ...  thank host second covid vaccin clinic today thank pan…                     \n",
       "98  @BcNige @LukeRobertMason the dim-witted are with us, everyone. Before the Flu vaccine in 1919-20 Million's died of… https://t.co/4gmYHlSji3     ...  dim wit us everyon flu vaccin million die of…                              \n",
       "99  RT @CDCgov: #COVID19 vaccines are safe and effective. \\n \\nMore than 73 million people have already received COVID-19 vaccines, which are und…  ...  covid vaccin safe effect million peopl alreadi receiv covid vaccin und…    \n",
       "\n",
       "[5 rows x 7 columns]"
      ]
     },
     "execution_count": 22,
     "metadata": {
      "tags": []
     },
     "output_type": "execute_result"
    }
   ],
   "source": [
    "df.drop_duplicates(subset='Text',inplace=True)\n",
    "df.tail()"
   ]
  },
  {
   "cell_type": "markdown",
   "metadata": {
    "id": "n1YuF1wr308X"
   },
   "source": [
    "# Exporting to CSV"
   ]
  },
  {
   "cell_type": "code",
   "execution_count": null,
   "metadata": {
    "id": "XDRz-x-KyraD"
   },
   "outputs": [],
   "source": [
    "df.to_csv('vaccine.csv')"
   ]
  },
  {
   "cell_type": "markdown",
   "metadata": {
    "id": "1ofoI2vEXIWW"
   },
   "source": [
    "# Exploring the sentiment of tweets using TextBlob"
   ]
  },
  {
   "cell_type": "code",
   "execution_count": null,
   "metadata": {
    "id": "Uv7-zX_JL7pL"
   },
   "outputs": [],
   "source": [
    "NoOfTweets = len(df)"
   ]
  },
  {
   "cell_type": "code",
   "execution_count": null,
   "metadata": {
    "id": "ofdAXAKCDFRc"
   },
   "outputs": [],
   "source": [
    "def retrieving_tweets_polarity(tweets):\n",
    "\n",
    "    tweet_list = []\n",
    "    global_polarity = 0\n",
    "    for tweet in tweets:\n",
    "        blob = TextBlob(tweet)\n",
    "        polarity = 0\n",
    "        for sentence in blob.sentences:\n",
    "            polarity += sentence.sentiment.polarity\n",
    "            global_polarity += sentence.sentiment.polarity\n",
    "        tweet_list.append(polarity)\n",
    "\n",
    "    global_polarity = global_polarity / len(tweet_list)\n",
    "    return global_polarity, tweet_list"
   ]
  },
  {
   "cell_type": "code",
   "execution_count": null,
   "metadata": {
    "id": "HcS2G1OmDFUy"
   },
   "outputs": [],
   "source": [
    "pol, list_tweets = retrieving_tweets_polarity(df['StemmedJoined'])"
   ]
  },
  {
   "cell_type": "code",
   "execution_count": null,
   "metadata": {
    "id": "m_tOmz9AFU8w"
   },
   "outputs": [],
   "source": [
    "df['Polarity'] = list_tweets"
   ]
  },
  {
   "cell_type": "code",
   "execution_count": null,
   "metadata": {
    "colab": {
     "base_uri": "https://localhost:8080/",
     "height": 887
    },
    "id": "34jeH7uQFe2G",
    "outputId": "03ee24d7-6143-4b1e-cc89-53b282d8c39b"
   },
   "outputs": [
    {
     "data": {
      "text/html": [
       "<div>\n",
       "<style scoped>\n",
       "    .dataframe tbody tr th:only-of-type {\n",
       "        vertical-align: middle;\n",
       "    }\n",
       "\n",
       "    .dataframe tbody tr th {\n",
       "        vertical-align: top;\n",
       "    }\n",
       "\n",
       "    .dataframe thead th {\n",
       "        text-align: right;\n",
       "    }\n",
       "</style>\n",
       "<table border=\"1\" class=\"dataframe\">\n",
       "  <thead>\n",
       "    <tr style=\"text-align: right;\">\n",
       "      <th></th>\n",
       "      <th>0</th>\n",
       "      <th>Time</th>\n",
       "      <th>Text</th>\n",
       "      <th>Cleaned</th>\n",
       "      <th>cleaned_reviews</th>\n",
       "      <th>Stemmed</th>\n",
       "      <th>StemmedJoined</th>\n",
       "      <th>Polarity</th>\n",
       "    </tr>\n",
       "  </thead>\n",
       "  <tbody>\n",
       "    <tr>\n",
       "      <th>0</th>\n",
       "      <td>RT @TheEliKlein: Nobody has inspired more Covid vaccine hesitancy than Anthony Fauci</td>\n",
       "      <td>2021-03-20 15:58:43</td>\n",
       "      <td>RT @TheEliKlein: Nobody has inspired more Covid vaccine hesitancy than Anthony Fauci</td>\n",
       "      <td>nobody inspired covid vaccine hesitancy anthony fauci</td>\n",
       "      <td>[nobody, inspired, covid, vaccine, hesitancy, anthony, fauci]</td>\n",
       "      <td>[nobodi, inspir, covid, vaccin, hesit, anthoni, fauci]</td>\n",
       "      <td>nobodi inspir covid vaccin hesit anthoni fauci</td>\n",
       "      <td>0.000000</td>\n",
       "    </tr>\n",
       "    <tr>\n",
       "      <th>1</th>\n",
       "      <td>RT @Adnanmughal43: Hi @WHO and @TwitterSafety, @TwitterSupport this Verified Account @HamidMirPak is spreading false information against Co…</td>\n",
       "      <td>2021-03-20 15:58:41</td>\n",
       "      <td>RT @Adnanmughal43: Hi @WHO and @TwitterSafety, @TwitterSupport this Verified Account @HamidMirPak is spreading false information against Co…</td>\n",
       "      <td>hi verified account spreading false information co…</td>\n",
       "      <td>[hi, verified, account, spreading, false, information, co…]</td>\n",
       "      <td>[hi, verifi, account, spread, fals, inform, co…]</td>\n",
       "      <td>hi verifi account spread fals inform co…</td>\n",
       "      <td>0.000000</td>\n",
       "    </tr>\n",
       "    <tr>\n",
       "      <th>2</th>\n",
       "      <td>@anaaaze thank you! 💜💜 imy lets smoke soon, i get the second dose of the covid vaccine in like 2 weeks</td>\n",
       "      <td>2021-03-20 15:58:41</td>\n",
       "      <td>@anaaaze thank you! 💜💜 imy lets smoke soon, i get the second dose of the covid vaccine in like 2 weeks</td>\n",
       "      <td>thank 💜💜 imy lets smoke soon get second dose covid vaccine like weeks</td>\n",
       "      <td>[thank, 💜💜, imy, lets, smoke, soon, get, second, dose, covid, vaccine, like, weeks]</td>\n",
       "      <td>[thank, 💜💜, imi, let, smoke, soon, get, second, dose, covid, vaccin, like, week]</td>\n",
       "      <td>thank 💜💜 imi let smoke soon get second dose covid vaccin like week</td>\n",
       "      <td>0.000000</td>\n",
       "    </tr>\n",
       "    <tr>\n",
       "      <th>3</th>\n",
       "      <td>COVID 19 has robbed loved 1s from so many people including the SSD family. Recent I attended the funeral of 1 of ou… https://t.co/Uq1R8aD3Ze</td>\n",
       "      <td>2021-03-20 15:58:41</td>\n",
       "      <td>COVID 19 has robbed loved 1s from so many people including the SSD family. Recent I attended the funeral of 1 of ou… https://t.co/Uq1R8aD3Ze</td>\n",
       "      <td>covid robbed loved many people including ssd family recent attended funeral ou…</td>\n",
       "      <td>[covid, robbed, loved, many, people, including, ssd, family, recent, attended, funeral, ou…]</td>\n",
       "      <td>[covid, rob, love, mani, peopl, includ, ssd, famili, recent, attend, funer, ou…]</td>\n",
       "      <td>covid rob love mani peopl includ ssd famili recent attend funer ou…</td>\n",
       "      <td>0.250000</td>\n",
       "    </tr>\n",
       "    <tr>\n",
       "      <th>4</th>\n",
       "      <td>RT @PDChina: Pakistan Prime Minister Imran Khan has tested positive for COVID-19, local media reported on Saturday, citing the health minis…</td>\n",
       "      <td>2021-03-20 15:58:40</td>\n",
       "      <td>RT @PDChina: Pakistan Prime Minister Imran Khan has tested positive for COVID-19, local media reported on Saturday, citing the health minis…</td>\n",
       "      <td>pakistan prime minister imran khan tested positive covid local media repoed saturday citing health minis…</td>\n",
       "      <td>[pakistan, prime, minister, imran, khan, tested, positive, covid, local, media, repoed, saturday, citing, health, minis…]</td>\n",
       "      <td>[pakistan, prime, minist, imran, khan, test, posit, covid, local, media, repo, saturday, cite, health, minis…]</td>\n",
       "      <td>pakistan prime minist imran khan test posit covid local media repo saturday cite health minis…</td>\n",
       "      <td>0.000000</td>\n",
       "    </tr>\n",
       "    <tr>\n",
       "      <th>5</th>\n",
       "      <td>RT @Covid19Joker: A year into this shitstorm and I've not had COVID, not taken a test and not had a vaccine. Can't be many of us out there…</td>\n",
       "      <td>2021-03-20 15:58:40</td>\n",
       "      <td>RT @Covid19Joker: A year into this shitstorm and I've not had COVID, not taken a test and not had a vaccine. Can't be many of us out there…</td>\n",
       "      <td>year shitstorm not covid not taken test not vaccine many us there…</td>\n",
       "      <td>[year, shitstorm, not, covid, not, taken, test, not, vaccine, many, us, there…]</td>\n",
       "      <td>[year, shitstorm, not, covid, not, taken, test, not, vaccin, mani, us, there…]</td>\n",
       "      <td>year shitstorm not covid not taken test not vaccin mani us there…</td>\n",
       "      <td>0.000000</td>\n",
       "    </tr>\n",
       "    <tr>\n",
       "      <th>6</th>\n",
       "      <td>RT @emilyhewertson: 50% of adults in the UK have now had the first dose of the Covid vaccine. \\n\\nSeriously, so impressive. Makes me feel a h…</td>\n",
       "      <td>2021-03-20 15:58:39</td>\n",
       "      <td>RT @emilyhewertson: 50% of adults in the UK have now had the first dose of the Covid vaccine. \\n\\nSeriously, so impressive. Makes me feel a h…</td>\n",
       "      <td>adults uk first dose covid vaccine seriously impressive makes feel h…</td>\n",
       "      <td>[adults, uk, first, dose, covid, vaccine, seriously, impressive, makes, feel, h…]</td>\n",
       "      <td>[adult, uk, first, dose, covid, vaccin, serious, impress, make, feel, h…]</td>\n",
       "      <td>adult uk first dose covid vaccin serious impress make feel h…</td>\n",
       "      <td>0.005556</td>\n",
       "    </tr>\n",
       "    <tr>\n",
       "      <th>7</th>\n",
       "      <td>RT @Sana_Jamal: Kudos to Pakistan Govt for promptly countering COVID-19 vaccine misinformation online with facts 👍 Vaccines are our only wa…</td>\n",
       "      <td>2021-03-20 15:58:39</td>\n",
       "      <td>RT @Sana_Jamal: Kudos to Pakistan Govt for promptly countering COVID-19 vaccine misinformation online with facts 👍 Vaccines are our only wa…</td>\n",
       "      <td>kudos pakistan govt promptly countering covid vaccine misinformation online facts vaccines wa…</td>\n",
       "      <td>[kudos, pakistan, govt, promptly, countering, covid, vaccine, misinformation, online, facts, vaccines, wa…]</td>\n",
       "      <td>[kudo, pakistan, govt, prompt, counter, covid, vaccin, misinform, onlin, fact, vaccin, wa…]</td>\n",
       "      <td>kudo pakistan govt prompt counter covid vaccin misinform onlin fact vaccin wa…</td>\n",
       "      <td>0.000000</td>\n",
       "    </tr>\n",
       "    <tr>\n",
       "      <th>8</th>\n",
       "      <td>https://t.co/adQhPCd8I0 \\n\\nstudy 1 of 2:\\nU.S. \\nNationally representative survey (N = 34,200) identifies monetary ris… https://t.co/Q8ZmxLvuVP</td>\n",
       "      <td>2021-03-20 15:58:38</td>\n",
       "      <td>https://t.co/adQhPCd8I0 \\n\\nstudy 1 of 2:\\nU.S. \\nNationally representative survey (N = 34,200) identifies monetary ris… https://t.co/Q8ZmxLvuVP</td>\n",
       "      <td>study nationally representative survey identifies monetary ris…</td>\n",
       "      <td>[study, nationally, representative, survey, identifies, monetary, ris…]</td>\n",
       "      <td>[studi, nation, repres, survey, identifi, monetari, ris…]</td>\n",
       "      <td>studi nation repres survey identifi monetari ris…</td>\n",
       "      <td>0.000000</td>\n",
       "    </tr>\n",
       "    <tr>\n",
       "      <th>9</th>\n",
       "      <td>RT @ThiruGeneva: Covid: Rich states 'block' vaccine plans for developing nations https://t.co/umfM3C9tQ9 - @BBCWorld on the local productio…</td>\n",
       "      <td>2021-03-20 15:58:37</td>\n",
       "      <td>RT @ThiruGeneva: Covid: Rich states 'block' vaccine plans for developing nations https://t.co/umfM3C9tQ9 - @BBCWorld on the local productio…</td>\n",
       "      <td>covid rich states block vaccine plans developing nations local productio…</td>\n",
       "      <td>[covid, rich, states, block, vaccine, plans, developing, nations, local, productio…]</td>\n",
       "      <td>[covid, rich, state, block, vaccin, plan, develop, nation, local, productio…]</td>\n",
       "      <td>covid rich state block vaccin plan develop nation local productio…</td>\n",
       "      <td>0.187500</td>\n",
       "    </tr>\n",
       "  </tbody>\n",
       "</table>\n",
       "</div>"
      ],
      "text/plain": [
       "                                                                                                                                                  0  ...  Polarity\n",
       "0  RT @TheEliKlein: Nobody has inspired more Covid vaccine hesitancy than Anthony Fauci                                                              ...  0.000000\n",
       "1  RT @Adnanmughal43: Hi @WHO and @TwitterSafety, @TwitterSupport this Verified Account @HamidMirPak is spreading false information against Co…      ...  0.000000\n",
       "2  @anaaaze thank you! 💜💜 imy lets smoke soon, i get the second dose of the covid vaccine in like 2 weeks                                            ...  0.000000\n",
       "3  COVID 19 has robbed loved 1s from so many people including the SSD family. Recent I attended the funeral of 1 of ou… https://t.co/Uq1R8aD3Ze      ...  0.250000\n",
       "4  RT @PDChina: Pakistan Prime Minister Imran Khan has tested positive for COVID-19, local media reported on Saturday, citing the health minis…      ...  0.000000\n",
       "5  RT @Covid19Joker: A year into this shitstorm and I've not had COVID, not taken a test and not had a vaccine. Can't be many of us out there…       ...  0.000000\n",
       "6  RT @emilyhewertson: 50% of adults in the UK have now had the first dose of the Covid vaccine. \\n\\nSeriously, so impressive. Makes me feel a h…    ...  0.005556\n",
       "7  RT @Sana_Jamal: Kudos to Pakistan Govt for promptly countering COVID-19 vaccine misinformation online with facts 👍 Vaccines are our only wa…      ...  0.000000\n",
       "8  https://t.co/adQhPCd8I0 \\n\\nstudy 1 of 2:\\nU.S. \\nNationally representative survey (N = 34,200) identifies monetary ris… https://t.co/Q8ZmxLvuVP  ...  0.000000\n",
       "9  RT @ThiruGeneva: Covid: Rich states 'block' vaccine plans for developing nations https://t.co/umfM3C9tQ9 - @BBCWorld on the local productio…      ...  0.187500\n",
       "\n",
       "[10 rows x 8 columns]"
      ]
     },
     "execution_count": 28,
     "metadata": {
      "tags": []
     },
     "output_type": "execute_result"
    }
   ],
   "source": [
    "df.head(10)"
   ]
  },
  {
   "cell_type": "code",
   "execution_count": null,
   "metadata": {
    "collapsed": true,
    "id": "5Fka24wHXIWU"
   },
   "outputs": [],
   "source": [
    "# Create variables to hold the average polarity #\n",
    "\n",
    "positive = 0\n",
    "negative = 0\n",
    "neutral = 0\n",
    "polarity = 0\n",
    "\n",
    "for tweet in df['StemmedJoined']:\n",
    "    analysis = TextBlob(tweet) \n",
    "    polarity += analysis.sentiment.polarity\n",
    "   \n",
    "    if(analysis.sentiment.polarity == 0):\n",
    "        neutral += 1\n",
    "       \n",
    "    elif(analysis.sentiment.polarity < 0.00):\n",
    "        negative += 1\n",
    "\n",
    "    elif(analysis.sentiment.polarity > 0.00):\n",
    "        positive += 1\n",
    " \n",
    "\n",
    "\n",
    "\n"
   ]
  },
  {
   "cell_type": "code",
   "execution_count": null,
   "metadata": {
    "id": "K6jLtP1eXIWV"
   },
   "outputs": [],
   "source": [
    "## Define a function to calculate the percentage ##\n",
    "def percentage(part, whole):\n",
    "    return 100 * float(part)/float(whole)"
   ]
  },
  {
   "cell_type": "code",
   "execution_count": null,
   "metadata": {
    "id": "nUOIh6IXXIWV"
   },
   "outputs": [],
   "source": [
    "positive = percentage(positive, NoOfTweets)\n",
    "negative = percentage(negative, NoOfTweets)\n",
    "neutral  = percentage(neutral, NoOfTweets)\n",
    "polarity  = percentage(polarity, NoOfTweets)"
   ]
  },
  {
   "cell_type": "code",
   "execution_count": null,
   "metadata": {
    "id": "uWzxhDWVXIWV"
   },
   "outputs": [],
   "source": [
    "# Limit the decimal upto 2 places #\n",
    "positive = format(positive, '.2f')\n",
    "negative = format(negative, '.2f')\n",
    "neutral = format(neutral, '.2f')\n"
   ]
  },
  {
   "cell_type": "code",
   "execution_count": null,
   "metadata": {
    "colab": {
     "base_uri": "https://localhost:8080/"
    },
    "id": "7gSl8B_mLBEB",
    "outputId": "6f03a22f-0190-4d5d-d570-6372d4373e50"
   },
   "outputs": [
    {
     "name": "stdout",
     "output_type": "stream",
     "text": [
      "55.00\n"
     ]
    }
   ],
   "source": [
    "print(neutral)"
   ]
  },
  {
   "cell_type": "code",
   "execution_count": null,
   "metadata": {
    "colab": {
     "base_uri": "https://localhost:8080/"
    },
    "id": "hflkcab7XIWV",
    "outputId": "875f4f5b-f129-49b0-a188-65978265d3d9"
   },
   "outputs": [
    {
     "name": "stdout",
     "output_type": "stream",
     "text": [
      "How people are reacting on covid vaccine By analyzing100 Tweets \n",
      "Positive\n"
     ]
    }
   ],
   "source": [
    "## Print the result ##\n",
    "\n",
    "print(\"How people are reacting on \" + searchTerm + \n",
    "      \" By analyzing\" + str(NoOfTerms) + \" Tweets \")\n",
    "\n",
    "if (polarity == 0):\n",
    "    print(\"Neutral\")\n",
    "    \n",
    "elif (polarity < 0.00):\n",
    "    print(\"Negative\")\n",
    "    \n",
    "elif (polarity > 0.00):\n",
    "    print(\"Positive\")"
   ]
  },
  {
   "cell_type": "code",
   "execution_count": null,
   "metadata": {
    "colab": {
     "base_uri": "https://localhost:8080/",
     "height": 297
    },
    "id": "rwXeTSfyXIWW",
    "outputId": "977e9bfd-d0fb-4e79-de0e-93c8f0b02f23"
   },
   "outputs": [
    {
     "data": {
      "image/png": "[encoded data removed]",
      "text/plain": [
       "<Figure size 432x288 with 1 Axes>"
      ]
     },
     "metadata": {
      "tags": []
     },
     "output_type": "display_data"
    }
   ],
   "source": [
    "## Print the Pie Chart ##\n",
    "    \n",
    "labels = ['Positive ['+str(positive)+'%]', \n",
    "          'Neutral ['+str(neutral)+'%]', \n",
    "          'Negative ['+str(negative)+'%]']\n",
    "\n",
    "sizes = [positive, neutral, negative]\n",
    "colors = ['yellowgreen', 'gold', 'red']\n",
    "patches, texts = plt.pie(sizes, colors = colors, startangle = 90)\n",
    "plt.legend(patches, labels, loc = \"best\")\n",
    "plt.title('How people are reacting on  '\n",
    "          +searchTerm+' by analyzing '\n",
    "          +str(NoOfTerms)+' Tweets ')\n",
    "plt.axis('equal')\n",
    "plt.tight_layout()\n",
    "plt.show()"
   ]
  },
  {
   "cell_type": "markdown",
   "metadata": {
    "id": "cXt-OdxH2tS4"
   },
   "source": [
    "Getting top 5 positive tweets:"
   ]
  },
  {
   "cell_type": "code",
   "execution_count": null,
   "metadata": {
    "id": "a_LU-Wn90r9_"
   },
   "outputs": [],
   "source": [
    "top5pos = df.nlargest(5, ['Polarity'])"
   ]
  },
  {
   "cell_type": "code",
   "execution_count": null,
   "metadata": {
    "colab": {
     "base_uri": "https://localhost:8080/",
     "height": 191
    },
    "id": "b0FK6655XSAw",
    "outputId": "7ded8f9c-23b5-4cf7-da5b-695ea20ea68e"
   },
   "outputs": [
    {
     "data": {
      "text/html": [
       "<div>\n",
       "<style scoped>\n",
       "    .dataframe tbody tr th:only-of-type {\n",
       "        vertical-align: middle;\n",
       "    }\n",
       "\n",
       "    .dataframe tbody tr th {\n",
       "        vertical-align: top;\n",
       "    }\n",
       "\n",
       "    .dataframe thead th {\n",
       "        text-align: right;\n",
       "    }\n",
       "</style>\n",
       "<table border=\"1\" class=\"dataframe\">\n",
       "  <thead>\n",
       "    <tr style=\"text-align: right;\">\n",
       "      <th></th>\n",
       "      <th>Text</th>\n",
       "      <th>Polarity</th>\n",
       "    </tr>\n",
       "  </thead>\n",
       "  <tbody>\n",
       "    <tr>\n",
       "      <th>99</th>\n",
       "      <td>RT @CDCgov: #COVID19 vaccines are safe and effective. \\n \\nMore than 73 million people have already received COVID-19 vaccines, which are und…</td>\n",
       "      <td>0.500000</td>\n",
       "    </tr>\n",
       "    <tr>\n",
       "      <th>34</th>\n",
       "      <td>@Balix15 Would love to get the vaccine but I’m not in the age category of priority right now. I’m also not pro lock… https://t.co/LjIbrGinEn</td>\n",
       "      <td>0.392857</td>\n",
       "    </tr>\n",
       "    <tr>\n",
       "      <th>77</th>\n",
       "      <td>RT @drmwarner: Sask mandating 3h paid leave for employees to get vaccinated.\\n\\n@ongov, it's time to implement \"Special Vaccination Leave\" in…</td>\n",
       "      <td>0.357143</td>\n",
       "    </tr>\n",
       "    <tr>\n",
       "      <th>79</th>\n",
       "      <td>RT @NICentenary2021: Alliance, Sinn Fein and the SDLP were all quick off the mark to criticise the UK approach to Covid, including criticis…</td>\n",
       "      <td>0.333333</td>\n",
       "    </tr>\n",
       "    <tr>\n",
       "      <th>62</th>\n",
       "      <td>RT @MirMAKOfficial: Was Just Informed That @HamidMirPAK Already Received His First Shot Of Covid Vaccine.   \\n\\nIs it true Hamid ?</td>\n",
       "      <td>0.300000</td>\n",
       "    </tr>\n",
       "  </tbody>\n",
       "</table>\n",
       "</div>"
      ],
      "text/plain": [
       "                                                                                                                                              Text  Polarity\n",
       "99  RT @CDCgov: #COVID19 vaccines are safe and effective. \\n \\nMore than 73 million people have already received COVID-19 vaccines, which are und…  0.500000\n",
       "34  @Balix15 Would love to get the vaccine but I’m not in the age category of priority right now. I’m also not pro lock… https://t.co/LjIbrGinEn    0.392857\n",
       "77  RT @drmwarner: Sask mandating 3h paid leave for employees to get vaccinated.\\n\\n@ongov, it's time to implement \"Special Vaccination Leave\" in…  0.357143\n",
       "79  RT @NICentenary2021: Alliance, Sinn Fein and the SDLP were all quick off the mark to criticise the UK approach to Covid, including criticis…    0.333333\n",
       "62  RT @MirMAKOfficial: Was Just Informed That @HamidMirPAK Already Received His First Shot Of Covid Vaccine.   \\n\\nIs it true Hamid ?              0.300000"
      ]
     },
     "execution_count": 45,
     "metadata": {
      "tags": []
     },
     "output_type": "execute_result"
    }
   ],
   "source": [
    "top5pos.drop([0,'Time','Cleaned','cleaned_reviews','Stemmed','StemmedJoined'], 1)"
   ]
  },
  {
   "cell_type": "markdown",
   "metadata": {
    "id": "0Coa5M5g2yzT"
   },
   "source": [
    "Getting top 10 positive tweets:"
   ]
  },
  {
   "cell_type": "code",
   "execution_count": null,
   "metadata": {
    "id": "3JT54cDQ20kZ"
   },
   "outputs": [],
   "source": [
    "top10pos = df.nlargest(10, ['Polarity'])"
   ]
  },
  {
   "cell_type": "code",
   "execution_count": null,
   "metadata": {
    "colab": {
     "base_uri": "https://localhost:8080/",
     "height": 335
    },
    "id": "yL0PIvwBYEbz",
    "outputId": "97d89d31-0993-4df9-b12c-64494cb3178c"
   },
   "outputs": [
    {
     "data": {
      "text/html": [
       "<div>\n",
       "<style scoped>\n",
       "    .dataframe tbody tr th:only-of-type {\n",
       "        vertical-align: middle;\n",
       "    }\n",
       "\n",
       "    .dataframe tbody tr th {\n",
       "        vertical-align: top;\n",
       "    }\n",
       "\n",
       "    .dataframe thead th {\n",
       "        text-align: right;\n",
       "    }\n",
       "</style>\n",
       "<table border=\"1\" class=\"dataframe\">\n",
       "  <thead>\n",
       "    <tr style=\"text-align: right;\">\n",
       "      <th></th>\n",
       "      <th>Text</th>\n",
       "      <th>Polarity</th>\n",
       "    </tr>\n",
       "  </thead>\n",
       "  <tbody>\n",
       "    <tr>\n",
       "      <th>99</th>\n",
       "      <td>RT @CDCgov: #COVID19 vaccines are safe and effective. \\n \\nMore than 73 million people have already received COVID-19 vaccines, which are und…</td>\n",
       "      <td>0.500000</td>\n",
       "    </tr>\n",
       "    <tr>\n",
       "      <th>34</th>\n",
       "      <td>@Balix15 Would love to get the vaccine but I’m not in the age category of priority right now. I’m also not pro lock… https://t.co/LjIbrGinEn</td>\n",
       "      <td>0.392857</td>\n",
       "    </tr>\n",
       "    <tr>\n",
       "      <th>77</th>\n",
       "      <td>RT @drmwarner: Sask mandating 3h paid leave for employees to get vaccinated.\\n\\n@ongov, it's time to implement \"Special Vaccination Leave\" in…</td>\n",
       "      <td>0.357143</td>\n",
       "    </tr>\n",
       "    <tr>\n",
       "      <th>79</th>\n",
       "      <td>RT @NICentenary2021: Alliance, Sinn Fein and the SDLP were all quick off the mark to criticise the UK approach to Covid, including criticis…</td>\n",
       "      <td>0.333333</td>\n",
       "    </tr>\n",
       "    <tr>\n",
       "      <th>62</th>\n",
       "      <td>RT @MirMAKOfficial: Was Just Informed That @HamidMirPAK Already Received His First Shot Of Covid Vaccine.   \\n\\nIs it true Hamid ?</td>\n",
       "      <td>0.300000</td>\n",
       "    </tr>\n",
       "    <tr>\n",
       "      <th>45</th>\n",
       "      <td>RT @SkyNews: \"The European regulator has been clear throughout that this is safe and effective.\"\\n\\n@MattHancock says he is \"very, very glad\"…</td>\n",
       "      <td>0.275000</td>\n",
       "    </tr>\n",
       "    <tr>\n",
       "      <th>3</th>\n",
       "      <td>COVID 19 has robbed loved 1s from so many people including the SSD family. Recent I attended the funeral of 1 of ou… https://t.co/Uq1R8aD3Ze</td>\n",
       "      <td>0.250000</td>\n",
       "    </tr>\n",
       "    <tr>\n",
       "      <th>20</th>\n",
       "      <td>RT @TheSpiceQueen_: First Baby Born With COVID Antibodies After Mom Got the Moderna Vaccine | https://t.co/xgOUkPioT0 https://t.co/C8OFL4OB…</td>\n",
       "      <td>0.250000</td>\n",
       "    </tr>\n",
       "    <tr>\n",
       "      <th>60</th>\n",
       "      <td>RT @CornwallCouncil: 👩‍⚕️💉 An amazing 254,725 people in Cornwall have now had their first dose of the Covid-19 vaccine 💪\\n\\nYou're making Cor…</td>\n",
       "      <td>0.250000</td>\n",
       "    </tr>\n",
       "    <tr>\n",
       "      <th>67</th>\n",
       "      <td>RT @MillicentOmanga: Your favourite senator receiving COVID-19 vaccine shot earlier today. It's safe and I reccomend it to all Kenyans. Now…</td>\n",
       "      <td>0.250000</td>\n",
       "    </tr>\n",
       "  </tbody>\n",
       "</table>\n",
       "</div>"
      ],
      "text/plain": [
       "                                                                                                                                              Text  Polarity\n",
       "99  RT @CDCgov: #COVID19 vaccines are safe and effective. \\n \\nMore than 73 million people have already received COVID-19 vaccines, which are und…  0.500000\n",
       "34  @Balix15 Would love to get the vaccine but I’m not in the age category of priority right now. I’m also not pro lock… https://t.co/LjIbrGinEn    0.392857\n",
       "77  RT @drmwarner: Sask mandating 3h paid leave for employees to get vaccinated.\\n\\n@ongov, it's time to implement \"Special Vaccination Leave\" in…  0.357143\n",
       "79  RT @NICentenary2021: Alliance, Sinn Fein and the SDLP were all quick off the mark to criticise the UK approach to Covid, including criticis…    0.333333\n",
       "62  RT @MirMAKOfficial: Was Just Informed That @HamidMirPAK Already Received His First Shot Of Covid Vaccine.   \\n\\nIs it true Hamid ?              0.300000\n",
       "45  RT @SkyNews: \"The European regulator has been clear throughout that this is safe and effective.\"\\n\\n@MattHancock says he is \"very, very glad\"…  0.275000\n",
       "3   COVID 19 has robbed loved 1s from so many people including the SSD family. Recent I attended the funeral of 1 of ou… https://t.co/Uq1R8aD3Ze    0.250000\n",
       "20  RT @TheSpiceQueen_: First Baby Born With COVID Antibodies After Mom Got the Moderna Vaccine | https://t.co/xgOUkPioT0 https://t.co/C8OFL4OB…    0.250000\n",
       "60  RT @CornwallCouncil: 👩‍⚕️💉 An amazing 254,725 people in Cornwall have now had their first dose of the Covid-19 vaccine 💪\\n\\nYou're making Cor…  0.250000\n",
       "67  RT @MillicentOmanga: Your favourite senator receiving COVID-19 vaccine shot earlier today. It's safe and I reccomend it to all Kenyans. Now…    0.250000"
      ]
     },
     "execution_count": 48,
     "metadata": {
      "tags": []
     },
     "output_type": "execute_result"
    }
   ],
   "source": [
    "top10pos.drop([0,'Time','Cleaned','cleaned_reviews','Stemmed','StemmedJoined'], 1)"
   ]
  },
  {
   "cell_type": "markdown",
   "metadata": {
    "id": "YjrFZGH6240i"
   },
   "source": [
    "Getting top 5 negative tweets:"
   ]
  },
  {
   "cell_type": "code",
   "execution_count": null,
   "metadata": {
    "id": "k6TCYIa825Sf"
   },
   "outputs": [],
   "source": [
    "top5neg = df.nsmallest(5, ['Polarity'])"
   ]
  },
  {
   "cell_type": "code",
   "execution_count": null,
   "metadata": {
    "colab": {
     "base_uri": "https://localhost:8080/",
     "height": 191
    },
    "id": "2zDKqoZPYLzi",
    "outputId": "971899ce-db19-4fdf-c7b8-336edf53d7e5"
   },
   "outputs": [
    {
     "data": {
      "text/html": [
       "<div>\n",
       "<style scoped>\n",
       "    .dataframe tbody tr th:only-of-type {\n",
       "        vertical-align: middle;\n",
       "    }\n",
       "\n",
       "    .dataframe tbody tr th {\n",
       "        vertical-align: top;\n",
       "    }\n",
       "\n",
       "    .dataframe thead th {\n",
       "        text-align: right;\n",
       "    }\n",
       "</style>\n",
       "<table border=\"1\" class=\"dataframe\">\n",
       "  <thead>\n",
       "    <tr style=\"text-align: right;\">\n",
       "      <th></th>\n",
       "      <th>Text</th>\n",
       "      <th>Polarity</th>\n",
       "    </tr>\n",
       "  </thead>\n",
       "  <tbody>\n",
       "    <tr>\n",
       "      <th>23</th>\n",
       "      <td>@nwandu_charles @manmustwack Yes, he did.\\nHe brought up lots of stupid theories against vaccine and covid and deceived lots of people.</td>\n",
       "      <td>-0.80</td>\n",
       "    </tr>\n",
       "    <tr>\n",
       "      <th>44</th>\n",
       "      <td>RT @ReadMoreBible: I just recovered from a pretty bad case of Covid, and if given the choice NOW between Covid and the vaccine,\\n.....I woul…</td>\n",
       "      <td>-0.70</td>\n",
       "    </tr>\n",
       "    <tr>\n",
       "      <th>94</th>\n",
       "      <td>RT @nhsrcofficial: Prime Minister Imran Khan was not fully vaccinated when he contracted the virus. He only got the 1st dose and merely 2 d…</td>\n",
       "      <td>-0.50</td>\n",
       "    </tr>\n",
       "    <tr>\n",
       "      <th>14</th>\n",
       "      <td>RT @atmccann: been thinking a lot about vaccine inequality lately — this piece is the result of working with NYT reporters across more than…</td>\n",
       "      <td>-0.30</td>\n",
       "    </tr>\n",
       "    <tr>\n",
       "      <th>50</th>\n",
       "      <td>RT @CLGuelphWell: Feeling a little #anxious about the COVID Vaccine? Health Care Access Research and Developmental Disabilities Program and…</td>\n",
       "      <td>-0.25</td>\n",
       "    </tr>\n",
       "  </tbody>\n",
       "</table>\n",
       "</div>"
      ],
      "text/plain": [
       "                                                                                                                                             Text  Polarity\n",
       "23  @nwandu_charles @manmustwack Yes, he did.\\nHe brought up lots of stupid theories against vaccine and covid and deceived lots of people.       -0.80    \n",
       "44  RT @ReadMoreBible: I just recovered from a pretty bad case of Covid, and if given the choice NOW between Covid and the vaccine,\\n.....I woul… -0.70    \n",
       "94  RT @nhsrcofficial: Prime Minister Imran Khan was not fully vaccinated when he contracted the virus. He only got the 1st dose and merely 2 d…  -0.50    \n",
       "14  RT @atmccann: been thinking a lot about vaccine inequality lately — this piece is the result of working with NYT reporters across more than…  -0.30    \n",
       "50  RT @CLGuelphWell: Feeling a little #anxious about the COVID Vaccine? Health Care Access Research and Developmental Disabilities Program and…  -0.25    "
      ]
     },
     "execution_count": 50,
     "metadata": {
      "tags": []
     },
     "output_type": "execute_result"
    }
   ],
   "source": [
    "top5neg.drop([0,'Time','Cleaned','cleaned_reviews','Stemmed','StemmedJoined'], 1)"
   ]
  },
  {
   "cell_type": "markdown",
   "metadata": {
    "id": "QrgJHM4i25Kq"
   },
   "source": [
    "Getting top 10 negative tweets:"
   ]
  },
  {
   "cell_type": "code",
   "execution_count": null,
   "metadata": {
    "id": "g0xVkgW025Ca"
   },
   "outputs": [],
   "source": [
    "top10neg = df.nsmallest(10, ['Polarity'])"
   ]
  },
  {
   "cell_type": "code",
   "execution_count": null,
   "metadata": {
    "colab": {
     "base_uri": "https://localhost:8080/",
     "height": 335
    },
    "id": "4i4kEQUoYRmE",
    "outputId": "21639ae7-0379-4760-f9ec-65cfadf28c25"
   },
   "outputs": [
    {
     "data": {
      "text/html": [
       "<div>\n",
       "<style scoped>\n",
       "    .dataframe tbody tr th:only-of-type {\n",
       "        vertical-align: middle;\n",
       "    }\n",
       "\n",
       "    .dataframe tbody tr th {\n",
       "        vertical-align: top;\n",
       "    }\n",
       "\n",
       "    .dataframe thead th {\n",
       "        text-align: right;\n",
       "    }\n",
       "</style>\n",
       "<table border=\"1\" class=\"dataframe\">\n",
       "  <thead>\n",
       "    <tr style=\"text-align: right;\">\n",
       "      <th></th>\n",
       "      <th>Text</th>\n",
       "      <th>Polarity</th>\n",
       "    </tr>\n",
       "  </thead>\n",
       "  <tbody>\n",
       "    <tr>\n",
       "      <th>23</th>\n",
       "      <td>@nwandu_charles @manmustwack Yes, he did.\\nHe brought up lots of stupid theories against vaccine and covid and deceived lots of people.</td>\n",
       "      <td>-0.800000</td>\n",
       "    </tr>\n",
       "    <tr>\n",
       "      <th>44</th>\n",
       "      <td>RT @ReadMoreBible: I just recovered from a pretty bad case of Covid, and if given the choice NOW between Covid and the vaccine,\\n.....I woul…</td>\n",
       "      <td>-0.700000</td>\n",
       "    </tr>\n",
       "    <tr>\n",
       "      <th>94</th>\n",
       "      <td>RT @nhsrcofficial: Prime Minister Imran Khan was not fully vaccinated when he contracted the virus. He only got the 1st dose and merely 2 d…</td>\n",
       "      <td>-0.500000</td>\n",
       "    </tr>\n",
       "    <tr>\n",
       "      <th>14</th>\n",
       "      <td>RT @atmccann: been thinking a lot about vaccine inequality lately — this piece is the result of working with NYT reporters across more than…</td>\n",
       "      <td>-0.300000</td>\n",
       "    </tr>\n",
       "    <tr>\n",
       "      <th>50</th>\n",
       "      <td>RT @CLGuelphWell: Feeling a little #anxious about the COVID Vaccine? Health Care Access Research and Developmental Disabilities Program and…</td>\n",
       "      <td>-0.250000</td>\n",
       "    </tr>\n",
       "    <tr>\n",
       "      <th>88</th>\n",
       "      <td>RT @AntonioSabatojr: I will never take any covid vaccine, plain and simple.</td>\n",
       "      <td>-0.214286</td>\n",
       "    </tr>\n",
       "    <tr>\n",
       "      <th>76</th>\n",
       "      <td>RT @HSEImm: Updated versions of the COVID-19 Vaccine AstraZeneca® materials on @HSELive website\\n\\nPlease destroy any stock of previous versi…</td>\n",
       "      <td>-0.183333</td>\n",
       "    </tr>\n",
       "    <tr>\n",
       "      <th>39</th>\n",
       "      <td>RT @CBSNews: Almost half of all health care workers in U.S. haven't had COVID-19 vaccine, survey shows https://t.co/rptZOdYY35</td>\n",
       "      <td>-0.166667</td>\n",
       "    </tr>\n",
       "    <tr>\n",
       "      <th>38</th>\n",
       "      <td>RT @NassauExecutive: VACCINE MILESTONE: 30% of the total Nassau County population has received at least one shot of the COVID-19 vaccine –…</td>\n",
       "      <td>-0.150000</td>\n",
       "    </tr>\n",
       "    <tr>\n",
       "      <th>0</th>\n",
       "      <td>RT @TheEliKlein: Nobody has inspired more Covid vaccine hesitancy than Anthony Fauci</td>\n",
       "      <td>0.000000</td>\n",
       "    </tr>\n",
       "  </tbody>\n",
       "</table>\n",
       "</div>"
      ],
      "text/plain": [
       "                                                                                                                                              Text  Polarity\n",
       "23  @nwandu_charles @manmustwack Yes, he did.\\nHe brought up lots of stupid theories against vaccine and covid and deceived lots of people.        -0.800000\n",
       "44  RT @ReadMoreBible: I just recovered from a pretty bad case of Covid, and if given the choice NOW between Covid and the vaccine,\\n.....I woul…  -0.700000\n",
       "94  RT @nhsrcofficial: Prime Minister Imran Khan was not fully vaccinated when he contracted the virus. He only got the 1st dose and merely 2 d…   -0.500000\n",
       "14  RT @atmccann: been thinking a lot about vaccine inequality lately — this piece is the result of working with NYT reporters across more than…   -0.300000\n",
       "50  RT @CLGuelphWell: Feeling a little #anxious about the COVID Vaccine? Health Care Access Research and Developmental Disabilities Program and…   -0.250000\n",
       "88  RT @AntonioSabatojr: I will never take any covid vaccine, plain and simple.                                                                    -0.214286\n",
       "76  RT @HSEImm: Updated versions of the COVID-19 Vaccine AstraZeneca® materials on @HSELive website\\n\\nPlease destroy any stock of previous versi… -0.183333\n",
       "39  RT @CBSNews: Almost half of all health care workers in U.S. haven't had COVID-19 vaccine, survey shows https://t.co/rptZOdYY35                 -0.166667\n",
       "38  RT @NassauExecutive: VACCINE MILESTONE: 30% of the total Nassau County population has received at least one shot of the COVID-19 vaccine –…    -0.150000\n",
       "0   RT @TheEliKlein: Nobody has inspired more Covid vaccine hesitancy than Anthony Fauci                                                            0.000000"
      ]
     },
     "execution_count": 52,
     "metadata": {
      "tags": []
     },
     "output_type": "execute_result"
    }
   ],
   "source": [
    "top10neg.drop([0,'Time','Cleaned','cleaned_reviews','Stemmed','StemmedJoined'], 1)"
   ]
  },
  {
   "cell_type": "markdown",
   "metadata": {
    "id": "Y_Z-HcAe4Pyv"
   },
   "source": []
  },
  {
   "cell_type": "code",
   "execution_count": null,
   "metadata": {
    "colab": {
     "base_uri": "https://localhost:8080/",
     "height": 281
    },
    "id": "-U05ICA04PYW",
    "outputId": "27f2237e-24ae-4066-f96f-6fda2df36f8c"
   },
   "outputs": [
    {
     "data": {
      "text/plain": [
       "<matplotlib.axes._subplots.AxesSubplot at 0x7f0082972a50>"
      ]
     },
     "execution_count": 40,
     "metadata": {
      "tags": []
     },
     "output_type": "execute_result"
    },
    {
     "data": {
      "image/png": "[encoded data removed]",
      "text/plain": [
       "<Figure size 432x288 with 1 Axes>"
      ]
     },
     "metadata": {
      "needs_background": "light",
      "tags": []
     },
     "output_type": "display_data"
    }
   ],
   "source": [
    "df['Polarity'].plot(bins=50, kind='hist') "
   ]
  },
  {
   "cell_type": "markdown",
   "metadata": {
    "id": "d6VMtUucCIkN"
   },
   "source": [
    "# Topic Modelling using LDA and visualization using pyLDAvis"
   ]
  },
  {
   "cell_type": "code",
   "execution_count": null,
   "metadata": {
    "colab": {
     "base_uri": "https://localhost:8080/"
    },
    "id": "BSXJKZn1DHaF",
    "outputId": "c044c64b-fcbb-46f3-c10e-8262c6d49444"
   },
   "outputs": [
    {
     "name": "stdout",
     "output_type": "stream",
     "text": [
      "Collecting pyLDAvis\n",
      "\u001b[?25l  Downloading https://files.pythonhosted.org/packages/24/38/6d81eff34c84c9158d3b7c846bff978ac88b0c2665548941946d3d591158/pyLDAvis-3.2.2.tar.gz (1.7MB)\n",
      "\r",
      "\u001b[K     |▏                               | 10kB 13.7MB/s eta 0:00:01\r",
      "\u001b[K     |▍                               | 20kB 19.9MB/s eta 0:00:01\r",
      "\u001b[K     |▋                               | 30kB 16.1MB/s eta 0:00:01\r",
      "\u001b[K     |▉                               | 40kB 17.3MB/s eta 0:00:01\r",
      "\u001b[K     |█                               | 51kB 14.0MB/s eta 0:00:01\r",
      "\u001b[K     |█▏                              | 61kB 12.2MB/s eta 0:00:01\r",
      "\u001b[K     |█▍                              | 71kB 11.7MB/s eta 0:00:01\r",
      "\u001b[K     |█▋                              | 81kB 12.5MB/s eta 0:00:01\r",
      "\u001b[K     |█▉                              | 92kB 11.5MB/s eta 0:00:01\r",
      "\u001b[K     |██                              | 102kB 12.2MB/s eta 0:00:01\r",
      "\u001b[K     |██▏                             | 112kB 12.2MB/s eta 0:00:01\r",
      "\u001b[K     |██▍                             | 122kB 12.2MB/s eta 0:00:01\r",
      "\u001b[K     |██▋                             | 133kB 12.2MB/s eta 0:00:01\r",
      "\u001b[K     |██▉                             | 143kB 12.2MB/s eta 0:00:01\r",
      "\u001b[K     |███                             | 153kB 12.2MB/s eta 0:00:01\r",
      "\u001b[K     |███▏                            | 163kB 12.2MB/s eta 0:00:01\r",
      "\u001b[K     |███▍                            | 174kB 12.2MB/s eta 0:00:01\r",
      "\u001b[K     |███▋                            | 184kB 12.2MB/s eta 0:00:01\r",
      "\u001b[K     |███▊                            | 194kB 12.2MB/s eta 0:00:01\r",
      "\u001b[K     |████                            | 204kB 12.2MB/s eta 0:00:01\r",
      "\u001b[K     |████▏                           | 215kB 12.2MB/s eta 0:00:01\r",
      "\u001b[K     |████▍                           | 225kB 12.2MB/s eta 0:00:01\r",
      "\u001b[K     |████▋                           | 235kB 12.2MB/s eta 0:00:01\r",
      "\u001b[K     |████▊                           | 245kB 12.2MB/s eta 0:00:01\r",
      "\u001b[K     |█████                           | 256kB 12.2MB/s eta 0:00:01\r",
      "\u001b[K     |█████▏                          | 266kB 12.2MB/s eta 0:00:01\r",
      "\u001b[K     |█████▍                          | 276kB 12.2MB/s eta 0:00:01\r",
      "\u001b[K     |█████▋                          | 286kB 12.2MB/s eta 0:00:01\r",
      "\u001b[K     |█████▊                          | 296kB 12.2MB/s eta 0:00:01\r",
      "\u001b[K     |██████                          | 307kB 12.2MB/s eta 0:00:01\r",
      "\u001b[K     |██████▏                         | 317kB 12.2MB/s eta 0:00:01\r",
      "\u001b[K     |██████▍                         | 327kB 12.2MB/s eta 0:00:01\r",
      "\u001b[K     |██████▌                         | 337kB 12.2MB/s eta 0:00:01\r",
      "\u001b[K     |██████▊                         | 348kB 12.2MB/s eta 0:00:01\r",
      "\u001b[K     |███████                         | 358kB 12.2MB/s eta 0:00:01\r",
      "\u001b[K     |███████▏                        | 368kB 12.2MB/s eta 0:00:01\r",
      "\u001b[K     |███████▍                        | 378kB 12.2MB/s eta 0:00:01\r",
      "\u001b[K     |███████▌                        | 389kB 12.2MB/s eta 0:00:01\r",
      "\u001b[K     |███████▊                        | 399kB 12.2MB/s eta 0:00:01\r",
      "\u001b[K     |████████                        | 409kB 12.2MB/s eta 0:00:01\r",
      "\u001b[K     |████████▏                       | 419kB 12.2MB/s eta 0:00:01\r",
      "\u001b[K     |████████▍                       | 430kB 12.2MB/s eta 0:00:01\r",
      "\u001b[K     |████████▌                       | 440kB 12.2MB/s eta 0:00:01\r",
      "\u001b[K     |████████▊                       | 450kB 12.2MB/s eta 0:00:01\r",
      "\u001b[K     |█████████                       | 460kB 12.2MB/s eta 0:00:01\r",
      "\u001b[K     |█████████▏                      | 471kB 12.2MB/s eta 0:00:01\r",
      "\u001b[K     |█████████▎                      | 481kB 12.2MB/s eta 0:00:01\r",
      "\u001b[K     |█████████▌                      | 491kB 12.2MB/s eta 0:00:01\r",
      "\u001b[K     |█████████▊                      | 501kB 12.2MB/s eta 0:00:01\r",
      "\u001b[K     |██████████                      | 512kB 12.2MB/s eta 0:00:01\r",
      "\u001b[K     |██████████▏                     | 522kB 12.2MB/s eta 0:00:01\r",
      "\u001b[K     |██████████▎                     | 532kB 12.2MB/s eta 0:00:01\r",
      "\u001b[K     |██████████▌                     | 542kB 12.2MB/s eta 0:00:01\r",
      "\u001b[K     |██████████▊                     | 552kB 12.2MB/s eta 0:00:01\r",
      "\u001b[K     |███████████                     | 563kB 12.2MB/s eta 0:00:01\r",
      "\u001b[K     |███████████▏                    | 573kB 12.2MB/s eta 0:00:01\r",
      "\u001b[K     |███████████▎                    | 583kB 12.2MB/s eta 0:00:01\r",
      "\u001b[K     |███████████▌                    | 593kB 12.2MB/s eta 0:00:01\r",
      "\u001b[K     |███████████▊                    | 604kB 12.2MB/s eta 0:00:01\r",
      "\u001b[K     |████████████                    | 614kB 12.2MB/s eta 0:00:01\r",
      "\u001b[K     |████████████                    | 624kB 12.2MB/s eta 0:00:01\r",
      "\u001b[K     |████████████▎                   | 634kB 12.2MB/s eta 0:00:01\r",
      "\u001b[K     |████████████▌                   | 645kB 12.2MB/s eta 0:00:01\r",
      "\u001b[K     |████████████▊                   | 655kB 12.2MB/s eta 0:00:01\r",
      "\u001b[K     |█████████████                   | 665kB 12.2MB/s eta 0:00:01\r",
      "\u001b[K     |█████████████                   | 675kB 12.2MB/s eta 0:00:01\r",
      "\u001b[K     |█████████████▎                  | 686kB 12.2MB/s eta 0:00:01\r",
      "\u001b[K     |█████████████▌                  | 696kB 12.2MB/s eta 0:00:01\r",
      "\u001b[K     |█████████████▊                  | 706kB 12.2MB/s eta 0:00:01\r",
      "\u001b[K     |██████████████                  | 716kB 12.2MB/s eta 0:00:01\r",
      "\u001b[K     |██████████████                  | 727kB 12.2MB/s eta 0:00:01\r",
      "\u001b[K     |██████████████▎                 | 737kB 12.2MB/s eta 0:00:01\r",
      "\u001b[K     |██████████████▌                 | 747kB 12.2MB/s eta 0:00:01\r",
      "\u001b[K     |██████████████▊                 | 757kB 12.2MB/s eta 0:00:01\r",
      "\u001b[K     |██████████████▉                 | 768kB 12.2MB/s eta 0:00:01\r",
      "\u001b[K     |███████████████                 | 778kB 12.2MB/s eta 0:00:01\r",
      "\u001b[K     |███████████████▎                | 788kB 12.2MB/s eta 0:00:01\r",
      "\u001b[K     |███████████████▌                | 798kB 12.2MB/s eta 0:00:01\r",
      "\u001b[K     |███████████████▊                | 808kB 12.2MB/s eta 0:00:01\r",
      "\u001b[K     |███████████████▉                | 819kB 12.2MB/s eta 0:00:01\r",
      "\u001b[K     |████████████████                | 829kB 12.2MB/s eta 0:00:01\r",
      "\u001b[K     |████████████████▎               | 839kB 12.2MB/s eta 0:00:01\r",
      "\u001b[K     |████████████████▌               | 849kB 12.2MB/s eta 0:00:01\r",
      "\u001b[K     |████████████████▊               | 860kB 12.2MB/s eta 0:00:01\r",
      "\u001b[K     |████████████████▉               | 870kB 12.2MB/s eta 0:00:01\r",
      "\u001b[K     |█████████████████               | 880kB 12.2MB/s eta 0:00:01\r",
      "\u001b[K     |█████████████████▎              | 890kB 12.2MB/s eta 0:00:01\r",
      "\u001b[K     |█████████████████▌              | 901kB 12.2MB/s eta 0:00:01\r",
      "\u001b[K     |█████████████████▋              | 911kB 12.2MB/s eta 0:00:01\r",
      "\u001b[K     |█████████████████▉              | 921kB 12.2MB/s eta 0:00:01\r",
      "\u001b[K     |██████████████████              | 931kB 12.2MB/s eta 0:00:01\r",
      "\u001b[K     |██████████████████▎             | 942kB 12.2MB/s eta 0:00:01\r",
      "\u001b[K     |██████████████████▌             | 952kB 12.2MB/s eta 0:00:01\r",
      "\u001b[K     |██████████████████▋             | 962kB 12.2MB/s eta 0:00:01\r",
      "\u001b[K     |██████████████████▉             | 972kB 12.2MB/s eta 0:00:01\r",
      "\u001b[K     |███████████████████             | 983kB 12.2MB/s eta 0:00:01\r",
      "\u001b[K     |███████████████████▎            | 993kB 12.2MB/s eta 0:00:01\r",
      "\u001b[K     |███████████████████▌            | 1.0MB 12.2MB/s eta 0:00:01\r",
      "\u001b[K     |███████████████████▋            | 1.0MB 12.2MB/s eta 0:00:01\r",
      "\u001b[K     |███████████████████▉            | 1.0MB 12.2MB/s eta 0:00:01\r",
      "\u001b[K     |████████████████████            | 1.0MB 12.2MB/s eta 0:00:01\r",
      "\u001b[K     |████████████████████▎           | 1.0MB 12.2MB/s eta 0:00:01\r",
      "\u001b[K     |████████████████████▍           | 1.1MB 12.2MB/s eta 0:00:01\r",
      "\u001b[K     |████████████████████▋           | 1.1MB 12.2MB/s eta 0:00:01\r",
      "\u001b[K     |████████████████████▉           | 1.1MB 12.2MB/s eta 0:00:01\r",
      "\u001b[K     |█████████████████████           | 1.1MB 12.2MB/s eta 0:00:01\r",
      "\u001b[K     |█████████████████████▎          | 1.1MB 12.2MB/s eta 0:00:01\r",
      "\u001b[K     |█████████████████████▍          | 1.1MB 12.2MB/s eta 0:00:01\r",
      "\u001b[K     |█████████████████████▋          | 1.1MB 12.2MB/s eta 0:00:01\r",
      "\u001b[K     |█████████████████████▉          | 1.1MB 12.2MB/s eta 0:00:01\r",
      "\u001b[K     |██████████████████████          | 1.1MB 12.2MB/s eta 0:00:01\r",
      "\u001b[K     |██████████████████████▎         | 1.1MB 12.2MB/s eta 0:00:01\r",
      "\u001b[K     |██████████████████████▍         | 1.2MB 12.2MB/s eta 0:00:01\r",
      "\u001b[K     |██████████████████████▋         | 1.2MB 12.2MB/s eta 0:00:01\r",
      "\u001b[K     |██████████████████████▉         | 1.2MB 12.2MB/s eta 0:00:01\r",
      "\u001b[K     |███████████████████████         | 1.2MB 12.2MB/s eta 0:00:01\r",
      "\u001b[K     |███████████████████████▏        | 1.2MB 12.2MB/s eta 0:00:01\r",
      "\u001b[K     |███████████████████████▍        | 1.2MB 12.2MB/s eta 0:00:01\r",
      "\u001b[K     |███████████████████████▋        | 1.2MB 12.2MB/s eta 0:00:01\r",
      "\u001b[K     |███████████████████████▉        | 1.2MB 12.2MB/s eta 0:00:01\r",
      "\u001b[K     |████████████████████████        | 1.2MB 12.2MB/s eta 0:00:01\r",
      "\u001b[K     |████████████████████████▏       | 1.2MB 12.2MB/s eta 0:00:01\r",
      "\u001b[K     |████████████████████████▍       | 1.3MB 12.2MB/s eta 0:00:01\r",
      "\u001b[K     |████████████████████████▋       | 1.3MB 12.2MB/s eta 0:00:01\r",
      "\u001b[K     |████████████████████████▉       | 1.3MB 12.2MB/s eta 0:00:01\r",
      "\u001b[K     |█████████████████████████       | 1.3MB 12.2MB/s eta 0:00:01\r",
      "\u001b[K     |█████████████████████████▏      | 1.3MB 12.2MB/s eta 0:00:01\r",
      "\u001b[K     |█████████████████████████▍      | 1.3MB 12.2MB/s eta 0:00:01\r",
      "\u001b[K     |█████████████████████████▋      | 1.3MB 12.2MB/s eta 0:00:01\r",
      "\u001b[K     |█████████████████████████▉      | 1.3MB 12.2MB/s eta 0:00:01\r",
      "\u001b[K     |██████████████████████████      | 1.3MB 12.2MB/s eta 0:00:01\r",
      "\u001b[K     |██████████████████████████▏     | 1.4MB 12.2MB/s eta 0:00:01\r",
      "\u001b[K     |██████████████████████████▍     | 1.4MB 12.2MB/s eta 0:00:01\r",
      "\u001b[K     |██████████████████████████▋     | 1.4MB 12.2MB/s eta 0:00:01\r",
      "\u001b[K     |██████████████████████████▉     | 1.4MB 12.2MB/s eta 0:00:01\r",
      "\u001b[K     |███████████████████████████     | 1.4MB 12.2MB/s eta 0:00:01\r",
      "\u001b[K     |███████████████████████████▏    | 1.4MB 12.2MB/s eta 0:00:01\r",
      "\u001b[K     |███████████████████████████▍    | 1.4MB 12.2MB/s eta 0:00:01\r",
      "\u001b[K     |███████████████████████████▋    | 1.4MB 12.2MB/s eta 0:00:01\r",
      "\u001b[K     |███████████████████████████▉    | 1.4MB 12.2MB/s eta 0:00:01\r",
      "\u001b[K     |████████████████████████████    | 1.4MB 12.2MB/s eta 0:00:01\r",
      "\u001b[K     |████████████████████████████▏   | 1.5MB 12.2MB/s eta 0:00:01\r",
      "\u001b[K     |████████████████████████████▍   | 1.5MB 12.2MB/s eta 0:00:01\r",
      "\u001b[K     |████████████████████████████▋   | 1.5MB 12.2MB/s eta 0:00:01\r",
      "\u001b[K     |████████████████████████████▊   | 1.5MB 12.2MB/s eta 0:00:01\r",
      "\u001b[K     |█████████████████████████████   | 1.5MB 12.2MB/s eta 0:00:01\r",
      "\u001b[K     |█████████████████████████████▏  | 1.5MB 12.2MB/s eta 0:00:01\r",
      "\u001b[K     |█████████████████████████████▍  | 1.5MB 12.2MB/s eta 0:00:01\r",
      "\u001b[K     |█████████████████████████████▋  | 1.5MB 12.2MB/s eta 0:00:01\r",
      "\u001b[K     |█████████████████████████████▊  | 1.5MB 12.2MB/s eta 0:00:01\r",
      "\u001b[K     |██████████████████████████████  | 1.5MB 12.2MB/s eta 0:00:01\r",
      "\u001b[K     |██████████████████████████████▏ | 1.6MB 12.2MB/s eta 0:00:01\r",
      "\u001b[K     |██████████████████████████████▍ | 1.6MB 12.2MB/s eta 0:00:01\r",
      "\u001b[K     |██████████████████████████████▋ | 1.6MB 12.2MB/s eta 0:00:01\r",
      "\u001b[K     |██████████████████████████████▊ | 1.6MB 12.2MB/s eta 0:00:01\r",
      "\u001b[K     |███████████████████████████████ | 1.6MB 12.2MB/s eta 0:00:01\r",
      "\u001b[K     |███████████████████████████████▏| 1.6MB 12.2MB/s eta 0:00:01\r",
      "\u001b[K     |███████████████████████████████▍| 1.6MB 12.2MB/s eta 0:00:01\r",
      "\u001b[K     |███████████████████████████████▌| 1.6MB 12.2MB/s eta 0:00:01\r",
      "\u001b[K     |███████████████████████████████▊| 1.6MB 12.2MB/s eta 0:00:01\r",
      "\u001b[K     |████████████████████████████████| 1.6MB 12.2MB/s eta 0:00:01\r",
      "\u001b[K     |████████████████████████████████| 1.7MB 12.2MB/s \n",
      "\u001b[?25hRequirement already satisfied: wheel>=0.23.0 in /usr/local/lib/python3.7/dist-packages (from pyLDAvis) (0.36.2)\n",
      "Requirement already satisfied: numpy>=1.9.2 in /usr/local/lib/python3.7/dist-packages (from pyLDAvis) (1.19.5)\n",
      "Requirement already satisfied: scipy>=0.18.0 in /usr/local/lib/python3.7/dist-packages (from pyLDAvis) (1.4.1)\n",
      "Requirement already satisfied: joblib>=0.8.4 in /usr/local/lib/python3.7/dist-packages (from pyLDAvis) (1.0.1)\n",
      "Requirement already satisfied: jinja2>=2.7.2 in /usr/local/lib/python3.7/dist-packages (from pyLDAvis) (2.11.3)\n",
      "Requirement already satisfied: numexpr in /usr/local/lib/python3.7/dist-packages (from pyLDAvis) (2.7.3)\n",
      "Requirement already satisfied: future in /usr/local/lib/python3.7/dist-packages (from pyLDAvis) (0.16.0)\n",
      "Collecting funcy\n",
      "  Downloading https://files.pythonhosted.org/packages/66/89/479de0afbbfb98d1c4b887936808764627300208bb771fcd823403645a36/funcy-1.15-py2.py3-none-any.whl\n",
      "Requirement already satisfied: pandas>=0.17.0 in /usr/local/lib/python3.7/dist-packages (from pyLDAvis) (1.1.5)\n",
      "Requirement already satisfied: MarkupSafe>=0.23 in /usr/local/lib/python3.7/dist-packages (from jinja2>=2.7.2->pyLDAvis) (1.1.1)\n",
      "Requirement already satisfied: python-dateutil>=2.7.3 in /usr/local/lib/python3.7/dist-packages (from pandas>=0.17.0->pyLDAvis) (2.8.1)\n",
      "Requirement already satisfied: pytz>=2017.2 in /usr/local/lib/python3.7/dist-packages (from pandas>=0.17.0->pyLDAvis) (2018.9)\n",
      "Requirement already satisfied: six>=1.5 in /usr/local/lib/python3.7/dist-packages (from python-dateutil>=2.7.3->pandas>=0.17.0->pyLDAvis) (1.15.0)\n",
      "Building wheels for collected packages: pyLDAvis\n",
      "  Building wheel for pyLDAvis (setup.py) ... \u001b[?25l\u001b[?25hdone\n",
      "  Created wheel for pyLDAvis: filename=pyLDAvis-3.2.2-py2.py3-none-any.whl size=135593 sha256=c6a5f217eb9bc2bfec295cb8da950e9dff726016d36386875c2e49e61ab44bc9\n",
      "  Stored in directory: /root/.cache/pip/wheels/74/df/b6/97234c8446a43be05c9a8687ee0db1f1b5ade5f27729187eae\n",
      "Successfully built pyLDAvis\n",
      "Installing collected packages: funcy, pyLDAvis\n",
      "Successfully installed funcy-1.15 pyLDAvis-3.2.2\n"
     ]
    }
   ],
   "source": [
    "pip install pyLDAvis"
   ]
  },
  {
   "cell_type": "code",
   "execution_count": null,
   "metadata": {
    "colab": {
     "base_uri": "https://localhost:8080/"
    },
    "id": "iaaAT4E8DE8V",
    "outputId": "a992cb5a-cf54-4190-ace5-cca7632c4a17"
   },
   "outputs": [
    {
     "name": "stdout",
     "output_type": "stream",
     "text": [
      "[nltk_data] Downloading package punkt to /root/nltk_data...\n",
      "[nltk_data]   Package punkt is already up-to-date!\n",
      "[nltk_data] Downloading package stopwords to /root/nltk_data...\n",
      "[nltk_data]   Package stopwords is already up-to-date!\n",
      "[nltk_data] Downloading package wordnet to /root/nltk_data...\n",
      "[nltk_data]   Unzipping corpora/wordnet.zip.\n",
      "[nltk_data] Downloading package averaged_perceptron_tagger to\n",
      "[nltk_data]     /root/nltk_data...\n",
      "[nltk_data]   Unzipping taggers/averaged_perceptron_tagger.zip.\n"
     ]
    },
    {
     "name": "stderr",
     "output_type": "stream",
     "text": [
      "/usr/local/lib/python3.7/dist-packages/past/types/oldstr.py:5: DeprecationWarning: Using or importing the ABCs from 'collections' instead of from 'collections.abc' is deprecated since Python 3.3,and in 3.9 it will stop working\n",
      "  from collections import Iterable\n"
     ]
    }
   ],
   "source": [
    "import pandas as pd\n",
    "import numpy as np\n",
    "import matplotlib.pyplot as plt\n",
    "import nltk\n",
    "nltk.download('punkt')\n",
    "nltk.download('stopwords')\n",
    "nltk.download('wordnet')\n",
    "nltk.download('averaged_perceptron_tagger')\n",
    "from nltk.stem import PorterStemmer, WordNetLemmatizer\n",
    "from nltk.corpus import stopwords\n",
    "import re\n",
    "from sklearn.feature_extraction.text import CountVectorizer, TfidfVectorizer\n",
    "# !pip install --upgrade gensim\n",
    "import gensim\n",
    "from gensim import corpora, models\n",
    "from gensim.models import CoherenceModel\n",
    "import pyLDAvis\n",
    "import pyLDAvis.gensim\n",
    "import time"
   ]
  },
  {
   "cell_type": "code",
   "execution_count": null,
   "metadata": {
    "id": "_zDPulksuWrO"
   },
   "outputs": [],
   "source": [
    "corpus = df['Stemmed']\n",
    "dictionary = gensim.corpora.Dictionary(corpus)\n",
    "\n",
    "# BOW corpus\n",
    "bow_corpus = [dictionary.doc2bow(doc) for doc in corpus]\n",
    "\n",
    "# TDIDF corpus\n",
    "tfidf = models.TfidfModel(bow_corpus)\n",
    "corpus_tfidf = tfidf[bow_corpus]"
   ]
  },
  {
   "cell_type": "code",
   "execution_count": null,
   "metadata": {
    "colab": {
     "base_uri": "https://localhost:8080/"
    },
    "id": "05ozetJSug2B",
    "outputId": "967ba124-1f8a-49ac-e190-7afce4346720"
   },
   "outputs": [
    {
     "name": "stdout",
     "output_type": "stream",
     "text": [
      "0 can\n",
      "1 covid\n",
      "2 dear\n",
      "3 ie\n",
      "4 instanc\n",
      "5 ivermectin\n",
      "6 peopl\n",
      "7 request\n",
      "8 t\n",
      "9 treatment\n",
      "10 vaccin\n"
     ]
    }
   ],
   "source": [
    "for a,b in dictionary.iteritems():\n",
    "    print(a, b)\n",
    "    if a == 10:\n",
    "        break"
   ]
  },
  {
   "cell_type": "code",
   "execution_count": null,
   "metadata": {
    "id": "-drqxGOFu4tc"
   },
   "outputs": [],
   "source": [
    "def get_coherence(model):\n",
    "    coherence_model_lda = CoherenceModel(model=model, texts=corpus, dictionary=dictionary, coherence='c_v')\n",
    "    return coherence_model_lda.get_coherence()"
   ]
  },
  {
   "cell_type": "code",
   "execution_count": null,
   "metadata": {
    "colab": {
     "base_uri": "https://localhost:8080/"
    },
    "id": "lHRSD4puumnL",
    "outputId": "657117be-246a-4e5f-cae8-0ba9d95257d6"
   },
   "outputs": [
    {
     "name": "stderr",
     "output_type": "stream",
     "text": [
      "/usr/local/lib/python3.7/dist-packages/gensim/models/ldamodel.py:1077: DeprecationWarning: Calling np.sum(generator) is deprecated, and in the future will give a different result. Use np.sum(np.fromiter(generator)) or the python sum builtin instead.\n",
      "  score += np.sum(cnt * logsumexp(Elogthetad + Elogbeta[:, int(id)]) for id, cnt in doc)\n",
      "/usr/local/lib/python3.7/dist-packages/gensim/models/ldamodel.py:1077: DeprecationWarning: Calling np.sum(generator) is deprecated, and in the future will give a different result. Use np.sum(np.fromiter(generator)) or the python sum builtin instead.\n",
      "  score += np.sum(cnt * logsumexp(Elogthetad + Elogbeta[:, int(id)]) for id, cnt in doc)\n",
      "/usr/local/lib/python3.7/dist-packages/gensim/models/ldamodel.py:1077: DeprecationWarning: Calling np.sum(generator) is deprecated, and in the future will give a different result. Use np.sum(np.fromiter(generator)) or the python sum builtin instead.\n",
      "  score += np.sum(cnt * logsumexp(Elogthetad + Elogbeta[:, int(id)]) for id, cnt in doc)\n",
      "/usr/local/lib/python3.7/dist-packages/gensim/models/ldamodel.py:1077: DeprecationWarning: Calling np.sum(generator) is deprecated, and in the future will give a different result. Use np.sum(np.fromiter(generator)) or the python sum builtin instead.\n",
      "  score += np.sum(cnt * logsumexp(Elogthetad + Elogbeta[:, int(id)]) for id, cnt in doc)\n",
      "/usr/local/lib/python3.7/dist-packages/gensim/models/ldamodel.py:1077: DeprecationWarning: Calling np.sum(generator) is deprecated, and in the future will give a different result. Use np.sum(np.fromiter(generator)) or the python sum builtin instead.\n",
      "  score += np.sum(cnt * logsumexp(Elogthetad + Elogbeta[:, int(id)]) for id, cnt in doc)\n",
      "/usr/local/lib/python3.7/dist-packages/gensim/models/ldamodel.py:1077: DeprecationWarning: Calling np.sum(generator) is deprecated, and in the future will give a different result. Use np.sum(np.fromiter(generator)) or the python sum builtin instead.\n",
      "  score += np.sum(cnt * logsumexp(Elogthetad + Elogbeta[:, int(id)]) for id, cnt in doc)\n",
      "/usr/local/lib/python3.7/dist-packages/gensim/models/ldamodel.py:1077: DeprecationWarning: Calling np.sum(generator) is deprecated, and in the future will give a different result. Use np.sum(np.fromiter(generator)) or the python sum builtin instead.\n",
      "  score += np.sum(cnt * logsumexp(Elogthetad + Elogbeta[:, int(id)]) for id, cnt in doc)\n",
      "/usr/local/lib/python3.7/dist-packages/gensim/models/ldamodel.py:1077: DeprecationWarning: Calling np.sum(generator) is deprecated, and in the future will give a different result. Use np.sum(np.fromiter(generator)) or the python sum builtin instead.\n",
      "  score += np.sum(cnt * logsumexp(Elogthetad + Elogbeta[:, int(id)]) for id, cnt in doc)\n",
      "/usr/local/lib/python3.7/dist-packages/gensim/models/ldamodel.py:1077: DeprecationWarning: Calling np.sum(generator) is deprecated, and in the future will give a different result. Use np.sum(np.fromiter(generator)) or the python sum builtin instead.\n",
      "  score += np.sum(cnt * logsumexp(Elogthetad + Elogbeta[:, int(id)]) for id, cnt in doc)\n",
      "/usr/local/lib/python3.7/dist-packages/gensim/models/ldamodel.py:1077: DeprecationWarning: Calling np.sum(generator) is deprecated, and in the future will give a different result. Use np.sum(np.fromiter(generator)) or the python sum builtin instead.\n",
      "  score += np.sum(cnt * logsumexp(Elogthetad + Elogbeta[:, int(id)]) for id, cnt in doc)\n",
      "/usr/local/lib/python3.7/dist-packages/gensim/models/ldamodel.py:1077: DeprecationWarning: Calling np.sum(generator) is deprecated, and in the future will give a different result. Use np.sum(np.fromiter(generator)) or the python sum builtin instead.\n",
      "  score += np.sum(cnt * logsumexp(Elogthetad + Elogbeta[:, int(id)]) for id, cnt in doc)\n",
      "/usr/local/lib/python3.7/dist-packages/gensim/models/ldamodel.py:1077: DeprecationWarning: Calling np.sum(generator) is deprecated, and in the future will give a different result. Use np.sum(np.fromiter(generator)) or the python sum builtin instead.\n",
      "  score += np.sum(cnt * logsumexp(Elogthetad + Elogbeta[:, int(id)]) for id, cnt in doc)\n",
      "/usr/local/lib/python3.7/dist-packages/gensim/models/ldamodel.py:1077: DeprecationWarning: Calling np.sum(generator) is deprecated, and in the future will give a different result. Use np.sum(np.fromiter(generator)) or the python sum builtin instead.\n",
      "  score += np.sum(cnt * logsumexp(Elogthetad + Elogbeta[:, int(id)]) for id, cnt in doc)\n",
      "/usr/local/lib/python3.7/dist-packages/gensim/models/ldamodel.py:1077: DeprecationWarning: Calling np.sum(generator) is deprecated, and in the future will give a different result. Use np.sum(np.fromiter(generator)) or the python sum builtin instead.\n",
      "  score += np.sum(cnt * logsumexp(Elogthetad + Elogbeta[:, int(id)]) for id, cnt in doc)\n",
      "/usr/local/lib/python3.7/dist-packages/gensim/models/ldamodel.py:1077: DeprecationWarning: Calling np.sum(generator) is deprecated, and in the future will give a different result. Use np.sum(np.fromiter(generator)) or the python sum builtin instead.\n",
      "  score += np.sum(cnt * logsumexp(Elogthetad + Elogbeta[:, int(id)]) for id, cnt in doc)\n",
      "/usr/local/lib/python3.7/dist-packages/gensim/models/ldamodel.py:1077: DeprecationWarning: Calling np.sum(generator) is deprecated, and in the future will give a different result. Use np.sum(np.fromiter(generator)) or the python sum builtin instead.\n",
      "  score += np.sum(cnt * logsumexp(Elogthetad + Elogbeta[:, int(id)]) for id, cnt in doc)\n",
      "/usr/local/lib/python3.7/dist-packages/gensim/models/ldamodel.py:1077: DeprecationWarning: Calling np.sum(generator) is deprecated, and in the future will give a different result. Use np.sum(np.fromiter(generator)) or the python sum builtin instead.\n",
      "  score += np.sum(cnt * logsumexp(Elogthetad + Elogbeta[:, int(id)]) for id, cnt in doc)\n",
      "/usr/local/lib/python3.7/dist-packages/gensim/models/ldamodel.py:1077: DeprecationWarning: Calling np.sum(generator) is deprecated, and in the future will give a different result. Use np.sum(np.fromiter(generator)) or the python sum builtin instead.\n",
      "  score += np.sum(cnt * logsumexp(Elogthetad + Elogbeta[:, int(id)]) for id, cnt in doc)\n",
      "/usr/local/lib/python3.7/dist-packages/gensim/models/ldamodel.py:1077: DeprecationWarning: Calling np.sum(generator) is deprecated, and in the future will give a different result. Use np.sum(np.fromiter(generator)) or the python sum builtin instead.\n",
      "  score += np.sum(cnt * logsumexp(Elogthetad + Elogbeta[:, int(id)]) for id, cnt in doc)\n",
      "/usr/local/lib/python3.7/dist-packages/gensim/models/ldamodel.py:1077: DeprecationWarning: Calling np.sum(generator) is deprecated, and in the future will give a different result. Use np.sum(np.fromiter(generator)) or the python sum builtin instead.\n",
      "  score += np.sum(cnt * logsumexp(Elogthetad + Elogbeta[:, int(id)]) for id, cnt in doc)\n",
      "/usr/local/lib/python3.7/dist-packages/gensim/models/ldamodel.py:1077: DeprecationWarning: Calling np.sum(generator) is deprecated, and in the future will give a different result. Use np.sum(np.fromiter(generator)) or the python sum builtin instead.\n",
      "  score += np.sum(cnt * logsumexp(Elogthetad + Elogbeta[:, int(id)]) for id, cnt in doc)\n",
      "/usr/local/lib/python3.7/dist-packages/gensim/models/ldamodel.py:1077: DeprecationWarning: Calling np.sum(generator) is deprecated, and in the future will give a different result. Use np.sum(np.fromiter(generator)) or the python sum builtin instead.\n",
      "  score += np.sum(cnt * logsumexp(Elogthetad + Elogbeta[:, int(id)]) for id, cnt in doc)\n",
      "/usr/local/lib/python3.7/dist-packages/gensim/models/ldamodel.py:1077: DeprecationWarning: Calling np.sum(generator) is deprecated, and in the future will give a different result. Use np.sum(np.fromiter(generator)) or the python sum builtin instead.\n",
      "  score += np.sum(cnt * logsumexp(Elogthetad + Elogbeta[:, int(id)]) for id, cnt in doc)\n",
      "/usr/local/lib/python3.7/dist-packages/gensim/models/ldamodel.py:1077: DeprecationWarning: Calling np.sum(generator) is deprecated, and in the future will give a different result. Use np.sum(np.fromiter(generator)) or the python sum builtin instead.\n",
      "  score += np.sum(cnt * logsumexp(Elogthetad + Elogbeta[:, int(id)]) for id, cnt in doc)\n",
      "/usr/local/lib/python3.7/dist-packages/gensim/models/ldamodel.py:1077: DeprecationWarning: Calling np.sum(generator) is deprecated, and in the future will give a different result. Use np.sum(np.fromiter(generator)) or the python sum builtin instead.\n",
      "  score += np.sum(cnt * logsumexp(Elogthetad + Elogbeta[:, int(id)]) for id, cnt in doc)\n",
      "/usr/local/lib/python3.7/dist-packages/gensim/models/ldamodel.py:1077: DeprecationWarning: Calling np.sum(generator) is deprecated, and in the future will give a different result. Use np.sum(np.fromiter(generator)) or the python sum builtin instead.\n",
      "  score += np.sum(cnt * logsumexp(Elogthetad + Elogbeta[:, int(id)]) for id, cnt in doc)\n",
      "/usr/local/lib/python3.7/dist-packages/gensim/models/ldamodel.py:1077: DeprecationWarning: Calling np.sum(generator) is deprecated, and in the future will give a different result. Use np.sum(np.fromiter(generator)) or the python sum builtin instead.\n",
      "  score += np.sum(cnt * logsumexp(Elogthetad + Elogbeta[:, int(id)]) for id, cnt in doc)\n",
      "/usr/local/lib/python3.7/dist-packages/gensim/models/ldamodel.py:1077: DeprecationWarning: Calling np.sum(generator) is deprecated, and in the future will give a different result. Use np.sum(np.fromiter(generator)) or the python sum builtin instead.\n",
      "  score += np.sum(cnt * logsumexp(Elogthetad + Elogbeta[:, int(id)]) for id, cnt in doc)\n",
      "/usr/local/lib/python3.7/dist-packages/gensim/models/ldamodel.py:1077: DeprecationWarning: Calling np.sum(generator) is deprecated, and in the future will give a different result. Use np.sum(np.fromiter(generator)) or the python sum builtin instead.\n",
      "  score += np.sum(cnt * logsumexp(Elogthetad + Elogbeta[:, int(id)]) for id, cnt in doc)\n",
      "/usr/local/lib/python3.7/dist-packages/gensim/models/ldamodel.py:1077: DeprecationWarning: Calling np.sum(generator) is deprecated, and in the future will give a different result. Use np.sum(np.fromiter(generator)) or the python sum builtin instead.\n",
      "  score += np.sum(cnt * logsumexp(Elogthetad + Elogbeta[:, int(id)]) for id, cnt in doc)\n",
      "/usr/local/lib/python3.7/dist-packages/gensim/models/ldamodel.py:1077: DeprecationWarning: Calling np.sum(generator) is deprecated, and in the future will give a different result. Use np.sum(np.fromiter(generator)) or the python sum builtin instead.\n",
      "  score += np.sum(cnt * logsumexp(Elogthetad + Elogbeta[:, int(id)]) for id, cnt in doc)\n",
      "/usr/local/lib/python3.7/dist-packages/gensim/models/ldamodel.py:1077: DeprecationWarning: Calling np.sum(generator) is deprecated, and in the future will give a different result. Use np.sum(np.fromiter(generator)) or the python sum builtin instead.\n",
      "  score += np.sum(cnt * logsumexp(Elogthetad + Elogbeta[:, int(id)]) for id, cnt in doc)\n",
      "/usr/local/lib/python3.7/dist-packages/gensim/models/ldamodel.py:1077: DeprecationWarning: Calling np.sum(generator) is deprecated, and in the future will give a different result. Use np.sum(np.fromiter(generator)) or the python sum builtin instead.\n",
      "  score += np.sum(cnt * logsumexp(Elogthetad + Elogbeta[:, int(id)]) for id, cnt in doc)\n",
      "/usr/local/lib/python3.7/dist-packages/gensim/models/ldamodel.py:1077: DeprecationWarning: Calling np.sum(generator) is deprecated, and in the future will give a different result. Use np.sum(np.fromiter(generator)) or the python sum builtin instead.\n",
      "  score += np.sum(cnt * logsumexp(Elogthetad + Elogbeta[:, int(id)]) for id, cnt in doc)\n",
      "/usr/local/lib/python3.7/dist-packages/gensim/models/ldamodel.py:1077: DeprecationWarning: Calling np.sum(generator) is deprecated, and in the future will give a different result. Use np.sum(np.fromiter(generator)) or the python sum builtin instead.\n",
      "  score += np.sum(cnt * logsumexp(Elogthetad + Elogbeta[:, int(id)]) for id, cnt in doc)\n",
      "/usr/local/lib/python3.7/dist-packages/gensim/models/ldamodel.py:1077: DeprecationWarning: Calling np.sum(generator) is deprecated, and in the future will give a different result. Use np.sum(np.fromiter(generator)) or the python sum builtin instead.\n",
      "  score += np.sum(cnt * logsumexp(Elogthetad + Elogbeta[:, int(id)]) for id, cnt in doc)\n",
      "/usr/local/lib/python3.7/dist-packages/gensim/models/ldamodel.py:1077: DeprecationWarning: Calling np.sum(generator) is deprecated, and in the future will give a different result. Use np.sum(np.fromiter(generator)) or the python sum builtin instead.\n",
      "  score += np.sum(cnt * logsumexp(Elogthetad + Elogbeta[:, int(id)]) for id, cnt in doc)\n",
      "/usr/local/lib/python3.7/dist-packages/gensim/models/ldamodel.py:1077: DeprecationWarning: Calling np.sum(generator) is deprecated, and in the future will give a different result. Use np.sum(np.fromiter(generator)) or the python sum builtin instead.\n",
      "  score += np.sum(cnt * logsumexp(Elogthetad + Elogbeta[:, int(id)]) for id, cnt in doc)\n",
      "/usr/local/lib/python3.7/dist-packages/gensim/models/ldamodel.py:1077: DeprecationWarning: Calling np.sum(generator) is deprecated, and in the future will give a different result. Use np.sum(np.fromiter(generator)) or the python sum builtin instead.\n",
      "  score += np.sum(cnt * logsumexp(Elogthetad + Elogbeta[:, int(id)]) for id, cnt in doc)\n",
      "/usr/local/lib/python3.7/dist-packages/gensim/models/ldamodel.py:1077: DeprecationWarning: Calling np.sum(generator) is deprecated, and in the future will give a different result. Use np.sum(np.fromiter(generator)) or the python sum builtin instead.\n",
      "  score += np.sum(cnt * logsumexp(Elogthetad + Elogbeta[:, int(id)]) for id, cnt in doc)\n",
      "/usr/local/lib/python3.7/dist-packages/gensim/models/ldamodel.py:1077: DeprecationWarning: Calling np.sum(generator) is deprecated, and in the future will give a different result. Use np.sum(np.fromiter(generator)) or the python sum builtin instead.\n",
      "  score += np.sum(cnt * logsumexp(Elogthetad + Elogbeta[:, int(id)]) for id, cnt in doc)\n",
      "/usr/local/lib/python3.7/dist-packages/gensim/models/ldamodel.py:1077: DeprecationWarning: Calling np.sum(generator) is deprecated, and in the future will give a different result. Use np.sum(np.fromiter(generator)) or the python sum builtin instead.\n",
      "  score += np.sum(cnt * logsumexp(Elogthetad + Elogbeta[:, int(id)]) for id, cnt in doc)\n",
      "/usr/local/lib/python3.7/dist-packages/gensim/models/ldamodel.py:1077: DeprecationWarning: Calling np.sum(generator) is deprecated, and in the future will give a different result. Use np.sum(np.fromiter(generator)) or the python sum builtin instead.\n",
      "  score += np.sum(cnt * logsumexp(Elogthetad + Elogbeta[:, int(id)]) for id, cnt in doc)\n",
      "/usr/local/lib/python3.7/dist-packages/gensim/models/ldamodel.py:1077: DeprecationWarning: Calling np.sum(generator) is deprecated, and in the future will give a different result. Use np.sum(np.fromiter(generator)) or the python sum builtin instead.\n",
      "  score += np.sum(cnt * logsumexp(Elogthetad + Elogbeta[:, int(id)]) for id, cnt in doc)\n",
      "/usr/local/lib/python3.7/dist-packages/gensim/models/ldamodel.py:1077: DeprecationWarning: Calling np.sum(generator) is deprecated, and in the future will give a different result. Use np.sum(np.fromiter(generator)) or the python sum builtin instead.\n",
      "  score += np.sum(cnt * logsumexp(Elogthetad + Elogbeta[:, int(id)]) for id, cnt in doc)\n",
      "/usr/local/lib/python3.7/dist-packages/gensim/models/ldamodel.py:1077: DeprecationWarning: Calling np.sum(generator) is deprecated, and in the future will give a different result. Use np.sum(np.fromiter(generator)) or the python sum builtin instead.\n",
      "  score += np.sum(cnt * logsumexp(Elogthetad + Elogbeta[:, int(id)]) for id, cnt in doc)\n",
      "/usr/local/lib/python3.7/dist-packages/gensim/models/ldamodel.py:1077: DeprecationWarning: Calling np.sum(generator) is deprecated, and in the future will give a different result. Use np.sum(np.fromiter(generator)) or the python sum builtin instead.\n",
      "  score += np.sum(cnt * logsumexp(Elogthetad + Elogbeta[:, int(id)]) for id, cnt in doc)\n",
      "/usr/local/lib/python3.7/dist-packages/gensim/models/ldamodel.py:1077: DeprecationWarning: Calling np.sum(generator) is deprecated, and in the future will give a different result. Use np.sum(np.fromiter(generator)) or the python sum builtin instead.\n",
      "  score += np.sum(cnt * logsumexp(Elogthetad + Elogbeta[:, int(id)]) for id, cnt in doc)\n",
      "/usr/local/lib/python3.7/dist-packages/gensim/models/ldamodel.py:1077: DeprecationWarning: Calling np.sum(generator) is deprecated, and in the future will give a different result. Use np.sum(np.fromiter(generator)) or the python sum builtin instead.\n",
      "  score += np.sum(cnt * logsumexp(Elogthetad + Elogbeta[:, int(id)]) for id, cnt in doc)\n",
      "/usr/local/lib/python3.7/dist-packages/gensim/models/ldamodel.py:1077: DeprecationWarning: Calling np.sum(generator) is deprecated, and in the future will give a different result. Use np.sum(np.fromiter(generator)) or the python sum builtin instead.\n",
      "  score += np.sum(cnt * logsumexp(Elogthetad + Elogbeta[:, int(id)]) for id, cnt in doc)\n",
      "/usr/local/lib/python3.7/dist-packages/gensim/models/ldamodel.py:1077: DeprecationWarning: Calling np.sum(generator) is deprecated, and in the future will give a different result. Use np.sum(np.fromiter(generator)) or the python sum builtin instead.\n",
      "  score += np.sum(cnt * logsumexp(Elogthetad + Elogbeta[:, int(id)]) for id, cnt in doc)\n",
      "/usr/local/lib/python3.7/dist-packages/gensim/models/ldamodel.py:1077: DeprecationWarning: Calling np.sum(generator) is deprecated, and in the future will give a different result. Use np.sum(np.fromiter(generator)) or the python sum builtin instead.\n",
      "  score += np.sum(cnt * logsumexp(Elogthetad + Elogbeta[:, int(id)]) for id, cnt in doc)\n",
      "/usr/local/lib/python3.7/dist-packages/gensim/models/ldamodel.py:1077: DeprecationWarning: Calling np.sum(generator) is deprecated, and in the future will give a different result. Use np.sum(np.fromiter(generator)) or the python sum builtin instead.\n",
      "  score += np.sum(cnt * logsumexp(Elogthetad + Elogbeta[:, int(id)]) for id, cnt in doc)\n",
      "/usr/local/lib/python3.7/dist-packages/gensim/models/ldamodel.py:1077: DeprecationWarning: Calling np.sum(generator) is deprecated, and in the future will give a different result. Use np.sum(np.fromiter(generator)) or the python sum builtin instead.\n",
      "  score += np.sum(cnt * logsumexp(Elogthetad + Elogbeta[:, int(id)]) for id, cnt in doc)\n",
      "/usr/local/lib/python3.7/dist-packages/gensim/models/ldamodel.py:1077: DeprecationWarning: Calling np.sum(generator) is deprecated, and in the future will give a different result. Use np.sum(np.fromiter(generator)) or the python sum builtin instead.\n",
      "  score += np.sum(cnt * logsumexp(Elogthetad + Elogbeta[:, int(id)]) for id, cnt in doc)\n",
      "/usr/local/lib/python3.7/dist-packages/gensim/models/ldamodel.py:1077: DeprecationWarning: Calling np.sum(generator) is deprecated, and in the future will give a different result. Use np.sum(np.fromiter(generator)) or the python sum builtin instead.\n",
      "  score += np.sum(cnt * logsumexp(Elogthetad + Elogbeta[:, int(id)]) for id, cnt in doc)\n",
      "/usr/local/lib/python3.7/dist-packages/gensim/models/ldamodel.py:1077: DeprecationWarning: Calling np.sum(generator) is deprecated, and in the future will give a different result. Use np.sum(np.fromiter(generator)) or the python sum builtin instead.\n",
      "  score += np.sum(cnt * logsumexp(Elogthetad + Elogbeta[:, int(id)]) for id, cnt in doc)\n",
      "/usr/local/lib/python3.7/dist-packages/gensim/models/ldamodel.py:1077: DeprecationWarning: Calling np.sum(generator) is deprecated, and in the future will give a different result. Use np.sum(np.fromiter(generator)) or the python sum builtin instead.\n",
      "  score += np.sum(cnt * logsumexp(Elogthetad + Elogbeta[:, int(id)]) for id, cnt in doc)\n",
      "/usr/local/lib/python3.7/dist-packages/gensim/models/ldamodel.py:1077: DeprecationWarning: Calling np.sum(generator) is deprecated, and in the future will give a different result. Use np.sum(np.fromiter(generator)) or the python sum builtin instead.\n",
      "  score += np.sum(cnt * logsumexp(Elogthetad + Elogbeta[:, int(id)]) for id, cnt in doc)\n",
      "/usr/local/lib/python3.7/dist-packages/gensim/models/ldamodel.py:1077: DeprecationWarning: Calling np.sum(generator) is deprecated, and in the future will give a different result. Use np.sum(np.fromiter(generator)) or the python sum builtin instead.\n",
      "  score += np.sum(cnt * logsumexp(Elogthetad + Elogbeta[:, int(id)]) for id, cnt in doc)\n",
      "/usr/local/lib/python3.7/dist-packages/gensim/models/ldamodel.py:1077: DeprecationWarning: Calling np.sum(generator) is deprecated, and in the future will give a different result. Use np.sum(np.fromiter(generator)) or the python sum builtin instead.\n",
      "  score += np.sum(cnt * logsumexp(Elogthetad + Elogbeta[:, int(id)]) for id, cnt in doc)\n",
      "/usr/local/lib/python3.7/dist-packages/gensim/models/ldamodel.py:1077: DeprecationWarning: Calling np.sum(generator) is deprecated, and in the future will give a different result. Use np.sum(np.fromiter(generator)) or the python sum builtin instead.\n",
      "  score += np.sum(cnt * logsumexp(Elogthetad + Elogbeta[:, int(id)]) for id, cnt in doc)\n",
      "/usr/local/lib/python3.7/dist-packages/gensim/models/ldamodel.py:1077: DeprecationWarning: Calling np.sum(generator) is deprecated, and in the future will give a different result. Use np.sum(np.fromiter(generator)) or the python sum builtin instead.\n",
      "  score += np.sum(cnt * logsumexp(Elogthetad + Elogbeta[:, int(id)]) for id, cnt in doc)\n",
      "/usr/local/lib/python3.7/dist-packages/gensim/models/ldamodel.py:1077: DeprecationWarning: Calling np.sum(generator) is deprecated, and in the future will give a different result. Use np.sum(np.fromiter(generator)) or the python sum builtin instead.\n",
      "  score += np.sum(cnt * logsumexp(Elogthetad + Elogbeta[:, int(id)]) for id, cnt in doc)\n",
      "/usr/local/lib/python3.7/dist-packages/gensim/models/ldamodel.py:1077: DeprecationWarning: Calling np.sum(generator) is deprecated, and in the future will give a different result. Use np.sum(np.fromiter(generator)) or the python sum builtin instead.\n",
      "  score += np.sum(cnt * logsumexp(Elogthetad + Elogbeta[:, int(id)]) for id, cnt in doc)\n",
      "/usr/local/lib/python3.7/dist-packages/gensim/models/ldamodel.py:1077: DeprecationWarning: Calling np.sum(generator) is deprecated, and in the future will give a different result. Use np.sum(np.fromiter(generator)) or the python sum builtin instead.\n",
      "  score += np.sum(cnt * logsumexp(Elogthetad + Elogbeta[:, int(id)]) for id, cnt in doc)\n",
      "/usr/local/lib/python3.7/dist-packages/gensim/models/ldamodel.py:1077: DeprecationWarning: Calling np.sum(generator) is deprecated, and in the future will give a different result. Use np.sum(np.fromiter(generator)) or the python sum builtin instead.\n",
      "  score += np.sum(cnt * logsumexp(Elogthetad + Elogbeta[:, int(id)]) for id, cnt in doc)\n",
      "/usr/local/lib/python3.7/dist-packages/gensim/models/ldamodel.py:1077: DeprecationWarning: Calling np.sum(generator) is deprecated, and in the future will give a different result. Use np.sum(np.fromiter(generator)) or the python sum builtin instead.\n",
      "  score += np.sum(cnt * logsumexp(Elogthetad + Elogbeta[:, int(id)]) for id, cnt in doc)\n",
      "/usr/local/lib/python3.7/dist-packages/gensim/models/ldamodel.py:1077: DeprecationWarning: Calling np.sum(generator) is deprecated, and in the future will give a different result. Use np.sum(np.fromiter(generator)) or the python sum builtin instead.\n",
      "  score += np.sum(cnt * logsumexp(Elogthetad + Elogbeta[:, int(id)]) for id, cnt in doc)\n",
      "/usr/local/lib/python3.7/dist-packages/gensim/models/ldamodel.py:1077: DeprecationWarning: Calling np.sum(generator) is deprecated, and in the future will give a different result. Use np.sum(np.fromiter(generator)) or the python sum builtin instead.\n",
      "  score += np.sum(cnt * logsumexp(Elogthetad + Elogbeta[:, int(id)]) for id, cnt in doc)\n",
      "/usr/local/lib/python3.7/dist-packages/gensim/models/ldamodel.py:1077: DeprecationWarning: Calling np.sum(generator) is deprecated, and in the future will give a different result. Use np.sum(np.fromiter(generator)) or the python sum builtin instead.\n",
      "  score += np.sum(cnt * logsumexp(Elogthetad + Elogbeta[:, int(id)]) for id, cnt in doc)\n",
      "/usr/local/lib/python3.7/dist-packages/gensim/models/ldamodel.py:1077: DeprecationWarning: Calling np.sum(generator) is deprecated, and in the future will give a different result. Use np.sum(np.fromiter(generator)) or the python sum builtin instead.\n",
      "  score += np.sum(cnt * logsumexp(Elogthetad + Elogbeta[:, int(id)]) for id, cnt in doc)\n",
      "/usr/local/lib/python3.7/dist-packages/gensim/models/ldamodel.py:1077: DeprecationWarning: Calling np.sum(generator) is deprecated, and in the future will give a different result. Use np.sum(np.fromiter(generator)) or the python sum builtin instead.\n",
      "  score += np.sum(cnt * logsumexp(Elogthetad + Elogbeta[:, int(id)]) for id, cnt in doc)\n",
      "/usr/local/lib/python3.7/dist-packages/gensim/models/ldamodel.py:1077: DeprecationWarning: Calling np.sum(generator) is deprecated, and in the future will give a different result. Use np.sum(np.fromiter(generator)) or the python sum builtin instead.\n",
      "  score += np.sum(cnt * logsumexp(Elogthetad + Elogbeta[:, int(id)]) for id, cnt in doc)\n",
      "/usr/local/lib/python3.7/dist-packages/gensim/models/ldamodel.py:1077: DeprecationWarning: Calling np.sum(generator) is deprecated, and in the future will give a different result. Use np.sum(np.fromiter(generator)) or the python sum builtin instead.\n",
      "  score += np.sum(cnt * logsumexp(Elogthetad + Elogbeta[:, int(id)]) for id, cnt in doc)\n",
      "/usr/local/lib/python3.7/dist-packages/gensim/models/ldamodel.py:1077: DeprecationWarning: Calling np.sum(generator) is deprecated, and in the future will give a different result. Use np.sum(np.fromiter(generator)) or the python sum builtin instead.\n",
      "  score += np.sum(cnt * logsumexp(Elogthetad + Elogbeta[:, int(id)]) for id, cnt in doc)\n",
      "/usr/local/lib/python3.7/dist-packages/gensim/models/ldamodel.py:1077: DeprecationWarning: Calling np.sum(generator) is deprecated, and in the future will give a different result. Use np.sum(np.fromiter(generator)) or the python sum builtin instead.\n",
      "  score += np.sum(cnt * logsumexp(Elogthetad + Elogbeta[:, int(id)]) for id, cnt in doc)\n",
      "/usr/local/lib/python3.7/dist-packages/gensim/models/ldamodel.py:1077: DeprecationWarning: Calling np.sum(generator) is deprecated, and in the future will give a different result. Use np.sum(np.fromiter(generator)) or the python sum builtin instead.\n",
      "  score += np.sum(cnt * logsumexp(Elogthetad + Elogbeta[:, int(id)]) for id, cnt in doc)\n",
      "/usr/local/lib/python3.7/dist-packages/gensim/models/ldamodel.py:1077: DeprecationWarning: Calling np.sum(generator) is deprecated, and in the future will give a different result. Use np.sum(np.fromiter(generator)) or the python sum builtin instead.\n",
      "  score += np.sum(cnt * logsumexp(Elogthetad + Elogbeta[:, int(id)]) for id, cnt in doc)\n",
      "/usr/local/lib/python3.7/dist-packages/gensim/models/ldamodel.py:1077: DeprecationWarning: Calling np.sum(generator) is deprecated, and in the future will give a different result. Use np.sum(np.fromiter(generator)) or the python sum builtin instead.\n",
      "  score += np.sum(cnt * logsumexp(Elogthetad + Elogbeta[:, int(id)]) for id, cnt in doc)\n",
      "/usr/local/lib/python3.7/dist-packages/gensim/models/ldamodel.py:1077: DeprecationWarning: Calling np.sum(generator) is deprecated, and in the future will give a different result. Use np.sum(np.fromiter(generator)) or the python sum builtin instead.\n",
      "  score += np.sum(cnt * logsumexp(Elogthetad + Elogbeta[:, int(id)]) for id, cnt in doc)\n",
      "/usr/local/lib/python3.7/dist-packages/gensim/models/ldamodel.py:1077: DeprecationWarning: Calling np.sum(generator) is deprecated, and in the future will give a different result. Use np.sum(np.fromiter(generator)) or the python sum builtin instead.\n",
      "  score += np.sum(cnt * logsumexp(Elogthetad + Elogbeta[:, int(id)]) for id, cnt in doc)\n",
      "/usr/local/lib/python3.7/dist-packages/gensim/models/ldamodel.py:1077: DeprecationWarning: Calling np.sum(generator) is deprecated, and in the future will give a different result. Use np.sum(np.fromiter(generator)) or the python sum builtin instead.\n",
      "  score += np.sum(cnt * logsumexp(Elogthetad + Elogbeta[:, int(id)]) for id, cnt in doc)\n",
      "/usr/local/lib/python3.7/dist-packages/gensim/models/ldamodel.py:1077: DeprecationWarning: Calling np.sum(generator) is deprecated, and in the future will give a different result. Use np.sum(np.fromiter(generator)) or the python sum builtin instead.\n",
      "  score += np.sum(cnt * logsumexp(Elogthetad + Elogbeta[:, int(id)]) for id, cnt in doc)\n",
      "/usr/local/lib/python3.7/dist-packages/gensim/models/ldamodel.py:1077: DeprecationWarning: Calling np.sum(generator) is deprecated, and in the future will give a different result. Use np.sum(np.fromiter(generator)) or the python sum builtin instead.\n",
      "  score += np.sum(cnt * logsumexp(Elogthetad + Elogbeta[:, int(id)]) for id, cnt in doc)\n",
      "/usr/local/lib/python3.7/dist-packages/gensim/models/ldamodel.py:1077: DeprecationWarning: Calling np.sum(generator) is deprecated, and in the future will give a different result. Use np.sum(np.fromiter(generator)) or the python sum builtin instead.\n",
      "  score += np.sum(cnt * logsumexp(Elogthetad + Elogbeta[:, int(id)]) for id, cnt in doc)\n",
      "/usr/local/lib/python3.7/dist-packages/gensim/models/ldamodel.py:1077: DeprecationWarning: Calling np.sum(generator) is deprecated, and in the future will give a different result. Use np.sum(np.fromiter(generator)) or the python sum builtin instead.\n",
      "  score += np.sum(cnt * logsumexp(Elogthetad + Elogbeta[:, int(id)]) for id, cnt in doc)\n",
      "/usr/local/lib/python3.7/dist-packages/gensim/models/ldamodel.py:1077: DeprecationWarning: Calling np.sum(generator) is deprecated, and in the future will give a different result. Use np.sum(np.fromiter(generator)) or the python sum builtin instead.\n",
      "  score += np.sum(cnt * logsumexp(Elogthetad + Elogbeta[:, int(id)]) for id, cnt in doc)\n",
      "/usr/local/lib/python3.7/dist-packages/gensim/models/ldamodel.py:1077: DeprecationWarning: Calling np.sum(generator) is deprecated, and in the future will give a different result. Use np.sum(np.fromiter(generator)) or the python sum builtin instead.\n",
      "  score += np.sum(cnt * logsumexp(Elogthetad + Elogbeta[:, int(id)]) for id, cnt in doc)\n",
      "/usr/local/lib/python3.7/dist-packages/gensim/models/ldamodel.py:1077: DeprecationWarning: Calling np.sum(generator) is deprecated, and in the future will give a different result. Use np.sum(np.fromiter(generator)) or the python sum builtin instead.\n",
      "  score += np.sum(cnt * logsumexp(Elogthetad + Elogbeta[:, int(id)]) for id, cnt in doc)\n",
      "/usr/local/lib/python3.7/dist-packages/gensim/models/ldamodel.py:1077: DeprecationWarning: Calling np.sum(generator) is deprecated, and in the future will give a different result. Use np.sum(np.fromiter(generator)) or the python sum builtin instead.\n",
      "  score += np.sum(cnt * logsumexp(Elogthetad + Elogbeta[:, int(id)]) for id, cnt in doc)\n",
      "/usr/local/lib/python3.7/dist-packages/gensim/models/ldamodel.py:1077: DeprecationWarning: Calling np.sum(generator) is deprecated, and in the future will give a different result. Use np.sum(np.fromiter(generator)) or the python sum builtin instead.\n",
      "  score += np.sum(cnt * logsumexp(Elogthetad + Elogbeta[:, int(id)]) for id, cnt in doc)\n",
      "/usr/local/lib/python3.7/dist-packages/gensim/models/ldamodel.py:1077: DeprecationWarning: Calling np.sum(generator) is deprecated, and in the future will give a different result. Use np.sum(np.fromiter(generator)) or the python sum builtin instead.\n",
      "  score += np.sum(cnt * logsumexp(Elogthetad + Elogbeta[:, int(id)]) for id, cnt in doc)\n"
     ]
    },
    {
     "name": "stdout",
     "output_type": "stream",
     "text": [
      "0.106*\"covid\" + 0.098*\"vaccin\" + 0.026*\"dose\" + 0.021*\"elig\" + 0.019*\"got\" + 0.018*\"hospit\" + 0.017*\"chines\" + 0.015*\"first\" + 0.015*\"receiv\" + 0.013*\"health\"\n",
      "------------------------------------------------------------------------------------------------------------\n",
      "0.042*\"’\" + 0.023*\"s\" + 0.015*\"school\" + 0.015*\"hard\" + 0.015*\"“\" + 0.012*\"roll\" + 0.010*\"programm\" + 0.009*\"”\" + 0.009*\"‘\" + 0.008*\"it\"\n",
      "------------------------------------------------------------------------------------------------------------\n",
      "0.021*\"condit\" + 0.020*\"avail\" + 0.018*\"time\" + 0.016*\"easi\" + 0.016*\"fight\" + 0.016*\"come\" + 0.016*\"citizen\" + 0.016*\"t…\" + 0.016*\"win\" + 0.016*\"step\"\n",
      "------------------------------------------------------------------------------------------------------------\n",
      "0.923865795135498\n"
     ]
    }
   ],
   "source": [
    "all_models = {}\n",
    "coherences = []\n",
    "\n",
    "start_time = time.time()\n",
    "\n",
    "lda = gensim.models.LdaMulticore(bow_corpus, id2word=dictionary, num_topics=3, chunksize=1, passes=2)\n",
    "model_description = 'Bow corpus, 2 passes, 3 topics'\n",
    "all_models[model_description] = lda\n",
    "coherences.append(get_coherence(lda))\n",
    "\n",
    "for idx, topic in lda.print_topics(-1):\n",
    "#     print('Topic: {} \\nWords: {}'.format(idx, topic))\n",
    "    print(topic)\n",
    "    print('------------------------------------------------------------------------------------------------------------')\n",
    "    \n",
    "print(time.time() - start_time)"
   ]
  },
  {
   "cell_type": "code",
   "execution_count": null,
   "metadata": {
    "colab": {
     "base_uri": "https://localhost:8080/",
     "height": 861
    },
    "id": "ca2K3Yptumps",
    "outputId": "23bcd9fc-68d1-4d3f-e896-d340340cc8b9"
   },
   "outputs": [
    {
     "data": {
      "text/html": [
       "\n",
       "<link rel=\"stylesheet\" type=\"text/css\" href=\"https://cdn.jsdelivr.net/gh/bmabey/pyLDAvis@3.2.2/pyLDAvis/js/ldavis.v1.0.0.css\">\n",
       "\n",
       "\n",
       "<div id=\"ldavis_el591404538548896801375338832\"></div>\n",
       "<script type=\"text/javascript\">\n",
       "\n",
       "var ldavis_el591404538548896801375338832_data = {\"mdsDat\": {\"x\": [0.05740884370150673, 0.06516495152207258, -0.12257379522357931], \"y\": [0.13666374115722396, -0.1114713595509328, -0.02519238160629117], \"topics\": [1, 2, 3], \"cluster\": [1, 1, 1], \"Freq\": [47.27250980950489, 32.99899522993646, 19.728494960558642]}, \"tinfo\": {\"Term\": [\"covid\", \"vaccin\", \"\\u2019\", \"s\", \"dose\", \"condit\", \"avail\", \"time\", \"elig\", \"got\", \"easi\", \"come\", \"step\", \"senior\", \"win\", \"t\\u2026\", \"join\", \"hand\", \"hard\", \"citizen\", \"hospit\", \"\\u201c\", \"chines\", \"fight\", \"amp\", \"roll\", \"increas\", \"receiv\", \"school\", \"even\", \"covid\", \"vaccin\", \"dose\", \"elig\", \"got\", \"hospit\", \"chines\", \"health\", \"receiv\", \"today\", \"get\", \"worker\", \"two\", \"develop\", \"kasturba\", \"regist\", \"themse\\u2026\", \"urg\", \"first\", \"efficaci\", \"needs\\u2026\", \"perhap\", \"pfizer\", \"effect\", \"nation\", \"million\", \"make\", \"like\", \"card\", \"na\", \"book\", \"call\", \"onlin\", \"citizen\", \"\\u2019\", \"s\", \"hard\", \"roll\", \"think\", \"\\u201c\", \"it\", \"t\", \"\\u2018\", \"european\", \"programm\", \"general\", \"i\", \"fiasco\", \"match\", \"mercan\\u00adtil\\u2026\", \"pro\\u00adtec\\u00adtion\\u00ad\", \"re\\u00adcent\", \"roll\\u00adout\", \"union\", \"level\", \"johnson\", \"act\", \"church\", \"council\", \"dial\\u2026\", \"high\", \"ioan\", \"paicip\", \"prof\", \"school\", \"\\u201d\", \"care\", \"due\", \"everyon\", \"impact\", \"sure\", \"va\\u2026\", \"work\", \"team\", \"began\\u2026\", \"eight\", \"\\ud835\\uddd6\\ud835\\uddee\\ud835\\uddff\\ud835\\uddfd\\ud835\\uddf2\\ud835\\ude01\", \"\\ud835\\udde6\\ud835\\ude04\\ud835\\uddf2\\ud835\\uddfd\\ud835\\ude01\", \"\\ud835\\ude01\\ud835\\uddf5\\ud835\\uddf2\", \"\\ud835\\ude02\\ud835\\uddfb\\ud835\\uddf1\\ud835\\uddf2\\ud835\\uddff\", \"death\", \"avail\", \"time\", \"condit\", \"easi\", \"come\", \"increas\", \"hand\", \"join\", \"senior\", \"step\", \"t\\u2026\", \"win\", \"clot\", \"die\", \"could\", \"dr\", \"amp\", \"mani\", \"even\", \"astrazeneca\", \"data\", \"deep\", \"overal\", \"pulmonary\\u2026\", \"suggest\", \"venous\", \"thrombosi\", \"bangladesh\", \"facil\", \"hundr\", \"lah\", \"malaysia\", \"malu\", \"produc\", \"readi\", \"they\\u2026\", \"fight\", \"citizen\"], \"Freq\": [53.0, 49.0, 14.0, 8.0, 13.0, 5.0, 4.0, 4.0, 11.0, 10.0, 4.0, 4.0, 4.0, 4.0, 4.0, 4.0, 4.0, 4.0, 5.0, 9.0, 9.0, 6.0, 9.0, 6.0, 3.0, 4.0, 2.0, 7.0, 7.0, 3.0, 53.05512399901009, 49.05085169556572, 13.175761655457785, 10.676788477625525, 9.752376220750838, 9.122011716937921, 8.453651415188814, 6.687802621695865, 7.304428979278089, 5.364699057829712, 4.801109937733469, 4.557899008419502, 4.474060170750535, 5.481635863109526, 4.803628023395744, 4.803628023395744, 4.803628023395744, 4.803628023395744, 7.577140078634384, 4.329513389956234, 4.329513389956234, 4.329513389956234, 2.8565201482204703, 2.816626703042676, 2.5039236429485476, 3.6111048547342435, 2.9049446216824966, 1.7249225652158795, 1.69563281788867, 1.69563281788867, 4.880365356438919, 4.275337750443134, 3.920814019971866, 5.2621688140461025, 14.626848527406016, 8.167338613193717, 5.199486489991715, 4.097678483258121, 2.6233208340094305, 5.15143421742103, 2.903541597145962, 2.0720640406536006, 3.003540163401301, 1.6052245266642222, 3.5139134743092066, 2.162314710617508, 1.603729152323613, 1.4451606196955264, 1.4451606196955264, 1.4451606196955264, 1.4451606196955264, 1.4451606196955264, 1.4451606196955264, 1.4451606196955264, 1.8124598692632448, 2.5824354006491244, 1.3541933145833907, 1.3541933145833907, 1.3541933145833907, 1.3541933145833907, 1.3541933145833907, 1.3541933145833907, 1.3541933145833907, 1.3541933145833907, 5.238834441819173, 3.1829883357950357, 2.4968787884517325, 2.7740475117430528, 2.7740475117430528, 2.7740475117430528, 2.7740475117430528, 2.7740475117430528, 2.732643948569361, 2.7209950507379492, 1.9974827737878222, 1.9974827737878222, 1.9974827737878222, 1.9974827737878222, 1.9974827737878222, 1.9974827737878222, 1.9087860055359764, 4.230855653030734, 3.743901384487197, 4.408356323857679, 3.4214977397998867, 3.382159673433707, 2.241272354384319, 3.356735063819188, 3.356735063819188, 3.356735063819188, 3.356735063819188, 3.356735063819188, 3.356735063819188, 1.433310763279483, 2.073377011260354, 1.9750036584162867, 1.5685566038059942, 2.50146530929033, 1.685939124114545, 2.262276476020903, 1.907506267181692, 0.6782978802024409, 0.6782978802024409, 0.6782978802024409, 0.6782978802024409, 0.6782978802024409, 0.6782978802024409, 0.6827112728500687, 1.9129644229180363, 1.9129644229180363, 1.9129644229180363, 1.9129644229180363, 1.9129644229180363, 1.9129644229180363, 1.9129644229180363, 1.9129644229180363, 1.9129644229180363, 3.3950078586761725, 3.3705419934199283], \"Total\": [53.0, 49.0, 14.0, 8.0, 13.0, 5.0, 4.0, 4.0, 11.0, 10.0, 4.0, 4.0, 4.0, 4.0, 4.0, 4.0, 4.0, 4.0, 5.0, 9.0, 9.0, 6.0, 9.0, 6.0, 3.0, 4.0, 2.0, 7.0, 7.0, 3.0, 53.59599916060282, 49.558475694121455, 13.66667271804077, 11.174834974947771, 10.225568808771959, 9.678473073956825, 9.019149216593378, 7.274591280503099, 7.948967186423929, 5.8833539485182405, 5.269724609395331, 5.012497683173267, 4.933860609502367, 6.073962468133359, 5.326859760946657, 5.326859760946657, 5.326859760946657, 5.326859760946657, 8.423915209112794, 4.836099931182231, 4.836099931182231, 4.836099931182231, 3.3172550349676673, 3.2807725863825223, 3.073217969857307, 4.451652403072189, 3.6887552066854568, 2.235572172183692, 2.2160061715511983, 2.2160061715511983, 6.429699448379532, 5.985506895512421, 5.867551885610474, 9.038627717326307, 14.986744195819599, 8.540228416556904, 5.800990144571569, 4.579388784508226, 2.9872951478825267, 6.01501620778724, 3.3931821212802538, 2.427563034690741, 3.546700232877533, 1.9817207610082883, 4.410267785508659, 2.728781584558097, 2.088903761601057, 1.8889291633062646, 1.8889291633062646, 1.8889291633062646, 1.8889291633062646, 1.8889291633062646, 1.8889291633062646, 1.8889291633062646, 2.376910509357409, 3.3897565245294663, 1.8229468858278575, 1.8229468858278575, 1.8229468858278575, 1.8229468858278575, 1.8229468858278575, 1.8229468858278575, 1.8229468858278575, 1.8229468858278575, 7.627037588115146, 4.502969275813335, 3.6532050064884474, 4.140490850108041, 4.140490850108041, 4.140490850108041, 4.140490850108041, 4.140490850108041, 4.128213810450122, 4.124743577936183, 3.4304353874540894, 3.4304353874540894, 3.4304353874540894, 3.4304353874540894, 3.4304353874540894, 3.4304353874540894, 3.38890700749715, 4.771995532113106, 4.456554239702523, 5.255870403985375, 4.360371924827381, 4.346646536926276, 2.904334129197824, 4.3558899679074665, 4.3558899679074665, 4.3558899679074665, 4.3558899679074665, 4.3558899679074665, 4.3558899679074665, 1.959324135923892, 2.8478561579072132, 2.939234846228431, 2.388384070545605, 3.9801931025895563, 2.6846435504836474, 3.629843425697891, 3.3086428782213497, 1.2019202108882223, 1.2019202108882223, 1.2019202108882223, 1.2019202108882223, 1.2019202108882223, 1.2019202108882223, 1.225660921817671, 3.567567581161112, 3.567567581161112, 3.567567581161112, 3.567567581161112, 3.567567581161112, 3.567567581161112, 3.567567581161112, 3.567567581161112, 3.567567581161112, 6.8813730017436185, 9.038627717326307], \"Category\": [\"Default\", \"Default\", \"Default\", \"Default\", \"Default\", \"Default\", \"Default\", \"Default\", \"Default\", \"Default\", \"Default\", \"Default\", \"Default\", \"Default\", \"Default\", \"Default\", \"Default\", \"Default\", \"Default\", \"Default\", \"Default\", \"Default\", \"Default\", \"Default\", \"Default\", \"Default\", \"Default\", \"Default\", \"Default\", \"Default\", \"Topic1\", \"Topic1\", \"Topic1\", \"Topic1\", \"Topic1\", \"Topic1\", \"Topic1\", \"Topic1\", \"Topic1\", \"Topic1\", \"Topic1\", \"Topic1\", \"Topic1\", \"Topic1\", \"Topic1\", \"Topic1\", \"Topic1\", \"Topic1\", \"Topic1\", \"Topic1\", \"Topic1\", \"Topic1\", \"Topic1\", \"Topic1\", \"Topic1\", \"Topic1\", \"Topic1\", \"Topic1\", \"Topic1\", \"Topic1\", \"Topic1\", \"Topic1\", \"Topic1\", \"Topic1\", \"Topic2\", \"Topic2\", \"Topic2\", \"Topic2\", \"Topic2\", \"Topic2\", \"Topic2\", \"Topic2\", \"Topic2\", \"Topic2\", \"Topic2\", \"Topic2\", \"Topic2\", \"Topic2\", \"Topic2\", \"Topic2\", \"Topic2\", \"Topic2\", \"Topic2\", \"Topic2\", \"Topic2\", \"Topic2\", \"Topic2\", \"Topic2\", \"Topic2\", \"Topic2\", \"Topic2\", \"Topic2\", \"Topic2\", \"Topic2\", \"Topic2\", \"Topic2\", \"Topic2\", \"Topic2\", \"Topic2\", \"Topic2\", \"Topic2\", \"Topic2\", \"Topic2\", \"Topic2\", \"Topic2\", \"Topic2\", \"Topic2\", \"Topic2\", \"Topic2\", \"Topic2\", \"Topic2\", \"Topic3\", \"Topic3\", \"Topic3\", \"Topic3\", \"Topic3\", \"Topic3\", \"Topic3\", \"Topic3\", \"Topic3\", \"Topic3\", \"Topic3\", \"Topic3\", \"Topic3\", \"Topic3\", \"Topic3\", \"Topic3\", \"Topic3\", \"Topic3\", \"Topic3\", \"Topic3\", \"Topic3\", \"Topic3\", \"Topic3\", \"Topic3\", \"Topic3\", \"Topic3\", \"Topic3\", \"Topic3\", \"Topic3\", \"Topic3\", \"Topic3\", \"Topic3\", \"Topic3\", \"Topic3\", \"Topic3\", \"Topic3\", \"Topic3\", \"Topic3\"], \"logprob\": [30.0, 29.0, 28.0, 27.0, 26.0, 25.0, 24.0, 23.0, 22.0, 21.0, 20.0, 19.0, 18.0, 17.0, 16.0, 15.0, 14.0, 13.0, 12.0, 11.0, 10.0, 9.0, 8.0, 7.0, 6.0, 5.0, 4.0, 3.0, 2.0, 1.0, -2.2436, -2.322, -3.6365, -3.8468, -3.9374, -4.0042, -4.0803, -4.3146, -4.2264, -4.5351, -4.646, -4.698, -4.7166, -4.5135, -4.6455, -4.6455, -4.6455, -4.6455, -4.1898, -4.7494, -4.7494, -4.7494, -5.1653, -5.1794, -5.297, -4.9309, -5.1485, -5.6697, -5.6868, -5.6868, -4.6297, -4.762, -4.8486, -4.5544, -3.1726, -3.7553, -4.2069, -4.445, -4.891, -4.2162, -4.7895, -5.1269, -4.7557, -5.3822, -4.5987, -5.0843, -5.3831, -5.4872, -5.4872, -5.4872, -5.4872, -5.4872, -5.4872, -5.4872, -5.2608, -4.9067, -5.5522, -5.5522, -5.5522, -5.5522, -5.5522, -5.5522, -5.5522, -5.5522, -4.1993, -4.6976, -4.9404, -4.8351, -4.8351, -4.8351, -4.8351, -4.8351, -4.8502, -4.8544, -5.1636, -5.1636, -5.1636, -5.1636, -5.1636, -5.1636, -5.209, -3.8986, -4.0209, -3.8575, -4.111, -4.1225, -4.534, -4.1301, -4.1301, -4.1301, -4.1301, -4.1301, -4.1301, -4.981, -4.6119, -4.6605, -4.8909, -4.4242, -4.8187, -4.5247, -4.6952, -5.7292, -5.7292, -5.7292, -5.7292, -5.7292, -5.7292, -5.7227, -4.6924, -4.6924, -4.6924, -4.6924, -4.6924, -4.6924, -4.6924, -4.6924, -4.6924, -4.1187, -4.126], \"loglift\": [30.0, 29.0, 28.0, 27.0, 26.0, 25.0, 24.0, 23.0, 22.0, 21.0, 20.0, 19.0, 18.0, 17.0, 16.0, 15.0, 14.0, 13.0, 12.0, 11.0, 10.0, 9.0, 8.0, 7.0, 6.0, 5.0, 4.0, 3.0, 2.0, 1.0, 0.7391, 0.7389, 0.7127, 0.7036, 0.7019, 0.69, 0.6845, 0.6651, 0.6647, 0.657, 0.6561, 0.6542, 0.6514, 0.6466, 0.6459, 0.6459, 0.6459, 0.6459, 0.6433, 0.6386, 0.6386, 0.6386, 0.5997, 0.5967, 0.5444, 0.54, 0.5104, 0.4899, 0.4816, 0.4816, 0.4735, 0.4128, 0.3461, 0.2083, 1.0844, 1.064, 0.9992, 0.9975, 0.9788, 0.9537, 0.9529, 0.9504, 0.9425, 0.898, 0.8815, 0.876, 0.8444, 0.8409, 0.8409, 0.8409, 0.8409, 0.8409, 0.8409, 0.8409, 0.8376, 0.8367, 0.8114, 0.8114, 0.8114, 0.8114, 0.8114, 0.8114, 0.8114, 0.8114, 0.7331, 0.7618, 0.7281, 0.7082, 0.7082, 0.7082, 0.7082, 0.7082, 0.6961, 0.6927, 0.5679, 0.5679, 0.5679, 0.5679, 0.5679, 0.5679, 0.5347, 1.5027, 1.4489, 1.4473, 1.3806, 1.3722, 1.3639, 1.3625, 1.3625, 1.3625, 1.3625, 1.3625, 1.3625, 1.3105, 1.3057, 1.2255, 1.2026, 1.1587, 1.1579, 1.1503, 1.0724, 1.051, 1.051, 1.051, 1.051, 1.051, 1.051, 1.0379, 0.9999, 0.9999, 0.9999, 0.9999, 0.9999, 0.9999, 0.9999, 0.9999, 0.9999, 0.9166, 0.6367]}, \"token.table\": {\"Topic\": [2, 1, 3, 1, 3, 3, 1, 3, 1, 2, 3, 1, 2, 3, 1, 3, 1, 1, 2, 1, 2, 1, 3, 3, 1, 3, 1, 3, 1, 3, 2, 1, 3, 1, 2, 3, 3, 1, 2, 3, 1, 3, 1, 2, 1, 3, 1, 1, 1, 2, 3, 1, 2, 1, 2, 3, 1, 2, 1, 3, 2, 1, 2, 3, 1, 2, 2, 1, 1, 1, 3, 2, 1, 2, 1, 1, 3, 2, 1, 2, 3, 2, 2, 1, 2, 1, 3, 1, 1, 3, 2, 1, 1, 2, 1, 3, 1, 3, 1, 3, 2, 2, 1, 3, 1, 1, 1, 1, 3, 3, 2, 1, 1, 1, 3, 2, 1, 2, 2, 3, 1, 3, 1, 1, 2, 2, 2, 2, 1, 2, 1, 3, 1, 3, 3, 1, 2, 2, 1, 2, 1, 1, 3, 2, 3, 3, 1, 1, 1, 3, 2, 1, 1, 1, 2, 3, 1, 3, 1, 2, 1, 2, 2, 1, 2, 1, 2, 1, 2, 3, 1, 2, 3, 1, 2, 3, 1, 2, 3], \"Freq\": [0.5485623348514999, 0.25124409148626214, 0.7537322744587864, 0.30223872349063463, 0.6044774469812693, 0.8382237521141903, 0.2803030292349884, 0.5606060584699768, 0.2915081868783291, 0.5830163737566582, 0.2915081868783291, 0.7776413252504583, 0.15552826505009165, 0.15552826505009165, 0.6682809108446544, 0.1670702277111636, 0.9025245622849531, 0.2737322428453653, 0.5474644856907306, 0.887001623754228, 0.5485623348514999, 0.5531813187100748, 0.3319087912260449, 0.5103800752847175, 0.23006241512960665, 0.69018724538882, 0.19026344318568603, 0.7610537727427441, 0.3402246000462265, 0.680449200092453, 0.5485623348514999, 0.9888797826342058, 0.832001983942842, 0.2950803895733161, 0.5901607791466322, 0.2950803895733161, 0.832001983942842, 0.823185857046725, 0.5485623348514999, 0.702282660747068, 0.9512190910110312, 0.8373862582089311, 0.24151725875059143, 0.7245517762517744, 0.22933823472858642, 0.6880147041857593, 0.9144187599140754, 0.8271127679163077, 0.2915081868783291, 0.5830163737566582, 0.2915081868783291, 0.9843545810439507, 1.0092239226390358, 0.2754939766603666, 0.2754939766603666, 0.5509879533207332, 0.24151725875059143, 0.7245517762517744, 0.2803030292349884, 0.5606060584699768, 0.529400476961064, 0.29063967314273403, 0.29063967314273403, 0.4359595097141011, 0.9496771752101432, 0.1187096469012679, 0.7329278427111208, 0.9488161850214256, 0.9779407079459036, 0.2295742104065112, 0.6887226312195336, 0.8619218228941284, 0.9622533734315711, 0.5485623348514999, 0.9298987486174359, 0.2803030292349884, 0.5606060584699768, 0.9574399916188977, 0.24151725875059143, 0.7245517762517744, 0.688626002047636, 0.5485623348514999, 0.8841258419893167, 0.2950064385933472, 0.8850193157800416, 0.2295742104065112, 0.6887226312195336, 0.9386393155414009, 0.2803030292349884, 0.5606060584699768, 0.841428397125769, 0.8946255571102467, 0.8132824847153953, 0.27109416157179844, 0.2803030292349884, 0.5606060584699768, 0.2803030292349884, 0.5606060584699768, 0.3724889286772714, 0.7449778573545428, 0.529400476961064, 0.529400476961064, 0.8985427517295616, 0.2246356879323904, 0.9025245622849531, 0.9761754712566949, 0.8271127679163077, 0.6817153180715045, 0.34085765903575227, 0.832001983942842, 0.5485623348514999, 0.8271127679163077, 0.9043621814954124, 0.2803030292349884, 0.5606060584699768, 0.5485623348514999, 0.22674360121301904, 0.9069744048520761, 0.529400476961064, 0.832001983942842, 0.2803030292349884, 0.5606060584699768, 0.8806175489006076, 0.9386393155414009, 0.529400476961064, 0.8734790139530715, 0.529400476961064, 0.936743095125001, 0.26222500897550394, 0.6555625224387598, 0.2295742104065112, 0.6887226312195336, 0.2295742104065112, 0.6887226312195336, 0.832001983942842, 0.24151725875059143, 0.7245517762517744, 0.823871500521011, 0.24243931316097725, 0.7273179394829318, 0.9386393155414009, 0.2803030292349884, 0.5606060584699768, 1.004252961789356, 0.815886337076805, 0.8975544299146692, 0.8498553790494419, 0.810724160365658, 0.2295742104065112, 0.6887226312195336, 0.529400476961064, 0.9386393155414009, 0.9887309751500751, 0.24151725875059143, 0.7245517762517744, 0.832001983942842, 0.2295742104065112, 0.6887226312195336, 0.24223551538648733, 0.7267065461594621, 0.9975066954713573, 0.8458566563337718, 1.0008845019309864, 0.1662505910965571, 0.8312529554827855, 0.22207568800686034, 0.666227064020581, 0.2915081868783291, 0.5830163737566582, 0.2915081868783291, 0.2915081868783291, 0.5830163737566582, 0.2915081868783291, 0.2915081868783291, 0.5830163737566582, 0.2915081868783291, 0.2915081868783291, 0.5830163737566582, 0.2915081868783291], \"Term\": [\"act\", \"amp\", \"amp\", \"astrazeneca\", \"astrazeneca\", \"avail\", \"bangladesh\", \"bangladesh\", \"began\\u2026\", \"began\\u2026\", \"began\\u2026\", \"book\", \"book\", \"book\", \"call\", \"call\", \"card\", \"care\", \"care\", \"chines\", \"church\", \"citizen\", \"citizen\", \"clot\", \"come\", \"come\", \"condit\", \"condit\", \"could\", \"could\", \"council\", \"covid\", \"data\", \"death\", \"death\", \"death\", \"deep\", \"develop\", \"dial\\u2026\", \"die\", \"dose\", \"dr\", \"due\", \"due\", \"easi\", \"easi\", \"effect\", \"efficaci\", \"eight\", \"eight\", \"eight\", \"elig\", \"european\", \"even\", \"even\", \"even\", \"everyon\", \"everyon\", \"facil\", \"facil\", \"fiasco\", \"fight\", \"fight\", \"fight\", \"first\", \"first\", \"general\", \"get\", \"got\", \"hand\", \"hand\", \"hard\", \"health\", \"high\", \"hospit\", \"hundr\", \"hundr\", \"i\", \"impact\", \"impact\", \"increas\", \"ioan\", \"it\", \"johnson\", \"johnson\", \"join\", \"join\", \"kasturba\", \"lah\", \"lah\", \"level\", \"like\", \"make\", \"make\", \"malaysia\", \"malaysia\", \"malu\", \"malu\", \"mani\", \"mani\", \"match\", \"mercan\\u00adtil\\u2026\", \"million\", \"million\", \"na\", \"nation\", \"needs\\u2026\", \"onlin\", \"onlin\", \"overal\", \"paicip\", \"perhap\", \"pfizer\", \"produc\", \"produc\", \"prof\", \"programm\", \"programm\", \"pro\\u00adtec\\u00adtion\\u00ad\", \"pulmonary\\u2026\", \"readi\", \"readi\", \"receiv\", \"regist\", \"re\\u00adcent\", \"roll\", \"roll\\u00adout\", \"s\", \"school\", \"school\", \"senior\", \"senior\", \"step\", \"step\", \"suggest\", \"sure\", \"sure\", \"t\", \"team\", \"team\", \"themse\\u2026\", \"they\\u2026\", \"they\\u2026\", \"think\", \"thrombosi\", \"time\", \"today\", \"two\", \"t\\u2026\", \"t\\u2026\", \"union\", \"urg\", \"vaccin\", \"va\\u2026\", \"va\\u2026\", \"venous\", \"win\", \"win\", \"work\", \"work\", \"worker\", \"\\u2018\", \"\\u2019\", \"\\u201c\", \"\\u201c\", \"\\u201d\", \"\\u201d\", \"\\ud835\\uddd6\\ud835\\uddee\\ud835\\uddff\\ud835\\uddfd\\ud835\\uddf2\\ud835\\ude01\", \"\\ud835\\uddd6\\ud835\\uddee\\ud835\\uddff\\ud835\\uddfd\\ud835\\uddf2\\ud835\\ude01\", \"\\ud835\\uddd6\\ud835\\uddee\\ud835\\uddff\\ud835\\uddfd\\ud835\\uddf2\\ud835\\ude01\", \"\\ud835\\udde6\\ud835\\ude04\\ud835\\uddf2\\ud835\\uddfd\\ud835\\ude01\", \"\\ud835\\udde6\\ud835\\ude04\\ud835\\uddf2\\ud835\\uddfd\\ud835\\ude01\", \"\\ud835\\udde6\\ud835\\ude04\\ud835\\uddf2\\ud835\\uddfd\\ud835\\ude01\", \"\\ud835\\ude01\\ud835\\uddf5\\ud835\\uddf2\", \"\\ud835\\ude01\\ud835\\uddf5\\ud835\\uddf2\", \"\\ud835\\ude01\\ud835\\uddf5\\ud835\\uddf2\", \"\\ud835\\ude02\\ud835\\uddfb\\ud835\\uddf1\\ud835\\uddf2\\ud835\\uddff\", \"\\ud835\\ude02\\ud835\\uddfb\\ud835\\uddf1\\ud835\\uddf2\\ud835\\uddff\", \"\\ud835\\ude02\\ud835\\uddfb\\ud835\\uddf1\\ud835\\uddf2\\ud835\\uddff\"]}, \"R\": 30, \"lambda.step\": 0.01, \"plot.opts\": {\"xlab\": \"PC1\", \"ylab\": \"PC2\"}, \"topic.order\": [1, 2, 3]};\n",
       "\n",
       "function LDAvis_load_lib(url, callback){\n",
       "  var s = document.createElement('script');\n",
       "  s.src = url;\n",
       "  s.async = true;\n",
       "  s.onreadystatechange = s.onload = callback;\n",
       "  s.onerror = function(){console.warn(\"failed to load library \" + url);};\n",
       "  document.getElementsByTagName(\"head\")[0].appendChild(s);\n",
       "}\n",
       "\n",
       "if(typeof(LDAvis) !== \"undefined\"){\n",
       "   // already loaded: just create the visualization\n",
       "   !function(LDAvis){\n",
       "       new LDAvis(\"#\" + \"ldavis_el591404538548896801375338832\", ldavis_el591404538548896801375338832_data);\n",
       "   }(LDAvis);\n",
       "}else if(typeof define === \"function\" && define.amd){\n",
       "   // require.js is available: use it to load d3/LDAvis\n",
       "   require.config({paths: {d3: \"https://d3js.org/d3.v5\"}});\n",
       "   require([\"d3\"], function(d3){\n",
       "      window.d3 = d3;\n",
       "      LDAvis_load_lib(\"https://cdn.jsdelivr.net/gh/bmabey/pyLDAvis@3.2.2/pyLDAvis/js/ldavis.v3.0.0.js\", function(){\n",
       "        new LDAvis(\"#\" + \"ldavis_el591404538548896801375338832\", ldavis_el591404538548896801375338832_data);\n",
       "      });\n",
       "    });\n",
       "}else{\n",
       "    // require.js not available: dynamically load d3 & LDAvis\n",
       "    LDAvis_load_lib(\"https://d3js.org/d3.v5.js\", function(){\n",
       "         LDAvis_load_lib(\"https://cdn.jsdelivr.net/gh/bmabey/pyLDAvis@3.2.2/pyLDAvis/js/ldavis.v3.0.0.js\", function(){\n",
       "                 new LDAvis(\"#\" + \"ldavis_el591404538548896801375338832\", ldavis_el591404538548896801375338832_data);\n",
       "            })\n",
       "         });\n",
       "}\n",
       "</script>"
      ],
      "text/plain": [
       "PreparedData(topic_coordinates=              x         y  topics  cluster       Freq\n",
       "topic                                                \n",
       "0      0.057409  0.136664  1       1        47.272510\n",
       "1      0.065165 -0.111471  2       1        32.998995\n",
       "2     -0.122574 -0.025192  3       1        19.728495, topic_info=        Term       Freq      Total Category  logprob  loglift\n",
       "1    covid    53.000000  53.000000  Default  30.0000  30.0000\n",
       "10   vaccin   49.000000  49.000000  Default  29.0000  29.0000\n",
       "12   ’        14.000000  14.000000  Default  28.0000  28.0000\n",
       "225  s        8.000000   8.000000   Default  27.0000  27.0000\n",
       "53   dose     13.000000  13.000000  Default  26.0000  26.0000\n",
       "..    ...           ...        ...      ...      ...      ...\n",
       "588  produc   1.912964   3.567568   Topic3  -4.6924   0.9999 \n",
       "589  readi    1.912964   3.567568   Topic3  -4.6924   0.9999 \n",
       "590  they…    1.912964   3.567568   Topic3  -4.6924   0.9999 \n",
       "561  fight    3.395008   6.881373   Topic3  -4.1187   0.9166 \n",
       "139  citizen  3.370542   9.038628   Topic3  -4.1260   0.6367 \n",
       "\n",
       "[149 rows x 6 columns], token_table=      Topic      Freq         Term\n",
       "term                              \n",
       "543   2      0.548562  act        \n",
       "166   1      0.251244  amp        \n",
       "166   3      0.753732  amp        \n",
       "415   1      0.302239  astrazeneca\n",
       "415   3      0.604477  astrazeneca\n",
       "...  ..           ...          ...\n",
       "569   2      0.583016  𝘁𝗵𝗲        \n",
       "569   3      0.291508  𝘁𝗵𝗲        \n",
       "570   1      0.291508  𝘂𝗻𝗱𝗲𝗿      \n",
       "570   2      0.583016  𝘂𝗻𝗱𝗲𝗿      \n",
       "570   3      0.291508  𝘂𝗻𝗱𝗲𝗿      \n",
       "\n",
       "[179 rows x 3 columns], R=30, lambda_step=0.01, plot_opts={'xlab': 'PC1', 'ylab': 'PC2'}, topic_order=[1, 2, 3])"
      ]
     },
     "execution_count": 57,
     "metadata": {
      "tags": []
     },
     "output_type": "execute_result"
    }
   ],
   "source": [
    "pyLDAvis.enable_notebook()\n",
    "lda = all_models['Bow corpus, 2 passes, 3 topics']\n",
    "vis = pyLDAvis.gensim.prepare(lda, bow_corpus, dictionary, mds='mmds')\n",
    "vis"
   ]
  },
  {
   "cell_type": "markdown",
   "metadata": {
    "id": "DjwQmjin8GS-"
   },
   "source": [
    "# Machine Learning Models for Text Classification:"
   ]
  },
  {
   "cell_type": "markdown",
   "metadata": {
    "id": "M3ym-VefdH3i"
   },
   "source": [
    "## Multinomial NB:"
   ]
  },
  {
   "cell_type": "markdown",
   "metadata": {
    "id": "u953WkptxDui"
   },
   "source": [
    "**Importing csv file after adding hand tagged sentiemnt of each tweet: +1 for positive tweet, 0 for neutral and -1 for negative tweet. **"
   ]
  },
  {
   "cell_type": "code",
   "execution_count": null,
   "metadata": {
    "id": "agnI8ChwumsZ"
   },
   "outputs": [],
   "source": [
    "data = pd.read_csv('vaccine.csv')"
   ]
  },
  {
   "cell_type": "code",
   "execution_count": null,
   "metadata": {
    "colab": {
     "base_uri": "https://localhost:8080/",
     "height": 532
    },
    "id": "i5gaLp7QD6uU",
    "outputId": "be0d5cba-84ba-468d-9756-b50dbf5c5b2f"
   },
   "outputs": [
    {
     "data": {
      "text/html": [
       "<div>\n",
       "<style scoped>\n",
       "    .dataframe tbody tr th:only-of-type {\n",
       "        vertical-align: middle;\n",
       "    }\n",
       "\n",
       "    .dataframe tbody tr th {\n",
       "        vertical-align: top;\n",
       "    }\n",
       "\n",
       "    .dataframe thead th {\n",
       "        text-align: right;\n",
       "    }\n",
       "</style>\n",
       "<table border=\"1\" class=\"dataframe\">\n",
       "  <thead>\n",
       "    <tr style=\"text-align: right;\">\n",
       "      <th></th>\n",
       "      <th>Unnamed: 0</th>\n",
       "      <th>0</th>\n",
       "      <th>Time</th>\n",
       "      <th>Text</th>\n",
       "      <th>Cleaned</th>\n",
       "      <th>cleaned_reviews</th>\n",
       "      <th>Stemmed</th>\n",
       "      <th>StemmedJoined</th>\n",
       "      <th>label</th>\n",
       "    </tr>\n",
       "  </thead>\n",
       "  <tbody>\n",
       "    <tr>\n",
       "      <th>0</th>\n",
       "      <td>0</td>\n",
       "      <td>FDA, CDC advisers say to expect a lot of questions about AstraZeneca COVID-19 vaccine https://t.co/3XSLXjL4OV</td>\n",
       "      <td>3/19/21 15:17</td>\n",
       "      <td>FDA, CDC advisers say to expect a lot of questions about AstraZeneca COVID-19 vaccine https://t.co/3XSLXjL4OV</td>\n",
       "      <td>fda cdc advisers say expect lot questions astrazeneca covid vaccine</td>\n",
       "      <td>['fda', 'cdc', 'advisers', 'say', 'expect', 'lot', 'questions', 'astrazeneca', 'covid', 'vaccine']</td>\n",
       "      <td>['fda', 'cdc', 'advis', 'say', 'expect', 'lot', 'question', 'astrazeneca', 'covid', 'vaccin']</td>\n",
       "      <td>fda cdc advis say expect lot question astrazeneca covid vaccin</td>\n",
       "      <td>0</td>\n",
       "    </tr>\n",
       "    <tr>\n",
       "      <th>1</th>\n",
       "      <td>1</td>\n",
       "      <td>RT @thedailybeast: On this 100th episode of the @NewAbnormalPod, @MollyJongFast also speaks to @RepAuchincloss about the pandemic and how t…</td>\n",
       "      <td>3/19/21 15:17</td>\n",
       "      <td>RT @thedailybeast: On this 100th episode of the @NewAbnormalPod, @MollyJongFast also speaks to @RepAuchincloss about the pandemic and how t…</td>\n",
       "      <td>th episode also speaks pandemic t…</td>\n",
       "      <td>['th', 'episode', 'also', 'speaks', 'pandemic', 't…']</td>\n",
       "      <td>['th', 'episod', 'also', 'speak', 'pandem', 't…']</td>\n",
       "      <td>th episod also speak pandem t…</td>\n",
       "      <td>0</td>\n",
       "    </tr>\n",
       "    <tr>\n",
       "      <th>2</th>\n",
       "      <td>2</td>\n",
       "      <td>RT @lhfang: Pfizer, Moderna, Johnson &amp;amp; Johnson have told investors they will hike prices on vaccines soon and cash in as covid vaccines may…</td>\n",
       "      <td>3/19/21 15:17</td>\n",
       "      <td>RT @lhfang: Pfizer, Moderna, Johnson &amp;amp; Johnson have told investors they will hike prices on vaccines soon and cash in as covid vaccines may…</td>\n",
       "      <td>pfizer moderna johnson amp johnson told investors hike prices vaccines soon cash covid vaccines may…</td>\n",
       "      <td>['pfizer', 'moderna', 'johnson', 'amp', 'johnson', 'told', 'investors', 'hike', 'prices', 'vaccines', 'soon', 'cash', 'covid', 'vaccines', 'may…']</td>\n",
       "      <td>['pfizer', 'moderna', 'johnson', 'amp', 'johnson', 'told', 'investor', 'hike', 'price', 'vaccin', 'soon', 'cash', 'covid', 'vaccin', 'may…']</td>\n",
       "      <td>pfizer moderna johnson amp johnson told investor hike price vaccin soon cash covid vaccin may…</td>\n",
       "      <td>-1</td>\n",
       "    </tr>\n",
       "    <tr>\n",
       "      <th>3</th>\n",
       "      <td>3</td>\n",
       "      <td>Covid: What’s the problem with the EU vaccine rollout? https://t.co/G7NRWl39Fm https://t.co/z0h34vVVfy</td>\n",
       "      <td>3/19/21 15:17</td>\n",
       "      <td>Covid: What’s the problem with the EU vaccine rollout? https://t.co/G7NRWl39Fm https://t.co/z0h34vVVfy</td>\n",
       "      <td>covid what’s problem eu vaccine rollout</td>\n",
       "      <td>['covid', 'what', '’', 's', 'problem', 'eu', 'vaccine', 'rollout']</td>\n",
       "      <td>['covid', 'what', '’', 's', 'problem', 'eu', 'vaccin', 'rollout']</td>\n",
       "      <td>covid what ’ s problem eu vaccin rollout</td>\n",
       "      <td>0</td>\n",
       "    </tr>\n",
       "    <tr>\n",
       "      <th>4</th>\n",
       "      <td>4</td>\n",
       "      <td>RT @thetimesscot: People who develop unusual bruising or a headache that persists more than a few days after vaccination should seek medica…</td>\n",
       "      <td>3/19/21 15:17</td>\n",
       "      <td>RT @thetimesscot: People who develop unusual bruising or a headache that persists more than a few days after vaccination should seek medica…</td>\n",
       "      <td>people develop unusual bruising headache persists days vaccination seek medica…</td>\n",
       "      <td>['people', 'develop', 'unusual', 'bruising', 'headache', 'persists', 'days', 'vaccination', 'seek', 'medica…']</td>\n",
       "      <td>['peopl', 'develop', 'unusu', 'bruis', 'headach', 'persist', 'day', 'vaccin', 'seek', 'medica…']</td>\n",
       "      <td>peopl develop unusu bruis headach persist day vaccin seek medica…</td>\n",
       "      <td>-1</td>\n",
       "    </tr>\n",
       "  </tbody>\n",
       "</table>\n",
       "</div>"
      ],
      "text/plain": [
       "   Unnamed: 0  ... label\n",
       "0  0           ...  0   \n",
       "1  1           ...  0   \n",
       "2  2           ... -1   \n",
       "3  3           ...  0   \n",
       "4  4           ... -1   \n",
       "\n",
       "[5 rows x 9 columns]"
      ]
     },
     "execution_count": 60,
     "metadata": {
      "tags": []
     },
     "output_type": "execute_result"
    }
   ],
   "source": [
    "data.head()"
   ]
  },
  {
   "cell_type": "code",
   "execution_count": null,
   "metadata": {
    "colab": {
     "base_uri": "https://localhost:8080/",
     "height": 548
    },
    "id": "Hh90P0uW6x-l",
    "outputId": "713604ae-9908-4282-b209-c29cf8f2e024"
   },
   "outputs": [
    {
     "data": {
      "text/html": [
       "<div>\n",
       "<style scoped>\n",
       "    .dataframe tbody tr th:only-of-type {\n",
       "        vertical-align: middle;\n",
       "    }\n",
       "\n",
       "    .dataframe tbody tr th {\n",
       "        vertical-align: top;\n",
       "    }\n",
       "\n",
       "    .dataframe thead th {\n",
       "        text-align: right;\n",
       "    }\n",
       "</style>\n",
       "<table border=\"1\" class=\"dataframe\">\n",
       "  <thead>\n",
       "    <tr style=\"text-align: right;\">\n",
       "      <th></th>\n",
       "      <th>Unnamed: 0</th>\n",
       "      <th>0</th>\n",
       "      <th>Time</th>\n",
       "      <th>Text</th>\n",
       "      <th>Cleaned</th>\n",
       "      <th>cleaned_reviews</th>\n",
       "      <th>Stemmed</th>\n",
       "      <th>StemmedJoined</th>\n",
       "      <th>label</th>\n",
       "      <th>length</th>\n",
       "    </tr>\n",
       "  </thead>\n",
       "  <tbody>\n",
       "    <tr>\n",
       "      <th>0</th>\n",
       "      <td>0</td>\n",
       "      <td>FDA, CDC advisers say to expect a lot of questions about AstraZeneca COVID-19 vaccine https://t.co/3XSLXjL4OV</td>\n",
       "      <td>3/19/21 15:17</td>\n",
       "      <td>FDA, CDC advisers say to expect a lot of questions about AstraZeneca COVID-19 vaccine https://t.co/3XSLXjL4OV</td>\n",
       "      <td>fda cdc advisers say expect lot questions astrazeneca covid vaccine</td>\n",
       "      <td>['fda', 'cdc', 'advisers', 'say', 'expect', 'lot', 'questions', 'astrazeneca', 'covid', 'vaccine']</td>\n",
       "      <td>['fda', 'cdc', 'advis', 'say', 'expect', 'lot', 'question', 'astrazeneca', 'covid', 'vaccin']</td>\n",
       "      <td>fda cdc advis say expect lot question astrazeneca covid vaccin</td>\n",
       "      <td>0</td>\n",
       "      <td>62</td>\n",
       "    </tr>\n",
       "    <tr>\n",
       "      <th>1</th>\n",
       "      <td>1</td>\n",
       "      <td>RT @thedailybeast: On this 100th episode of the @NewAbnormalPod, @MollyJongFast also speaks to @RepAuchincloss about the pandemic and how t…</td>\n",
       "      <td>3/19/21 15:17</td>\n",
       "      <td>RT @thedailybeast: On this 100th episode of the @NewAbnormalPod, @MollyJongFast also speaks to @RepAuchincloss about the pandemic and how t…</td>\n",
       "      <td>th episode also speaks pandemic t…</td>\n",
       "      <td>['th', 'episode', 'also', 'speaks', 'pandemic', 't…']</td>\n",
       "      <td>['th', 'episod', 'also', 'speak', 'pandem', 't…']</td>\n",
       "      <td>th episod also speak pandem t…</td>\n",
       "      <td>0</td>\n",
       "      <td>30</td>\n",
       "    </tr>\n",
       "    <tr>\n",
       "      <th>2</th>\n",
       "      <td>2</td>\n",
       "      <td>RT @lhfang: Pfizer, Moderna, Johnson &amp;amp; Johnson have told investors they will hike prices on vaccines soon and cash in as covid vaccines may…</td>\n",
       "      <td>3/19/21 15:17</td>\n",
       "      <td>RT @lhfang: Pfizer, Moderna, Johnson &amp;amp; Johnson have told investors they will hike prices on vaccines soon and cash in as covid vaccines may…</td>\n",
       "      <td>pfizer moderna johnson amp johnson told investors hike prices vaccines soon cash covid vaccines may…</td>\n",
       "      <td>['pfizer', 'moderna', 'johnson', 'amp', 'johnson', 'told', 'investors', 'hike', 'prices', 'vaccines', 'soon', 'cash', 'covid', 'vaccines', 'may…']</td>\n",
       "      <td>['pfizer', 'moderna', 'johnson', 'amp', 'johnson', 'told', 'investor', 'hike', 'price', 'vaccin', 'soon', 'cash', 'covid', 'vaccin', 'may…']</td>\n",
       "      <td>pfizer moderna johnson amp johnson told investor hike price vaccin soon cash covid vaccin may…</td>\n",
       "      <td>-1</td>\n",
       "      <td>94</td>\n",
       "    </tr>\n",
       "    <tr>\n",
       "      <th>3</th>\n",
       "      <td>3</td>\n",
       "      <td>Covid: What’s the problem with the EU vaccine rollout? https://t.co/G7NRWl39Fm https://t.co/z0h34vVVfy</td>\n",
       "      <td>3/19/21 15:17</td>\n",
       "      <td>Covid: What’s the problem with the EU vaccine rollout? https://t.co/G7NRWl39Fm https://t.co/z0h34vVVfy</td>\n",
       "      <td>covid what’s problem eu vaccine rollout</td>\n",
       "      <td>['covid', 'what', '’', 's', 'problem', 'eu', 'vaccine', 'rollout']</td>\n",
       "      <td>['covid', 'what', '’', 's', 'problem', 'eu', 'vaccin', 'rollout']</td>\n",
       "      <td>covid what ’ s problem eu vaccin rollout</td>\n",
       "      <td>0</td>\n",
       "      <td>40</td>\n",
       "    </tr>\n",
       "    <tr>\n",
       "      <th>4</th>\n",
       "      <td>4</td>\n",
       "      <td>RT @thetimesscot: People who develop unusual bruising or a headache that persists more than a few days after vaccination should seek medica…</td>\n",
       "      <td>3/19/21 15:17</td>\n",
       "      <td>RT @thetimesscot: People who develop unusual bruising or a headache that persists more than a few days after vaccination should seek medica…</td>\n",
       "      <td>people develop unusual bruising headache persists days vaccination seek medica…</td>\n",
       "      <td>['people', 'develop', 'unusual', 'bruising', 'headache', 'persists', 'days', 'vaccination', 'seek', 'medica…']</td>\n",
       "      <td>['peopl', 'develop', 'unusu', 'bruis', 'headach', 'persist', 'day', 'vaccin', 'seek', 'medica…']</td>\n",
       "      <td>peopl develop unusu bruis headach persist day vaccin seek medica…</td>\n",
       "      <td>-1</td>\n",
       "      <td>65</td>\n",
       "    </tr>\n",
       "  </tbody>\n",
       "</table>\n",
       "</div>"
      ],
      "text/plain": [
       "   Unnamed: 0  ... length\n",
       "0  0           ...  62   \n",
       "1  1           ...  30   \n",
       "2  2           ...  94   \n",
       "3  3           ...  40   \n",
       "4  4           ...  65   \n",
       "\n",
       "[5 rows x 10 columns]"
      ]
     },
     "execution_count": 79,
     "metadata": {
      "tags": []
     },
     "output_type": "execute_result"
    }
   ],
   "source": [
    "data['length'] = data['StemmedJoined'].apply(len)\n",
    "data.head()"
   ]
  },
  {
   "cell_type": "code",
   "execution_count": null,
   "metadata": {
    "colab": {
     "base_uri": "https://localhost:8080/",
     "height": 277
    },
    "id": "GCproTNCeEPN",
    "outputId": "4b4c662a-0906-4e97-81e8-49304acb6a45"
   },
   "outputs": [
    {
     "data": {
      "text/html": [
       "<div>\n",
       "<style scoped>\n",
       "    .dataframe tbody tr th:only-of-type {\n",
       "        vertical-align: middle;\n",
       "    }\n",
       "\n",
       "    .dataframe tbody tr th {\n",
       "        vertical-align: top;\n",
       "    }\n",
       "\n",
       "    .dataframe thead th {\n",
       "        text-align: right;\n",
       "    }\n",
       "</style>\n",
       "<table border=\"1\" class=\"dataframe\">\n",
       "  <thead>\n",
       "    <tr style=\"text-align: right;\">\n",
       "      <th></th>\n",
       "      <th>Unnamed: 0</th>\n",
       "      <th>label</th>\n",
       "      <th>length</th>\n",
       "    </tr>\n",
       "  </thead>\n",
       "  <tbody>\n",
       "    <tr>\n",
       "      <th>count</th>\n",
       "      <td>83.000000</td>\n",
       "      <td>83.000000</td>\n",
       "      <td>83.000000</td>\n",
       "    </tr>\n",
       "    <tr>\n",
       "      <th>mean</th>\n",
       "      <td>46.349398</td>\n",
       "      <td>0.000000</td>\n",
       "      <td>67.168675</td>\n",
       "    </tr>\n",
       "    <tr>\n",
       "      <th>std</th>\n",
       "      <td>28.364971</td>\n",
       "      <td>0.748983</td>\n",
       "      <td>17.973435</td>\n",
       "    </tr>\n",
       "    <tr>\n",
       "      <th>min</th>\n",
       "      <td>0.000000</td>\n",
       "      <td>-1.000000</td>\n",
       "      <td>16.000000</td>\n",
       "    </tr>\n",
       "    <tr>\n",
       "      <th>25%</th>\n",
       "      <td>22.500000</td>\n",
       "      <td>-1.000000</td>\n",
       "      <td>57.000000</td>\n",
       "    </tr>\n",
       "    <tr>\n",
       "      <th>50%</th>\n",
       "      <td>45.000000</td>\n",
       "      <td>0.000000</td>\n",
       "      <td>71.000000</td>\n",
       "    </tr>\n",
       "    <tr>\n",
       "      <th>75%</th>\n",
       "      <td>69.000000</td>\n",
       "      <td>1.000000</td>\n",
       "      <td>80.000000</td>\n",
       "    </tr>\n",
       "    <tr>\n",
       "      <th>max</th>\n",
       "      <td>98.000000</td>\n",
       "      <td>1.000000</td>\n",
       "      <td>101.000000</td>\n",
       "    </tr>\n",
       "  </tbody>\n",
       "</table>\n",
       "</div>"
      ],
      "text/plain": [
       "       Unnamed: 0      label      length\n",
       "count  83.000000   83.000000  83.000000 \n",
       "mean   46.349398   0.000000   67.168675 \n",
       "std    28.364971   0.748983   17.973435 \n",
       "min    0.000000   -1.000000   16.000000 \n",
       "25%    22.500000  -1.000000   57.000000 \n",
       "50%    45.000000   0.000000   71.000000 \n",
       "75%    69.000000   1.000000   80.000000 \n",
       "max    98.000000   1.000000   101.000000"
      ]
     },
     "execution_count": 80,
     "metadata": {
      "tags": []
     },
     "output_type": "execute_result"
    }
   ],
   "source": [
    "data.describe()"
   ]
  },
  {
   "cell_type": "markdown",
   "metadata": {
    "id": "jvqheudvxdUs"
   },
   "source": [
    "Split data into 80% train and 20% test."
   ]
  },
  {
   "cell_type": "code",
   "execution_count": null,
   "metadata": {
    "colab": {
     "base_uri": "https://localhost:8080/"
    },
    "id": "UwEBPhVEeGYC",
    "outputId": "219c58c2-e33e-44b7-9401-f4a3f719e3c2"
   },
   "outputs": [
    {
     "name": "stdout",
     "output_type": "stream",
     "text": [
      "66 17 83\n"
     ]
    }
   ],
   "source": [
    "from sklearn.model_selection import train_test_split\n",
    "\n",
    "rev_train, rev_test, score_train, score_test =\\\n",
    "train_test_split(data['StemmedJoined'], data['label'], test_size=0.2)\n",
    "\n",
    "print(len(rev_train), len(rev_test), len(rev_train) + len(rev_test))"
   ]
  },
  {
   "cell_type": "markdown",
   "metadata": {
    "id": "yJxnT3jt5hps"
   },
   "source": [
    "Uni-gram Model:"
   ]
  },
  {
   "cell_type": "code",
   "execution_count": null,
   "metadata": {
    "colab": {
     "base_uri": "https://localhost:8080/"
    },
    "id": "SHn_jw7TeQO8",
    "outputId": "9e37c697-33c8-493c-a921-e2fd333a5d9f"
   },
   "outputs": [
    {
     "name": "stdout",
     "output_type": "stream",
     "text": [
      "              precision    recall  f1-score   support\n",
      "\n",
      "          -1       0.00      0.00      0.00         2\n",
      "           0       0.55      0.67      0.60         9\n",
      "           1       0.50      0.33      0.40         6\n",
      "\n",
      "    accuracy                           0.47        17\n",
      "   macro avg       0.35      0.33      0.33        17\n",
      "weighted avg       0.47      0.47      0.46        17\n",
      "\n"
     ]
    }
   ],
   "source": [
    "from sklearn.naive_bayes import MultinomialNB\n",
    "from sklearn.feature_extraction.text import TfidfTransformer\n",
    "\n",
    "pipe = Pipeline([\n",
    "    ('bow', CountVectorizer(ngram_range=(1,1))),  \n",
    "    ('tfidf', TfidfTransformer()),  \n",
    "    (\"clf_linearSVC\", MultinomialNB()),  \n",
    "])\n",
    "\n",
    "pipe.fit(rev_train,score_train)\n",
    "\n",
    "predicted = pipe.predict(rev_test)\n",
    "print(classification_report(predicted,score_test))"
   ]
  },
  {
   "cell_type": "markdown",
   "metadata": {
    "id": "LN1wktiO5XRi"
   },
   "source": [
    "Bi-gram Model:"
   ]
  },
  {
   "cell_type": "code",
   "execution_count": null,
   "metadata": {
    "colab": {
     "base_uri": "https://localhost:8080/"
    },
    "id": "6uTJCDm-5Xb-",
    "outputId": "56fa5234-df2a-4713-a272-7a9bf164dae2"
   },
   "outputs": [
    {
     "name": "stdout",
     "output_type": "stream",
     "text": [
      "              precision    recall  f1-score   support\n",
      "\n",
      "          -1       0.00      0.00      0.00         0\n",
      "           0       0.91      0.62      0.74        16\n",
      "           1       0.00      0.00      0.00         1\n",
      "\n",
      "    accuracy                           0.59        17\n",
      "   macro avg       0.30      0.21      0.25        17\n",
      "weighted avg       0.86      0.59      0.70        17\n",
      "\n"
     ]
    }
   ],
   "source": [
    "from sklearn.naive_bayes import MultinomialNB\n",
    "from sklearn.feature_extraction.text import TfidfTransformer\n",
    "\n",
    "pipe2 = Pipeline([\n",
    "    ('bow', CountVectorizer(ngram_range=(2,3))),  \n",
    "    ('tfidf', TfidfTransformer()),  \n",
    "    (\"clf_linearSVC\", MultinomialNB()),  \n",
    "])\n",
    "\n",
    "pipe2.fit(rev_train,score_train)\n",
    "\n",
    "predicted = pipe2.predict(rev_test)\n",
    "print(classification_report(predicted,score_test))"
   ]
  },
  {
   "cell_type": "markdown",
   "metadata": {
    "id": "xnZTlhrf7Ycz"
   },
   "source": [
    "## Support Vector Machine:"
   ]
  },
  {
   "cell_type": "markdown",
   "metadata": {
    "id": "rgcfrshJ7n6f"
   },
   "source": [
    "Uni-gram Model:"
   ]
  },
  {
   "cell_type": "code",
   "execution_count": null,
   "metadata": {
    "colab": {
     "base_uri": "https://localhost:8080/"
    },
    "id": "xjFNS8N97YE2",
    "outputId": "0c4cd70c-0e97-4262-db88-3e744d4e7e8e"
   },
   "outputs": [
    {
     "name": "stdout",
     "output_type": "stream",
     "text": [
      "              precision    recall  f1-score   support\n",
      "\n",
      "          -1       0.00      0.00      0.00         3\n",
      "           0       0.45      0.71      0.56         7\n",
      "           1       0.75      0.43      0.55         7\n",
      "\n",
      "    accuracy                           0.47        17\n",
      "   macro avg       0.40      0.38      0.37        17\n",
      "weighted avg       0.50      0.47      0.45        17\n",
      "\n"
     ]
    }
   ],
   "source": [
    "from sklearn.svm import LinearSVC\n",
    "\n",
    "clf_linearSVC_pipe = Pipeline([\n",
    "    ('bow', CountVectorizer(ngram_range=(1,1))),  \n",
    "    ('tfidf', TfidfTransformer()),  \n",
    "    (\"clf_linearSVC\", LinearSVC()),  \n",
    "])\n",
    "\n",
    "clf_linearSVC_pipe.fit(rev_train,score_train)\n",
    "\n",
    "predictedLinearSVC = clf_linearSVC_pipe.predict(rev_test)\n",
    "print(classification_report(predictedLinearSVC,score_test))"
   ]
  },
  {
   "cell_type": "markdown",
   "metadata": {
    "id": "KTmAF13f7sLf"
   },
   "source": [
    "Bi-gram Model:"
   ]
  },
  {
   "cell_type": "code",
   "execution_count": null,
   "metadata": {
    "colab": {
     "base_uri": "https://localhost:8080/"
    },
    "id": "V72SrfZV7sTt",
    "outputId": "b5f7c02e-9f94-40ee-f26d-bf8b1e0f17db"
   },
   "outputs": [
    {
     "name": "stdout",
     "output_type": "stream",
     "text": [
      "              precision    recall  f1-score   support\n",
      "\n",
      "          -1       0.00      0.00      0.00         0\n",
      "           0       0.82      0.69      0.75        13\n",
      "           1       0.25      0.25      0.25         4\n",
      "\n",
      "    accuracy                           0.59        17\n",
      "   macro avg       0.36      0.31      0.33        17\n",
      "weighted avg       0.68      0.59      0.63        17\n",
      "\n"
     ]
    }
   ],
   "source": [
    "from sklearn.svm import LinearSVC\n",
    "\n",
    "clf_linearSVC_pipe = Pipeline([\n",
    "    ('bow', CountVectorizer(ngram_range=(2,3))),  \n",
    "    ('tfidf', TfidfTransformer()),  \n",
    "    (\"clf_linearSVC\", LinearSVC()),  \n",
    "])\n",
    "\n",
    "clf_linearSVC_pipe.fit(rev_train,score_train)\n",
    "\n",
    "predictedLinearSVC = clf_linearSVC_pipe.predict(rev_test)\n",
    "print(classification_report(predictedLinearSVC,score_test))"
   ]
  },
  {
   "cell_type": "markdown",
   "metadata": {
    "id": "NeMR9lNS72vE"
   },
   "source": [
    "## Decision Trees"
   ]
  },
  {
   "cell_type": "markdown",
   "metadata": {
    "id": "u22mzJA-8VTi"
   },
   "source": [
    "Uni-gram Model:"
   ]
  },
  {
   "cell_type": "code",
   "execution_count": null,
   "metadata": {
    "colab": {
     "base_uri": "https://localhost:8080/"
    },
    "id": "du-voFhk8R1_",
    "outputId": "ab91633e-606e-49fb-ffbb-5181ac77e943"
   },
   "outputs": [
    {
     "name": "stdout",
     "output_type": "stream",
     "text": [
      "              precision    recall  f1-score   support\n",
      "\n",
      "          -1       0.00      0.00      0.00         0\n",
      "           0       0.64      0.64      0.64        11\n",
      "           1       0.25      0.17      0.20         6\n",
      "\n",
      "    accuracy                           0.47        17\n",
      "   macro avg       0.30      0.27      0.28        17\n",
      "weighted avg       0.50      0.47      0.48        17\n",
      "\n"
     ]
    }
   ],
   "source": [
    "from sklearn.tree import DecisionTreeClassifier\n",
    "\n",
    "clf_decisionTree_pipe = Pipeline([\n",
    "    ('bow', CountVectorizer(ngram_range=(1, 1))),  \n",
    "    ('tfidf', TfidfTransformer()),  \n",
    "    (\"clf_decisionTree\", DecisionTreeClassifier()),  \n",
    "])\n",
    "\n",
    "clf_decisionTree_pipe.fit(rev_train,score_train)\n",
    "\n",
    "predictedDecisionTree  = clf_decisionTree_pipe.predict(rev_test)\n",
    "print(classification_report(predictedDecisionTree,score_test))"
   ]
  },
  {
   "cell_type": "markdown",
   "metadata": {
    "id": "OGFQ3LSn8Xqg"
   },
   "source": [
    "Bi-gram Model:"
   ]
  },
  {
   "cell_type": "code",
   "execution_count": null,
   "metadata": {
    "colab": {
     "base_uri": "https://localhost:8080/"
    },
    "id": "oBNXEAds8ZXm",
    "outputId": "3b9b9655-dce3-443c-fb63-1cdbd76ff537"
   },
   "outputs": [
    {
     "name": "stdout",
     "output_type": "stream",
     "text": [
      "              precision    recall  f1-score   support\n",
      "\n",
      "          -1       0.00      0.00      0.00         9\n",
      "           0       0.55      0.75      0.63         8\n",
      "           1       0.00      0.00      0.00         0\n",
      "\n",
      "    accuracy                           0.35        17\n",
      "   macro avg       0.18      0.25      0.21        17\n",
      "weighted avg       0.26      0.35      0.30        17\n",
      "\n"
     ]
    }
   ],
   "source": [
    "from sklearn.tree import DecisionTreeClassifier\n",
    "\n",
    "clf_decisionTree_pipe = Pipeline([\n",
    "    ('bow', CountVectorizer(ngram_range=(2, 3))),  \n",
    "    ('tfidf', TfidfTransformer()),  \n",
    "    (\"clf_decisionTree\", DecisionTreeClassifier()),  \n",
    "])\n",
    "\n",
    "clf_decisionTree_pipe.fit(rev_train,score_train)\n",
    "\n",
    "predictedDecisionTree  = clf_decisionTree_pipe.predict(rev_test)\n",
    "print(classification_report(predictedDecisionTree,score_test))"
   ]
  },
  {
   "cell_type": "markdown",
   "metadata": {
    "id": "oDdRL0E9xkwz"
   },
   "source": [
    "Creating pie chart of positive, neutral and negative tweets:"
   ]
  },
  {
   "cell_type": "code",
   "execution_count": null,
   "metadata": {
    "id": "GTQSz4J1gAb6"
   },
   "outputs": [],
   "source": [
    "positive = 0\n",
    "negative = 0\n",
    "neutral = 0\n",
    "polarity = 0\n",
    "\n",
    "for i in data['label']: \n",
    "   \n",
    "    if(i == 0):\n",
    "        neutral += 1\n",
    "       \n",
    "    elif(i < 0.00):\n",
    "        negative += 1\n",
    "\n",
    "    elif(i > 0.00):\n",
    "        positive += 1"
   ]
  },
  {
   "cell_type": "code",
   "execution_count": null,
   "metadata": {
    "id": "F2uGzCyJed1j"
   },
   "outputs": [],
   "source": [
    "def percentage(part, whole):\n",
    "    return 100 * float(part)/float(whole)"
   ]
  },
  {
   "cell_type": "code",
   "execution_count": null,
   "metadata": {
    "id": "P6GZSTP5gAei"
   },
   "outputs": [],
   "source": [
    "positive = percentage(positive, NoOfTweets)\n",
    "negative = percentage(negative, NoOfTweets)\n",
    "neutral  = percentage(neutral, NoOfTweets)\n",
    "polarity  = percentage(polarity, NoOfTweets)"
   ]
  },
  {
   "cell_type": "code",
   "execution_count": null,
   "metadata": {
    "id": "3bnvrOBtgAhu"
   },
   "outputs": [],
   "source": [
    "# Limit the decimal upto 2 places #\n",
    "positive = format(positive, '.2f')\n",
    "negative = format(negative, '.2f')\n",
    "neutral = format(neutral, '.2f')"
   ]
  },
  {
   "cell_type": "code",
   "execution_count": null,
   "metadata": {
    "colab": {
     "base_uri": "https://localhost:8080/"
    },
    "id": "cZhDjQKDftwG",
    "outputId": "aa1789f4-4a01-4cb4-994a-8935ff17810c"
   },
   "outputs": [
    {
     "name": "stdout",
     "output_type": "stream",
     "text": [
      "41.11\n"
     ]
    }
   ],
   "source": [
    "print(neutral)"
   ]
  },
  {
   "cell_type": "code",
   "execution_count": null,
   "metadata": {
    "colab": {
     "base_uri": "https://localhost:8080/"
    },
    "id": "Pl-Ban6qglSv",
    "outputId": "fc87c929-c65e-4bd5-fe94-a0709b9a9895"
   },
   "outputs": [
    {
     "name": "stdout",
     "output_type": "stream",
     "text": [
      "How people are reacting on covid vaccine By analyzing100 Tweets \n",
      "Neutral\n"
     ]
    }
   ],
   "source": [
    "print(\"How people are reacting on \" + searchTerm + \n",
    "      \" By analyzing\" + str(NoOfTerms) + \" Tweets \")\n",
    "\n",
    "if (polarity == 0):\n",
    "    print(\"Neutral\")\n",
    "    \n",
    "elif (polarity < 0.00):\n",
    "    print(\"Negative\")\n",
    "    \n",
    "elif (polarity > 0.00):\n",
    "    print(\"Positive\")"
   ]
  },
  {
   "cell_type": "code",
   "execution_count": null,
   "metadata": {
    "colab": {
     "base_uri": "https://localhost:8080/",
     "height": 297
    },
    "id": "8u6J0EWjglXk",
    "outputId": "00ddc519-afab-46b6-d755-af9b23728909"
   },
   "outputs": [
    {
     "data": {
      "image/png": "[encoded data removed]",
      "text/plain": [
       "<Figure size 432x288 with 1 Axes>"
      ]
     },
     "metadata": {
      "tags": []
     },
     "output_type": "display_data"
    }
   ],
   "source": [
    "labels = ['Positive ['+str(positive)+'%]', \n",
    "          'Neutral ['+str(neutral)+'%]', \n",
    "          'Negative ['+str(negative)+'%]']\n",
    "\n",
    "sizes = [positive, neutral, negative]\n",
    "colors = ['yellowgreen', 'gold', 'red']\n",
    "patches, texts = plt.pie(sizes, colors = colors, startangle = 90)\n",
    "plt.legend(patches, labels, loc = \"best\")\n",
    "plt.title('How people are reacting on  '\n",
    "          +searchTerm+' by analyzing '\n",
    "          +str(NoOfTerms)+' Tweets ')\n",
    "plt.axis('equal')\n",
    "plt.tight_layout()\n",
    "plt.show()"
   ]
  },
  {
   "cell_type": "code",
   "execution_count": null,
   "metadata": {
    "colab": {
     "base_uri": "https://localhost:8080/",
     "height": 281
    },
    "id": "lM8TMPMmh0TO",
    "outputId": "36091a2a-66f9-4262-a5fb-11a1af7e0640"
   },
   "outputs": [
    {
     "data": {
      "text/plain": [
       "<matplotlib.axes._subplots.AxesSubplot at 0x7fbdf5dca790>"
      ]
     },
     "execution_count": 78,
     "metadata": {
      "tags": []
     },
     "output_type": "execute_result"
    },
    {
     "data": {
      "image/png": "[encoded data removed]",
      "text/plain": [
       "<Figure size 432x288 with 1 Axes>"
      ]
     },
     "metadata": {
      "needs_background": "light",
      "tags": []
     },
     "output_type": "display_data"
    }
   ],
   "source": [
    "data['label'].plot(bins=50, kind='hist') "
   ]
  },
  {
   "cell_type": "code",
   "execution_count": null,
   "metadata": {
    "colab": {
     "base_uri": "https://localhost:8080/",
     "height": 802
    },
    "id": "HA7Bdg7i6W8j",
    "outputId": "2e118f36-3f8d-41b3-d4fc-d4ece463bc19"
   },
   "outputs": [
    {
     "data": {
      "text/plain": [
       "array([[<matplotlib.axes._subplots.AxesSubplot object at 0x7fbdf54c1a50>,\n",
       "        <matplotlib.axes._subplots.AxesSubplot object at 0x7fbdf54696d0>],\n",
       "       [<matplotlib.axes._subplots.AxesSubplot object at 0x7fbdf549bd50>,\n",
       "        <matplotlib.axes._subplots.AxesSubplot object at 0x7fbdf5458410>]],\n",
       "      dtype=object)"
      ]
     },
     "execution_count": 81,
     "metadata": {
      "tags": []
     },
     "output_type": "execute_result"
    },
    {
     "data": {
      "image/png": "[encoded data removed]",
      "text/plain": [
       "<Figure size 864x864 with 4 Axes>"
      ]
     },
     "metadata": {
      "needs_background": "light",
      "tags": []
     },
     "output_type": "display_data"
    }
   ],
   "source": [
    "data.hist(column='length', by='label', bins=50,figsize=(12,12))"
   ]
  },
  {
   "cell_type": "code",
   "execution_count": null,
   "metadata": {
    "id": "bO489pbP6_A8"
   },
   "outputs": [],
   "source": []
  }
 ],
 "metadata": {
  "colab": {
   "collapsed_sections": [],
   "name": "F21AA_CW2_Notebook",
   "provenance": [],
   "toc_visible": true
  },
  "kernelspec": {
   "display_name": "Python 3",
   "language": "python",
   "name": "python3"
  },
  "language_info": {
   "codemirror_mode": {
    "name": "ipython",
    "version": 3
   },
   "file_extension": ".py",
   "mimetype": "text/x-python",
   "name": "python",
   "nbconvert_exporter": "python",
   "pygments_lexer": "ipython3",
   "version": "3.8.5"
  }
 },
 "nbformat": 4,
 "nbformat_minor": 1
}
